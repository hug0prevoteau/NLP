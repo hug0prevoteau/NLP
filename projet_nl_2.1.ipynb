{
 "cells": [
  {
   "cell_type": "markdown",
   "metadata": {},
   "source": [
    "Authors: **Christophe HAIKAL and Hugo PREVOTEAU**"
   ]
  },
  {
   "cell_type": "markdown",
   "metadata": {},
   "source": [
    "# NLP Project 2"
   ]
  },
  {
   "cell_type": "markdown",
   "metadata": {},
   "source": [
    "## Menu\n",
    "**Our work is divided in the following parts: <br>**\n",
    "[Imports](#Imports): importing libraries and data<br>\n",
    "[Preprocessing](#Preprocessing): scrapping the XML file to create our dataframe\n",
    "\n",
    "**Our two tested approaches: <br>**\n",
    "[TF-IDF](#TF-IDF)<br>\n",
    "[Doc2Vec](#Doc2Vec)"
   ]
  },
  {
   "cell_type": "markdown",
   "metadata": {},
   "source": [
    "For this project we decided to use two different approaches, the first one would be the TF-IDF (the one from the first project) as well as a Doc2Vec model (that we also used in the first project). These two approaches provide vector representations for each document, and allows us to perform classification as well as regression tasks."
   ]
  },
  {
   "cell_type": "markdown",
   "metadata": {},
   "source": [
    "[Conclusion](#Conclusion)"
   ]
  },
  {
   "cell_type": "markdown",
   "metadata": {},
   "source": [
    "# Imports"
   ]
  },
  {
   "cell_type": "markdown",
   "metadata": {},
   "source": [
    "### Libraries"
   ]
  },
  {
   "cell_type": "code",
   "execution_count": 68,
   "metadata": {},
   "outputs": [],
   "source": [
    "import pandas as pd\n",
    "import numpy as np\n",
    "import re\n",
    "from wordcloud import WordCloud\n",
    "from collections import Counter\n",
    "from bs4 import BeautifulSoup\n",
    "from sklearn.feature_extraction.text import CountVectorizer\n",
    "import plotly.express as px\n",
    "import seaborn as sns\n",
    "import matplotlib.pyplot as plt\n",
    "import gensim\n",
    "import matplotlib.cm as cm\n",
    "from sklearn.preprocessing import MinMaxScaler"
   ]
  },
  {
   "cell_type": "code",
   "execution_count": 69,
   "metadata": {},
   "outputs": [],
   "source": [
    "import warnings\n",
    "warnings.filterwarnings('ignore')"
   ]
  },
  {
   "cell_type": "markdown",
   "metadata": {},
   "source": [
    "### Gathering the data"
   ]
  },
  {
   "cell_type": "code",
   "execution_count": 70,
   "metadata": {},
   "outputs": [],
   "source": [
    "infile = open(\"C:/Users/hugop/Desktop/corpus-taln/corpus_taln_v1.tei.xml\",\"r\", encoding='UTF-8')\n",
    "contents = infile.read()\n",
    "soup = BeautifulSoup(contents,'xml')"
   ]
  },
  {
   "cell_type": "code",
   "execution_count": 71,
   "metadata": {},
   "outputs": [],
   "source": [
    "soup.bibl.clear()"
   ]
  },
  {
   "cell_type": "markdown",
   "metadata": {},
   "source": [
    "# Preprocessing"
   ]
  },
  {
   "cell_type": "markdown",
   "metadata": {},
   "source": [
    "#### Scrapping"
   ]
  },
  {
   "cell_type": "markdown",
   "metadata": {},
   "source": [
    "*We use the XML tags to retrieve information that we want, using beaufitul soup, since XML and HTML work the same way*"
   ]
  },
  {
   "cell_type": "markdown",
   "metadata": {},
   "source": [
    "*authors*"
   ]
  },
  {
   "cell_type": "code",
   "execution_count": 72,
   "metadata": {},
   "outputs": [],
   "source": [
    "author = soup.find_all('text')"
   ]
  },
  {
   "cell_type": "code",
   "execution_count": 73,
   "metadata": {},
   "outputs": [],
   "source": [
    "selector = {'xml:lang':[\"fr\",\"en\"]}\n",
    "titles = soup.find_all('title', selector)"
   ]
  },
  {
   "cell_type": "code",
   "execution_count": 74,
   "metadata": {},
   "outputs": [],
   "source": [
    "title = []\n",
    "for x in titles:\n",
    "    title.append(x.text.replace('\\n',''))\n",
    "title = list(dict.fromkeys(title))"
   ]
  },
  {
   "cell_type": "code",
   "execution_count": 75,
   "metadata": {},
   "outputs": [],
   "source": [
    "titles_list = []\n",
    "for x in titles:\n",
    "    titles_list.append(str(x))"
   ]
  },
  {
   "cell_type": "code",
   "execution_count": 76,
   "metadata": {},
   "outputs": [],
   "source": [
    "titles_list = list(dict.fromkeys(titles_list))"
   ]
  },
  {
   "cell_type": "markdown",
   "metadata": {},
   "source": [
    "*languages*"
   ]
  },
  {
   "cell_type": "code",
   "execution_count": 77,
   "metadata": {},
   "outputs": [],
   "source": [
    "language = []\n",
    "for x in titles_list:\n",
    "    language.append(re.search('\\\"(.*)\\\"', x).group(1))"
   ]
  },
  {
   "cell_type": "markdown",
   "metadata": {},
   "source": [
    "*texts*"
   ]
  },
  {
   "cell_type": "code",
   "execution_count": 78,
   "metadata": {},
   "outputs": [],
   "source": [
    "paragraphs = []\n",
    "for x in author:\n",
    "    paragraphs.append(BeautifulSoup(str(x), \"lxml\").text.replace('\\n\\n\\n\\n\\n',' ').replace('\\n\\n\\n\\n',' ').replace('\\n\\n\\n',' ').replace('\\n\\n',' ').replace('\\n',' ').replace(\"\\'\",\"\").replace('None ','').replace('  ',' '))"
   ]
  },
  {
   "cell_type": "code",
   "execution_count": 79,
   "metadata": {},
   "outputs": [],
   "source": [
    "paragraphs_clean = []\n",
    "regex = re.compile(\".?((.?))\")\n",
    "for x in paragraphs:\n",
    "    paragraphs_clean.append(re.sub(\"([\\(\\[]).*?([\\)\\]])\", \"\\g<1>\\g<2>\", x).replace('[]', '').replace('()', '').replace('  ', ' ').replace(' .','.'))\n",
    "paragraphs_clean = list(dict.fromkeys(paragraphs_clean))"
   ]
  },
  {
   "cell_type": "markdown",
   "metadata": {},
   "source": [
    "*dates*"
   ]
  },
  {
   "cell_type": "code",
   "execution_count": 80,
   "metadata": {},
   "outputs": [],
   "source": [
    "dates = soup.find_all('imprint') #we use this tag because its unique in each article, avoids duplicates"
   ]
  },
  {
   "cell_type": "markdown",
   "metadata": {},
   "source": [
    "*conference*"
   ]
  },
  {
   "cell_type": "code",
   "execution_count": 81,
   "metadata": {},
   "outputs": [],
   "source": [
    "conf = soup.find_all('fileDesc', {\"xml:id\": re.compile('^r|t')})"
   ]
  },
  {
   "cell_type": "code",
   "execution_count": 82,
   "metadata": {},
   "outputs": [],
   "source": [
    "conf = conf[1:] ##supprimer le fileDesc qui correspond à la description du fichier xml"
   ]
  },
  {
   "cell_type": "code",
   "execution_count": 83,
   "metadata": {},
   "outputs": [],
   "source": [
    "conferences = []\n",
    "for x in conf:\n",
    "    conferences.append(str(x).replace('-', '\"'))"
   ]
  },
  {
   "cell_type": "code",
   "execution_count": 84,
   "metadata": {},
   "outputs": [],
   "source": [
    "conferences_clean = []\n",
    "for x in conferences:\n",
    "    conferences_clean.append(re.search('\\\"(.*)\\\"', x).group(1))"
   ]
  },
  {
   "cell_type": "code",
   "execution_count": 85,
   "metadata": {},
   "outputs": [],
   "source": [
    "conferences_clean_2 = []\n",
    "for x in conferences_clean:\n",
    "    if x[0] == 't':\n",
    "        x = x[0:4]\n",
    "    else:\n",
    "        x = x[0:7]\n",
    "    conferences_clean_2.append(x)"
   ]
  },
  {
   "cell_type": "code",
   "execution_count": 86,
   "metadata": {},
   "outputs": [],
   "source": [
    "date = []\n",
    "for x in dates:\n",
    "    date.append(x.get_text().replace('\\n',''))"
   ]
  },
  {
   "cell_type": "markdown",
   "metadata": {},
   "source": [
    "*Once we scrapped all the data we can zip the lists into a single pandas dataframe that we'll use later*"
   ]
  },
  {
   "cell_type": "code",
   "execution_count": 87,
   "metadata": {},
   "outputs": [],
   "source": [
    "#filling a dataframe with the scrapped data\n",
    "df = pd.DataFrame(list(zip(paragraphs_clean, language,title, date,conferences_clean_2)), columns =['Text', 'Language','name', 'date', 'conference'])"
   ]
  },
  {
   "cell_type": "code",
   "execution_count": 88,
   "metadata": {},
   "outputs": [],
   "source": [
    "df_fr = df[df['Language'] == 'fr'] #we focus on french papers only for this part"
   ]
  },
  {
   "cell_type": "code",
   "execution_count": 89,
   "metadata": {},
   "outputs": [],
   "source": [
    "df_fr = df_fr[df_fr['Text'].str.len() > 2570] #we delete the articles with no text body"
   ]
  },
  {
   "cell_type": "code",
   "execution_count": 90,
   "metadata": {},
   "outputs": [
    {
     "data": {
      "text/plain": [
       "Counter({'taln': 1089, 'recital': 196})"
      ]
     },
     "execution_count": 90,
     "metadata": {},
     "output_type": "execute_result"
    }
   ],
   "source": [
    "Counter(list(df_fr['conference']))"
   ]
  },
  {
   "cell_type": "markdown",
   "metadata": {},
   "source": [
    "#### Lowercasing the text"
   ]
  },
  {
   "cell_type": "code",
   "execution_count": 91,
   "metadata": {},
   "outputs": [
    {
     "data": {
      "text/plain": [
       "0    nous considérons dans notre travail la tâche d...\n",
       "1    nous donnons ici un aperçu du logiciel decid d...\n",
       "3    le terme de lambda-drt désigne un ensemble de ...\n",
       "4    dans cet article, nous comparons deux modèles ...\n",
       "5    dans le cadre des approches à base de grammair...\n",
       "Name: Text, dtype: object"
      ]
     },
     "execution_count": 91,
     "metadata": {},
     "output_type": "execute_result"
    }
   ],
   "source": [
    "df_fr['Text'] = df_fr['Text'].apply(lambda x: \" \".join(x.lower() for x in x.split()))\n",
    "df_fr['Text'].head()"
   ]
  },
  {
   "cell_type": "markdown",
   "metadata": {},
   "source": [
    "#### Removing the stopwords"
   ]
  },
  {
   "cell_type": "code",
   "execution_count": 92,
   "metadata": {},
   "outputs": [
    {
     "data": {
      "text/plain": [
       "0    considérons travail tâche traitement automatiq...\n",
       "1    donnons ici aperçu logiciel decid développé ge...\n",
       "3    terme lambda-drt désigne ensemble méthodes per...\n",
       "4    cet article, comparons deux modèles linguistiq...\n",
       "5    cadre approches base grammaires faiblement sen...\n",
       "Name: Text, dtype: object"
      ]
     },
     "execution_count": 92,
     "metadata": {},
     "output_type": "execute_result"
    }
   ],
   "source": [
    "from nltk.corpus import stopwords\n",
    "stop = stopwords.words('french')\n",
    "df_fr['Text'] = df_fr['Text'].apply(lambda x: \" \".join(x for x in x.split() if x not in stop))\n",
    "df_fr['Text'].head()"
   ]
  },
  {
   "cell_type": "markdown",
   "metadata": {},
   "source": [
    "#### Removing the punctuation"
   ]
  },
  {
   "cell_type": "code",
   "execution_count": 93,
   "metadata": {},
   "outputs": [],
   "source": [
    "df_fr['Text'] = df_fr['Text'].str.replace('[^\\w\\s]','')"
   ]
  },
  {
   "cell_type": "markdown",
   "metadata": {},
   "source": [
    "#### Lemmatization"
   ]
  },
  {
   "cell_type": "markdown",
   "metadata": {},
   "source": [
    "*We didn't use this, since we think that the french lemmatizer is not good enough*"
   ]
  },
  {
   "cell_type": "raw",
   "metadata": {},
   "source": [
    "from french_lefff_lemmatizer.french_lefff_lemmatizer import FrenchLefffLemmatizer\n",
    "lemmatizerFR = FrenchLefffLemmatizer()\n",
    "df_fr['Text'] = df_fr.apply(lambda x: \" \".join([lemmatizerFR.lemmatize(word) for word in x['Text'].split()]), axis = 1)"
   ]
  },
  {
   "cell_type": "markdown",
   "metadata": {},
   "source": [
    "#### Stemming"
   ]
  },
  {
   "cell_type": "code",
   "execution_count": 94,
   "metadata": {},
   "outputs": [],
   "source": [
    "df_fr['Text_no_stemming'] = df_fr['Text']"
   ]
  },
  {
   "cell_type": "code",
   "execution_count": 95,
   "metadata": {},
   "outputs": [],
   "source": [
    "from nltk.stem.snowball import FrenchStemmer\n",
    "stemmerFR = FrenchStemmer()\n",
    "df_fr['Text'] = df_fr.apply(lambda x: \" \".join([stemmerFR.stem(word) for word in x['Text'].split()]), axis = 1)"
   ]
  },
  {
   "cell_type": "code",
   "execution_count": 96,
   "metadata": {},
   "outputs": [
    {
     "data": {
      "text/plain": [
       "0    considéron travail tâch trait automat vis cons...\n",
       "1    donnon ici aperçu logiciel decid développ get ...\n",
       "3    term lambdadrt désign ensembl méthod permet co...\n",
       "4    cet articl comparon deux model linguist utilis...\n",
       "5    cadr approch bas grammair faibl sensibl contex...\n",
       "Name: Text, dtype: object"
      ]
     },
     "execution_count": 96,
     "metadata": {},
     "output_type": "execute_result"
    }
   ],
   "source": [
    "df_fr['Text'].head()"
   ]
  },
  {
   "cell_type": "code",
   "execution_count": 97,
   "metadata": {},
   "outputs": [],
   "source": [
    "def CountFrequency(my_list): \n",
    "  \n",
    "    # Creating an empty dictionary  \n",
    "    freq = {} \n",
    "    for item in my_list: \n",
    "        if (item in freq): \n",
    "            freq[item] += 1\n",
    "        else: \n",
    "            freq[item] = 1\n",
    "  \n",
    "    for key, value in freq.items(): \n",
    "        print (\"% d : % d\"%(key, value)) "
   ]
  },
  {
   "cell_type": "code",
   "execution_count": 98,
   "metadata": {
    "scrolled": true
   },
   "outputs": [
    {
     "name": "stdout",
     "output_type": "stream",
     "text": [
      " 1997 :  2\n",
      " 1998 :  12\n",
      " 1999 :  31\n",
      " 2000 :  13\n",
      " 2001 :  29\n",
      " 2002 :  47\n",
      " 2003 :  45\n",
      " 2004 :  65\n",
      " 2005 :  66\n",
      " 2006 :  63\n",
      " 2007 :  81\n",
      " 2008 :  62\n",
      " 2009 :  96\n",
      " 2010 :  85\n",
      " 2011 :  95\n",
      " 2012 :  69\n",
      " 2013 :  59\n",
      " 2014 :  86\n",
      " 2015 :  78\n",
      " 2016 :  45\n",
      " 2017 :  52\n",
      " 2018 :  68\n",
      " 2019 :  36\n"
     ]
    }
   ],
   "source": [
    "CountFrequency(sorted(pd.to_numeric(df_fr['date'])))"
   ]
  },
  {
   "cell_type": "markdown",
   "metadata": {},
   "source": [
    "# TF-IDF"
   ]
  },
  {
   "cell_type": "markdown",
   "metadata": {},
   "source": [
    "We start with the TD-IDF, that will provide vectors for the documents. One of the main pros of TF-IDF is that it automatically deletes the stopwords relative to the papers themselves (for example talking about NLP, the word \"corpus\" may be a stopword, since it appears in almost all of the documents). On the other hand the french stopwords from the NLTK library are not as great as the english ones, one more reason to rely on the TF-IDF."
   ]
  },
  {
   "cell_type": "code",
   "execution_count": 99,
   "metadata": {},
   "outputs": [],
   "source": [
    "from sklearn.utils import shuffle\n",
    "df_fr = shuffle(df_fr, random_state=1)"
   ]
  },
  {
   "cell_type": "code",
   "execution_count": 100,
   "metadata": {},
   "outputs": [
    {
     "name": "stdout",
     "output_type": "stream",
     "text": [
      "Wall time: 2.41 s\n",
      "(1285, 849)\n"
     ]
    }
   ],
   "source": [
    "from sklearn.feature_extraction.text import TfidfVectorizer\n",
    "\n",
    "#define vectorizer parameters\n",
    "tfidf_vectorizer = TfidfVectorizer(max_df=0.8, max_features=200000,\n",
    "                                 min_df=0.2,\n",
    "                                 use_idf=True, ngram_range=(1,1), stop_words=['proceedings','proceeding'])\n",
    "\n",
    "%time tfidf_matrix = tfidf_vectorizer.fit_transform(list(df_fr['Text'])) #fit the vectorizer to reviews\n",
    "print(tfidf_matrix.shape)"
   ]
  },
  {
   "cell_type": "code",
   "execution_count": 101,
   "metadata": {},
   "outputs": [],
   "source": [
    "a = tfidf_matrix.toarray()\n",
    "a = a.tolist()\n",
    "\n",
    "X_train = a[:1000]\n",
    "y_train = list(df_fr['date'])[:1000]\n",
    "X_test = a[1000:]\n",
    "y_test = list(df_fr['date'])[1000:]"
   ]
  },
  {
   "cell_type": "code",
   "execution_count": 102,
   "metadata": {},
   "outputs": [],
   "source": [
    "a = []\n",
    "for item in y_train:\n",
    "    a.append(float(item))\n",
    "    \n",
    "y_train = a\n",
    "\n",
    "\n",
    "a = []\n",
    "for item in y_test:\n",
    "    a.append(float(item))\n",
    "    \n",
    "y_test = a"
   ]
  },
  {
   "cell_type": "markdown",
   "metadata": {},
   "source": [
    "### Dummy Classifier (as baseline)"
   ]
  },
  {
   "cell_type": "markdown",
   "metadata": {},
   "source": [
    "We use the Dummy Classifier as a beseline for our classification methods. The dummy classifier is a naive method that always predicts the most frequent class (hence, maximizing the performance of a naive classifier)."
   ]
  },
  {
   "cell_type": "code",
   "execution_count": 44,
   "metadata": {},
   "outputs": [
    {
     "data": {
      "text/plain": [
       "DummyClassifier(strategy='most_frequent')"
      ]
     },
     "execution_count": 44,
     "metadata": {},
     "output_type": "execute_result"
    }
   ],
   "source": [
    "from sklearn.dummy import DummyClassifier\n",
    "dummy_clf = DummyClassifier(strategy=\"most_frequent\")\n",
    "dummy_clf.fit(X_train, y_train)"
   ]
  },
  {
   "cell_type": "markdown",
   "metadata": {},
   "source": [
    "So here we can see that our Dummy Classifier gets 7.36% of accuracy"
   ]
  },
  {
   "cell_type": "code",
   "execution_count": 45,
   "metadata": {
    "scrolled": true
   },
   "outputs": [
    {
     "data": {
      "text/plain": [
       "0.07368421052631578"
      ]
     },
     "execution_count": 45,
     "metadata": {},
     "output_type": "execute_result"
    }
   ],
   "source": [
    "dummy_clf.score(X_test, y_test)"
   ]
  },
  {
   "cell_type": "markdown",
   "metadata": {},
   "source": [
    "### KNN"
   ]
  },
  {
   "cell_type": "markdown",
   "metadata": {},
   "source": [
    "We try using the KNN for classification, a very simple algorithm that usually performs fine"
   ]
  },
  {
   "cell_type": "code",
   "execution_count": 184,
   "metadata": {},
   "outputs": [],
   "source": [
    "#import KNeighborsClassifier\n",
    "from sklearn.neighbors import KNeighborsClassifier\n",
    "\n",
    "#Setup arrays to store training and test accuracies\n",
    "neighbors = np.arange(1,40,2)\n",
    "train_accuracy =np.empty(len(neighbors))\n",
    "test_accuracy = np.empty(len(neighbors))\n",
    "\n",
    "for i,k in enumerate(neighbors):\n",
    "    #Setup a knn classifier with k neighbors\n",
    "    knn = KNeighborsClassifier(n_neighbors=k)\n",
    "    \n",
    "    #Fit the model\n",
    "    knn.fit(X_train, y_train)\n",
    "    \n",
    "    #Compute accuracy on the training set\n",
    "    train_accuracy[i] = knn.score(X_train, y_train)\n",
    "    \n",
    "    #Compute accuracy on the test set\n",
    "    test_accuracy[i] = knn.score(X_test, y_test)"
   ]
  },
  {
   "cell_type": "code",
   "execution_count": 185,
   "metadata": {},
   "outputs": [
    {
     "data": {
      "image/png": "[encoded data removed]",
      "text/plain": [
       "<Figure size 432x288 with 1 Axes>"
      ]
     },
     "metadata": {
      "needs_background": "light"
     },
     "output_type": "display_data"
    }
   ],
   "source": [
    "#Generate plot\n",
    "plt.title('k-NN Varying number of neighbors')\n",
    "plt.plot(neighbors, test_accuracy, label='Testing Accuracy')\n",
    "plt.plot(neighbors, train_accuracy, label='Training accuracy')\n",
    "plt.legend()\n",
    "plt.xlabel('Number of neighbors')\n",
    "plt.ylabel('Accuracy')\n",
    "plt.show()"
   ]
  },
  {
   "cell_type": "markdown",
   "metadata": {},
   "source": [
    "We achieved a slightly better score with the KNN, it outperforms the Dummy Classifier, but not by much with only 12.28% of accuracy"
   ]
  },
  {
   "cell_type": "code",
   "execution_count": 186,
   "metadata": {
    "scrolled": true
   },
   "outputs": [
    {
     "data": {
      "text/plain": [
       "0.10877192982456141"
      ]
     },
     "execution_count": 186,
     "metadata": {},
     "output_type": "execute_result"
    }
   ],
   "source": [
    "max(test_accuracy)"
   ]
  },
  {
   "cell_type": "code",
   "execution_count": 187,
   "metadata": {
    "scrolled": true
   },
   "outputs": [
    {
     "data": {
      "text/plain": [
       "37"
      ]
     },
     "execution_count": 187,
     "metadata": {},
     "output_type": "execute_result"
    }
   ],
   "source": [
    "#which iteration is the best:\n",
    "(list(test_accuracy).index(max(test_accuracy))*2)+1"
   ]
  },
  {
   "cell_type": "code",
   "execution_count": 188,
   "metadata": {},
   "outputs": [],
   "source": [
    "np.random.seed(1)"
   ]
  },
  {
   "cell_type": "markdown",
   "metadata": {},
   "source": [
    "### Classifiers"
   ]
  },
  {
   "cell_type": "markdown",
   "metadata": {},
   "source": [
    "As we notice the KNN does not perform as well as we wanted, we try all the available classification algorithms in the Scikit-Learn library. This method is very efficient in the way that it allows testing a lot of algorithms but is not perfect: we test each algorithm with the default configuration. Which means that to us, the algorithms with pretty good default parameters (for our dataset) will perform well compared to other methods with worse default parameters but that can be tuned to get a better accuracy. However one of the solutions against this would be to perform a grid search for each one of the classification algorithm, hence getting the real best algorithm in our case."
   ]
  },
  {
   "cell_type": "code",
   "execution_count": 189,
   "metadata": {},
   "outputs": [
    {
     "name": "stdout",
     "output_type": "stream",
     "text": [
      "__init__() missing 1 required positional argument: 'base_estimator'\n",
      "__init__() missing 1 required positional argument: 'estimator'\n",
      "__init__() missing 1 required positional argument: 'estimator'\n",
      "__init__() missing 1 required positional argument: 'estimator'\n",
      "__init__() missing 1 required positional argument: 'estimator'\n",
      "__init__() missing 1 required positional argument: 'estimators'\n",
      "__init__() missing 1 required positional argument: 'estimators'\n"
     ]
    }
   ],
   "source": [
    "from sklearn.utils import all_estimators\n",
    "\n",
    "estimators = all_estimators(type_filter='classifier')\n",
    "\n",
    "all_clfs = []\n",
    "for name, ClassifierClass in estimators:\n",
    "    #print('Appending', name)\n",
    "    try:\n",
    "        clf = ClassifierClass()\n",
    "        all_clfs.append(clf)\n",
    "    except Exception as e:\n",
    "        #print('Unable to import', name)\n",
    "        print(e)"
   ]
  },
  {
   "cell_type": "code",
   "execution_count": 190,
   "metadata": {
    "scrolled": true
   },
   "outputs": [
    {
     "name": "stdout",
     "output_type": "stream",
     "text": [
      "0.08771929824561403\n",
      "0.14736842105263157\n",
      "0.11929824561403508\n",
      "0.11578947368421053\n",
      "0.07368421052631578\n",
      "0.08070175438596491\n",
      "0.12982456140350876\n",
      "0.07368421052631578\n",
      "0.07368421052631578\n",
      "0.14035087719298245\n",
      "0.10175438596491228\n",
      "0.10175438596491228\n",
      "0.09473684210526316\n",
      "0.14385964912280702\n",
      "0.06315789473684211\n",
      "0.03508771929824561\n",
      "0.03859649122807018\n",
      "0.042105263157894736\n",
      "0.07017543859649122\n",
      "0.09473684210526316\n",
      "0.07017543859649122\n",
      "0.08070175438596491\n",
      "0.10526315789473684\n",
      "0.07719298245614035\n",
      "specified nu is infeasible\n",
      "0.06315789473684211\n",
      "0.07719298245614035\n",
      "0.0035087719298245615\n",
      "No neighbors found for test samples array([  1,   6,   7,   8,  10,  11,  14,  16,  18,  28,  31,  48,  49,\n",
      "        54,  58,  59,  60,  66,  74,  76,  77,  81,  82,  88,  90,  91,\n",
      "       106, 121, 124, 135, 146, 155, 157, 160, 161, 165, 170, 176, 177,\n",
      "       183, 197, 198, 203, 217, 222, 229, 235, 244, 262, 263, 264, 272,\n",
      "       283], dtype=int64), you can try using larger radius, giving a label for outliers, or considering removing them from your dataset.\n",
      "0.1368421052631579\n",
      "0.09473684210526316\n",
      "0.0912280701754386\n",
      "0.05964912280701754\n",
      "0.08771929824561403\n"
     ]
    }
   ],
   "source": [
    "results = []\n",
    "for algo in all_clfs:\n",
    "    try:\n",
    "        algo.fit(X_train, y_train)\n",
    "        performance = algo.score(X_test, y_test)\n",
    "        results.append(performance)\n",
    "        print(performance)\n",
    "    except Exception as e:\n",
    "        #print('Unable to import', name)\n",
    "        print(e)"
   ]
  },
  {
   "cell_type": "markdown",
   "metadata": {},
   "source": [
    "Here we can see the best algorithm of all of them, performing 17.54% of accuracy"
   ]
  },
  {
   "cell_type": "code",
   "execution_count": 191,
   "metadata": {},
   "outputs": [
    {
     "data": {
      "text/plain": [
       "BaggingClassifier()"
      ]
     },
     "execution_count": 191,
     "metadata": {},
     "output_type": "execute_result"
    }
   ],
   "source": [
    "all_clfs[results.index(max(results))]"
   ]
  },
  {
   "cell_type": "markdown",
   "metadata": {},
   "source": [
    "### Dummy Regressor (as baseline)"
   ]
  },
  {
   "cell_type": "markdown",
   "metadata": {},
   "source": [
    "Seeing that the classification algorithms perform poorly on this dataset we chose to switch to a regression approach: we can predict a float between 1997 and 2019 then round the number to the closest integer, hence getting a classification if we want."
   ]
  },
  {
   "cell_type": "markdown",
   "metadata": {},
   "source": [
    "We first perform the dummy regressor to get the baseline for our regression models"
   ]
  },
  {
   "cell_type": "code",
   "execution_count": 36,
   "metadata": {},
   "outputs": [
    {
     "data": {
      "text/plain": [
       "-0.0032957216915714405"
      ]
     },
     "execution_count": 36,
     "metadata": {},
     "output_type": "execute_result"
    }
   ],
   "source": [
    "import numpy as np\n",
    "from sklearn.dummy import DummyRegressor\n",
    "dummy_regr = DummyRegressor(strategy=\"mean\")\n",
    "dummy_regr.fit(X_train, y_train)\n",
    "dummy_regr.score(X_test, y_test)"
   ]
  },
  {
   "cell_type": "code",
   "execution_count": 37,
   "metadata": {},
   "outputs": [],
   "source": [
    "y_pred = dummy_regr.predict(X_test)"
   ]
  },
  {
   "cell_type": "markdown",
   "metadata": {},
   "source": [
    "We get a MSE of 26 with the dummy regressor"
   ]
  },
  {
   "cell_type": "code",
   "execution_count": 40,
   "metadata": {},
   "outputs": [
    {
     "data": {
      "text/plain": [
       "26.732491807017574"
      ]
     },
     "execution_count": 40,
     "metadata": {},
     "output_type": "execute_result"
    }
   ],
   "source": [
    "from sklearn.metrics import mean_squared_error\n",
    "mean_squared_error(y_test, y_pred, squared=True)"
   ]
  },
  {
   "cell_type": "code",
   "execution_count": 195,
   "metadata": {},
   "outputs": [
    {
     "name": "stdout",
     "output_type": "stream",
     "text": [
      "__init__() missing 1 required positional argument: 'estimator'\n",
      "__init__() missing 1 required positional argument: 'base_estimator'\n",
      "__init__() missing 1 required positional argument: 'estimators'\n",
      "__init__() missing 1 required positional argument: 'estimators'\n"
     ]
    }
   ],
   "source": [
    "from sklearn.utils import all_estimators\n",
    "\n",
    "estimators = all_estimators(type_filter='regressor')\n",
    "\n",
    "all_regs = []\n",
    "for name, ClassifierClass in estimators:\n",
    "    #print('Appending', name)\n",
    "    try:\n",
    "        clf = ClassifierClass()\n",
    "        all_regs.append(clf)\n",
    "    except Exception as e:\n",
    "        #print('Unable to import', name)\n",
    "        print(e)"
   ]
  },
  {
   "cell_type": "markdown",
   "metadata": {},
   "source": [
    "I had to stop the cell from running cause it was way too long, don't really know why"
   ]
  },
  {
   "cell_type": "code",
   "execution_count": 196,
   "metadata": {
    "scrolled": true
   },
   "outputs": [
    {
     "name": "stdout",
     "output_type": "stream",
     "text": [
      "0.21472528538602476\n",
      "0.3925030802651095\n",
      "0.3025470310107716\n",
      "0.43743107871773657\n",
      "-0.2283519784138861\n",
      "-0.07934145015175642\n",
      "-0.001385750811327524\n",
      "-0.001385750811327524\n",
      "0.4446741141969849\n",
      "-0.25863633208251535\n",
      "0.4320230920045345\n",
      "-0.0013854894201472678\n",
      "-2.24809687465523\n",
      "0.41561971709032175\n",
      "0.42548531615460916\n",
      "0.13790167028582845\n",
      "Isotonic regression input X should be a 1d array or 2d array with 1 feature\n",
      "0.24005898641326606\n",
      "-3213.9010161027704\n",
      "-1.3821997058455286\n",
      "0.37110911505607946\n",
      "-0.001385750811327524\n",
      "0.44727130231680046\n",
      "-0.001385750811327524\n",
      "0.452817858134569\n",
      "0.37804332912157046\n",
      "-2.237326752920066\n",
      "-27035.200341161075\n",
      "-33981.43932293607\n",
      "For mono-task outputs, use ElasticNet\n",
      "For mono-task outputs, use ElasticNetCVCV\n",
      "For mono-task outputs, use ElasticNet\n",
      "For mono-task outputs, use LassoCVCV\n",
      "0.2588807176891601\n",
      "0.28713971326354426\n",
      "0.3132274814609456\n",
      "-9.573772574889984\n",
      "0.44283119674092064\n",
      "0.1396656482805827\n",
      "0.43581026692117786\n",
      "-56.990047751394066\n",
      "Input contains NaN, infinity or a value too large for dtype('float64').\n",
      "0.4006852868043209\n",
      "0.4387807231400016\n",
      "0.4387807231399983\n",
      "-6.927044545580924\n",
      "0.2903246456716636\n"
     ]
    },
    {
     "ename": "KeyboardInterrupt",
     "evalue": "",
     "output_type": "error",
     "traceback": [
      "\u001b[1;31m---------------------------------------------------------------------------\u001b[0m",
      "\u001b[1;31mKeyboardInterrupt\u001b[0m                         Traceback (most recent call last)",
      "\u001b[1;32m<ipython-input-196-0e8085bd73bd>\u001b[0m in \u001b[0;36m<module>\u001b[1;34m\u001b[0m\n\u001b[0;32m      2\u001b[0m \u001b[1;32mfor\u001b[0m \u001b[0malgo\u001b[0m \u001b[1;32min\u001b[0m \u001b[0mall_regs\u001b[0m\u001b[1;33m:\u001b[0m\u001b[1;33m\u001b[0m\u001b[1;33m\u001b[0m\u001b[0m\n\u001b[0;32m      3\u001b[0m     \u001b[1;32mtry\u001b[0m\u001b[1;33m:\u001b[0m\u001b[1;33m\u001b[0m\u001b[1;33m\u001b[0m\u001b[0m\n\u001b[1;32m----> 4\u001b[1;33m         \u001b[0malgo\u001b[0m\u001b[1;33m.\u001b[0m\u001b[0mfit\u001b[0m\u001b[1;33m(\u001b[0m\u001b[0mX_train\u001b[0m\u001b[1;33m,\u001b[0m \u001b[0my_train\u001b[0m\u001b[1;33m)\u001b[0m\u001b[1;33m\u001b[0m\u001b[1;33m\u001b[0m\u001b[0m\n\u001b[0m\u001b[0;32m      5\u001b[0m         \u001b[0mperformance\u001b[0m \u001b[1;33m=\u001b[0m \u001b[0malgo\u001b[0m\u001b[1;33m.\u001b[0m\u001b[0mscore\u001b[0m\u001b[1;33m(\u001b[0m\u001b[0mX_test\u001b[0m\u001b[1;33m,\u001b[0m \u001b[0my_test\u001b[0m\u001b[1;33m)\u001b[0m\u001b[1;33m\u001b[0m\u001b[1;33m\u001b[0m\u001b[0m\n\u001b[0;32m      6\u001b[0m         \u001b[0mresults\u001b[0m\u001b[1;33m.\u001b[0m\u001b[0mappend\u001b[0m\u001b[1;33m(\u001b[0m\u001b[0mperformance\u001b[0m\u001b[1;33m)\u001b[0m\u001b[1;33m\u001b[0m\u001b[1;33m\u001b[0m\u001b[0m\n",
      "\u001b[1;32m~\\anaconda3\\lib\\site-packages\\sklearn\\linear_model\\_theil_sen.py\u001b[0m in \u001b[0;36mfit\u001b[1;34m(self, X, y)\u001b[0m\n\u001b[0;32m    385\u001b[0m                            \u001b[0mverbose\u001b[0m\u001b[1;33m=\u001b[0m\u001b[0mself\u001b[0m\u001b[1;33m.\u001b[0m\u001b[0mverbose\u001b[0m\u001b[1;33m)\u001b[0m\u001b[1;33m(\u001b[0m\u001b[1;33m\u001b[0m\u001b[1;33m\u001b[0m\u001b[0m\n\u001b[0;32m    386\u001b[0m             \u001b[0mdelayed\u001b[0m\u001b[1;33m(\u001b[0m\u001b[0m_lstsq\u001b[0m\u001b[1;33m)\u001b[0m\u001b[1;33m(\u001b[0m\u001b[0mX\u001b[0m\u001b[1;33m,\u001b[0m \u001b[0my\u001b[0m\u001b[1;33m,\u001b[0m \u001b[0mindex_list\u001b[0m\u001b[1;33m[\u001b[0m\u001b[0mjob\u001b[0m\u001b[1;33m]\u001b[0m\u001b[1;33m,\u001b[0m \u001b[0mself\u001b[0m\u001b[1;33m.\u001b[0m\u001b[0mfit_intercept\u001b[0m\u001b[1;33m)\u001b[0m\u001b[1;33m\u001b[0m\u001b[1;33m\u001b[0m\u001b[0m\n\u001b[1;32m--> 387\u001b[1;33m             for job in range(n_jobs))\n\u001b[0m\u001b[0;32m    388\u001b[0m         \u001b[0mweights\u001b[0m \u001b[1;33m=\u001b[0m \u001b[0mnp\u001b[0m\u001b[1;33m.\u001b[0m\u001b[0mvstack\u001b[0m\u001b[1;33m(\u001b[0m\u001b[0mweights\u001b[0m\u001b[1;33m)\u001b[0m\u001b[1;33m\u001b[0m\u001b[1;33m\u001b[0m\u001b[0m\n\u001b[0;32m    389\u001b[0m         self.n_iter_, coefs = _spatial_median(weights,\n",
      "\u001b[1;32m~\\anaconda3\\lib\\site-packages\\joblib\\parallel.py\u001b[0m in \u001b[0;36m__call__\u001b[1;34m(self, iterable)\u001b[0m\n\u001b[0;32m   1002\u001b[0m             \u001b[1;31m# remaining jobs.\u001b[0m\u001b[1;33m\u001b[0m\u001b[1;33m\u001b[0m\u001b[1;33m\u001b[0m\u001b[0m\n\u001b[0;32m   1003\u001b[0m             \u001b[0mself\u001b[0m\u001b[1;33m.\u001b[0m\u001b[0m_iterating\u001b[0m \u001b[1;33m=\u001b[0m \u001b[1;32mFalse\u001b[0m\u001b[1;33m\u001b[0m\u001b[1;33m\u001b[0m\u001b[0m\n\u001b[1;32m-> 1004\u001b[1;33m             \u001b[1;32mif\u001b[0m \u001b[0mself\u001b[0m\u001b[1;33m.\u001b[0m\u001b[0mdispatch_one_batch\u001b[0m\u001b[1;33m(\u001b[0m\u001b[0miterator\u001b[0m\u001b[1;33m)\u001b[0m\u001b[1;33m:\u001b[0m\u001b[1;33m\u001b[0m\u001b[1;33m\u001b[0m\u001b[0m\n\u001b[0m\u001b[0;32m   1005\u001b[0m                 \u001b[0mself\u001b[0m\u001b[1;33m.\u001b[0m\u001b[0m_iterating\u001b[0m \u001b[1;33m=\u001b[0m \u001b[0mself\u001b[0m\u001b[1;33m.\u001b[0m\u001b[0m_original_iterator\u001b[0m \u001b[1;32mis\u001b[0m \u001b[1;32mnot\u001b[0m \u001b[1;32mNone\u001b[0m\u001b[1;33m\u001b[0m\u001b[1;33m\u001b[0m\u001b[0m\n\u001b[0;32m   1006\u001b[0m \u001b[1;33m\u001b[0m\u001b[0m\n",
      "\u001b[1;32m~\\anaconda3\\lib\\site-packages\\joblib\\parallel.py\u001b[0m in \u001b[0;36mdispatch_one_batch\u001b[1;34m(self, iterator)\u001b[0m\n\u001b[0;32m    833\u001b[0m                 \u001b[1;32mreturn\u001b[0m \u001b[1;32mFalse\u001b[0m\u001b[1;33m\u001b[0m\u001b[1;33m\u001b[0m\u001b[0m\n\u001b[0;32m    834\u001b[0m             \u001b[1;32melse\u001b[0m\u001b[1;33m:\u001b[0m\u001b[1;33m\u001b[0m\u001b[1;33m\u001b[0m\u001b[0m\n\u001b[1;32m--> 835\u001b[1;33m                 \u001b[0mself\u001b[0m\u001b[1;33m.\u001b[0m\u001b[0m_dispatch\u001b[0m\u001b[1;33m(\u001b[0m\u001b[0mtasks\u001b[0m\u001b[1;33m)\u001b[0m\u001b[1;33m\u001b[0m\u001b[1;33m\u001b[0m\u001b[0m\n\u001b[0m\u001b[0;32m    836\u001b[0m                 \u001b[1;32mreturn\u001b[0m \u001b[1;32mTrue\u001b[0m\u001b[1;33m\u001b[0m\u001b[1;33m\u001b[0m\u001b[0m\n\u001b[0;32m    837\u001b[0m \u001b[1;33m\u001b[0m\u001b[0m\n",
      "\u001b[1;32m~\\anaconda3\\lib\\site-packages\\joblib\\parallel.py\u001b[0m in \u001b[0;36m_dispatch\u001b[1;34m(self, batch)\u001b[0m\n\u001b[0;32m    752\u001b[0m         \u001b[1;32mwith\u001b[0m \u001b[0mself\u001b[0m\u001b[1;33m.\u001b[0m\u001b[0m_lock\u001b[0m\u001b[1;33m:\u001b[0m\u001b[1;33m\u001b[0m\u001b[1;33m\u001b[0m\u001b[0m\n\u001b[0;32m    753\u001b[0m             \u001b[0mjob_idx\u001b[0m \u001b[1;33m=\u001b[0m \u001b[0mlen\u001b[0m\u001b[1;33m(\u001b[0m\u001b[0mself\u001b[0m\u001b[1;33m.\u001b[0m\u001b[0m_jobs\u001b[0m\u001b[1;33m)\u001b[0m\u001b[1;33m\u001b[0m\u001b[1;33m\u001b[0m\u001b[0m\n\u001b[1;32m--> 754\u001b[1;33m             \u001b[0mjob\u001b[0m \u001b[1;33m=\u001b[0m \u001b[0mself\u001b[0m\u001b[1;33m.\u001b[0m\u001b[0m_backend\u001b[0m\u001b[1;33m.\u001b[0m\u001b[0mapply_async\u001b[0m\u001b[1;33m(\u001b[0m\u001b[0mbatch\u001b[0m\u001b[1;33m,\u001b[0m \u001b[0mcallback\u001b[0m\u001b[1;33m=\u001b[0m\u001b[0mcb\u001b[0m\u001b[1;33m)\u001b[0m\u001b[1;33m\u001b[0m\u001b[1;33m\u001b[0m\u001b[0m\n\u001b[0m\u001b[0;32m    755\u001b[0m             \u001b[1;31m# A job can complete so quickly than its callback is\u001b[0m\u001b[1;33m\u001b[0m\u001b[1;33m\u001b[0m\u001b[1;33m\u001b[0m\u001b[0m\n\u001b[0;32m    756\u001b[0m             \u001b[1;31m# called before we get here, causing self._jobs to\u001b[0m\u001b[1;33m\u001b[0m\u001b[1;33m\u001b[0m\u001b[1;33m\u001b[0m\u001b[0m\n",
      "\u001b[1;32m~\\anaconda3\\lib\\site-packages\\joblib\\_parallel_backends.py\u001b[0m in \u001b[0;36mapply_async\u001b[1;34m(self, func, callback)\u001b[0m\n\u001b[0;32m    207\u001b[0m     \u001b[1;32mdef\u001b[0m \u001b[0mapply_async\u001b[0m\u001b[1;33m(\u001b[0m\u001b[0mself\u001b[0m\u001b[1;33m,\u001b[0m \u001b[0mfunc\u001b[0m\u001b[1;33m,\u001b[0m \u001b[0mcallback\u001b[0m\u001b[1;33m=\u001b[0m\u001b[1;32mNone\u001b[0m\u001b[1;33m)\u001b[0m\u001b[1;33m:\u001b[0m\u001b[1;33m\u001b[0m\u001b[1;33m\u001b[0m\u001b[0m\n\u001b[0;32m    208\u001b[0m         \u001b[1;34m\"\"\"Schedule a func to be run\"\"\"\u001b[0m\u001b[1;33m\u001b[0m\u001b[1;33m\u001b[0m\u001b[0m\n\u001b[1;32m--> 209\u001b[1;33m         \u001b[0mresult\u001b[0m \u001b[1;33m=\u001b[0m \u001b[0mImmediateResult\u001b[0m\u001b[1;33m(\u001b[0m\u001b[0mfunc\u001b[0m\u001b[1;33m)\u001b[0m\u001b[1;33m\u001b[0m\u001b[1;33m\u001b[0m\u001b[0m\n\u001b[0m\u001b[0;32m    210\u001b[0m         \u001b[1;32mif\u001b[0m \u001b[0mcallback\u001b[0m\u001b[1;33m:\u001b[0m\u001b[1;33m\u001b[0m\u001b[1;33m\u001b[0m\u001b[0m\n\u001b[0;32m    211\u001b[0m             \u001b[0mcallback\u001b[0m\u001b[1;33m(\u001b[0m\u001b[0mresult\u001b[0m\u001b[1;33m)\u001b[0m\u001b[1;33m\u001b[0m\u001b[1;33m\u001b[0m\u001b[0m\n",
      "\u001b[1;32m~\\anaconda3\\lib\\site-packages\\joblib\\_parallel_backends.py\u001b[0m in \u001b[0;36m__init__\u001b[1;34m(self, batch)\u001b[0m\n\u001b[0;32m    588\u001b[0m         \u001b[1;31m# Don't delay the application, to avoid keeping the input\u001b[0m\u001b[1;33m\u001b[0m\u001b[1;33m\u001b[0m\u001b[1;33m\u001b[0m\u001b[0m\n\u001b[0;32m    589\u001b[0m         \u001b[1;31m# arguments in memory\u001b[0m\u001b[1;33m\u001b[0m\u001b[1;33m\u001b[0m\u001b[1;33m\u001b[0m\u001b[0m\n\u001b[1;32m--> 590\u001b[1;33m         \u001b[0mself\u001b[0m\u001b[1;33m.\u001b[0m\u001b[0mresults\u001b[0m \u001b[1;33m=\u001b[0m \u001b[0mbatch\u001b[0m\u001b[1;33m(\u001b[0m\u001b[1;33m)\u001b[0m\u001b[1;33m\u001b[0m\u001b[1;33m\u001b[0m\u001b[0m\n\u001b[0m\u001b[0;32m    591\u001b[0m \u001b[1;33m\u001b[0m\u001b[0m\n\u001b[0;32m    592\u001b[0m     \u001b[1;32mdef\u001b[0m \u001b[0mget\u001b[0m\u001b[1;33m(\u001b[0m\u001b[0mself\u001b[0m\u001b[1;33m)\u001b[0m\u001b[1;33m:\u001b[0m\u001b[1;33m\u001b[0m\u001b[1;33m\u001b[0m\u001b[0m\n",
      "\u001b[1;32m~\\anaconda3\\lib\\site-packages\\joblib\\parallel.py\u001b[0m in \u001b[0;36m__call__\u001b[1;34m(self)\u001b[0m\n\u001b[0;32m    254\u001b[0m         \u001b[1;32mwith\u001b[0m \u001b[0mparallel_backend\u001b[0m\u001b[1;33m(\u001b[0m\u001b[0mself\u001b[0m\u001b[1;33m.\u001b[0m\u001b[0m_backend\u001b[0m\u001b[1;33m,\u001b[0m \u001b[0mn_jobs\u001b[0m\u001b[1;33m=\u001b[0m\u001b[0mself\u001b[0m\u001b[1;33m.\u001b[0m\u001b[0m_n_jobs\u001b[0m\u001b[1;33m)\u001b[0m\u001b[1;33m:\u001b[0m\u001b[1;33m\u001b[0m\u001b[1;33m\u001b[0m\u001b[0m\n\u001b[0;32m    255\u001b[0m             return [func(*args, **kwargs)\n\u001b[1;32m--> 256\u001b[1;33m                     for func, args, kwargs in self.items]\n\u001b[0m\u001b[0;32m    257\u001b[0m \u001b[1;33m\u001b[0m\u001b[0m\n\u001b[0;32m    258\u001b[0m     \u001b[1;32mdef\u001b[0m \u001b[0m__len__\u001b[0m\u001b[1;33m(\u001b[0m\u001b[0mself\u001b[0m\u001b[1;33m)\u001b[0m\u001b[1;33m:\u001b[0m\u001b[1;33m\u001b[0m\u001b[1;33m\u001b[0m\u001b[0m\n",
      "\u001b[1;32m~\\anaconda3\\lib\\site-packages\\joblib\\parallel.py\u001b[0m in \u001b[0;36m<listcomp>\u001b[1;34m(.0)\u001b[0m\n\u001b[0;32m    254\u001b[0m         \u001b[1;32mwith\u001b[0m \u001b[0mparallel_backend\u001b[0m\u001b[1;33m(\u001b[0m\u001b[0mself\u001b[0m\u001b[1;33m.\u001b[0m\u001b[0m_backend\u001b[0m\u001b[1;33m,\u001b[0m \u001b[0mn_jobs\u001b[0m\u001b[1;33m=\u001b[0m\u001b[0mself\u001b[0m\u001b[1;33m.\u001b[0m\u001b[0m_n_jobs\u001b[0m\u001b[1;33m)\u001b[0m\u001b[1;33m:\u001b[0m\u001b[1;33m\u001b[0m\u001b[1;33m\u001b[0m\u001b[0m\n\u001b[0;32m    255\u001b[0m             return [func(*args, **kwargs)\n\u001b[1;32m--> 256\u001b[1;33m                     for func, args, kwargs in self.items]\n\u001b[0m\u001b[0;32m    257\u001b[0m \u001b[1;33m\u001b[0m\u001b[0m\n\u001b[0;32m    258\u001b[0m     \u001b[1;32mdef\u001b[0m \u001b[0m__len__\u001b[0m\u001b[1;33m(\u001b[0m\u001b[0mself\u001b[0m\u001b[1;33m)\u001b[0m\u001b[1;33m:\u001b[0m\u001b[1;33m\u001b[0m\u001b[1;33m\u001b[0m\u001b[0m\n",
      "\u001b[1;32m~\\anaconda3\\lib\\site-packages\\sklearn\\utils\\fixes.py\u001b[0m in \u001b[0;36m__call__\u001b[1;34m(self, *args, **kwargs)\u001b[0m\n\u001b[0;32m    220\u001b[0m     \u001b[1;32mdef\u001b[0m \u001b[0m__call__\u001b[0m\u001b[1;33m(\u001b[0m\u001b[0mself\u001b[0m\u001b[1;33m,\u001b[0m \u001b[1;33m*\u001b[0m\u001b[0margs\u001b[0m\u001b[1;33m,\u001b[0m \u001b[1;33m**\u001b[0m\u001b[0mkwargs\u001b[0m\u001b[1;33m)\u001b[0m\u001b[1;33m:\u001b[0m\u001b[1;33m\u001b[0m\u001b[1;33m\u001b[0m\u001b[0m\n\u001b[0;32m    221\u001b[0m         \u001b[1;32mwith\u001b[0m \u001b[0mconfig_context\u001b[0m\u001b[1;33m(\u001b[0m\u001b[1;33m**\u001b[0m\u001b[0mself\u001b[0m\u001b[1;33m.\u001b[0m\u001b[0mconfig\u001b[0m\u001b[1;33m)\u001b[0m\u001b[1;33m:\u001b[0m\u001b[1;33m\u001b[0m\u001b[1;33m\u001b[0m\u001b[0m\n\u001b[1;32m--> 222\u001b[1;33m             \u001b[1;32mreturn\u001b[0m \u001b[0mself\u001b[0m\u001b[1;33m.\u001b[0m\u001b[0mfunction\u001b[0m\u001b[1;33m(\u001b[0m\u001b[1;33m*\u001b[0m\u001b[0margs\u001b[0m\u001b[1;33m,\u001b[0m \u001b[1;33m**\u001b[0m\u001b[0mkwargs\u001b[0m\u001b[1;33m)\u001b[0m\u001b[1;33m\u001b[0m\u001b[1;33m\u001b[0m\u001b[0m\n\u001b[0m",
      "\u001b[1;32m~\\anaconda3\\lib\\site-packages\\sklearn\\linear_model\\_theil_sen.py\u001b[0m in \u001b[0;36m_lstsq\u001b[1;34m(X, y, indices, fit_intercept)\u001b[0m\n\u001b[0;32m    189\u001b[0m         \u001b[0my_subpopulation\u001b[0m\u001b[1;33m[\u001b[0m\u001b[1;33m:\u001b[0m\u001b[0mn_subsamples\u001b[0m\u001b[1;33m]\u001b[0m \u001b[1;33m=\u001b[0m \u001b[0my\u001b[0m\u001b[1;33m[\u001b[0m\u001b[0msubset\u001b[0m\u001b[1;33m]\u001b[0m\u001b[1;33m\u001b[0m\u001b[1;33m\u001b[0m\u001b[0m\n\u001b[0;32m    190\u001b[0m         weights[index] = lstsq(X_subpopulation,\n\u001b[1;32m--> 191\u001b[1;33m                                y_subpopulation)[1][:n_features]\n\u001b[0m\u001b[0;32m    192\u001b[0m \u001b[1;33m\u001b[0m\u001b[0m\n\u001b[0;32m    193\u001b[0m     \u001b[1;32mreturn\u001b[0m \u001b[0mweights\u001b[0m\u001b[1;33m\u001b[0m\u001b[1;33m\u001b[0m\u001b[0m\n",
      "\u001b[1;31mKeyboardInterrupt\u001b[0m: "
     ]
    }
   ],
   "source": [
    "results_regs = []\n",
    "for algo in all_regs:\n",
    "    try:\n",
    "        algo.fit(X_train, y_train)\n",
    "        performance = algo.score(X_test, y_test)\n",
    "        results.append(performance)\n",
    "        print(performance)\n",
    "    except Exception as e:\n",
    "        print(e)"
   ]
  },
  {
   "cell_type": "markdown",
   "metadata": {},
   "source": [
    "We try the two best regression method using the same approach to try all the regressors fro Scikit-Learn library"
   ]
  },
  {
   "cell_type": "markdown",
   "metadata": {},
   "source": [
    "### Gradient Boosting Regressor"
   ]
  },
  {
   "cell_type": "code",
   "execution_count": 41,
   "metadata": {},
   "outputs": [
    {
     "data": {
      "text/plain": [
       "0.44202319914570065"
      ]
     },
     "execution_count": 41,
     "metadata": {},
     "output_type": "execute_result"
    }
   ],
   "source": [
    "from sklearn.ensemble import GradientBoostingRegressor\n",
    "reg = GradientBoostingRegressor(random_state=1)\n",
    "reg.fit(X_train, y_train)\n",
    "GradientBoostingRegressor(random_state=0)\n",
    "y_pred = reg.predict(X_test)\n",
    "reg.score(X_test, y_test)"
   ]
  },
  {
   "cell_type": "markdown",
   "metadata": {},
   "source": [
    "We get a MSE of 15.01, better than the Dummy Regressor"
   ]
  },
  {
   "cell_type": "code",
   "execution_count": 42,
   "metadata": {},
   "outputs": [],
   "source": [
    "for i in range(len(y_pred)):\n",
    "    if y_pred[i] > 2019:\n",
    "        y_pred[i] = 2019\n",
    "    if y_pred[i] < 1997:\n",
    "        y_pred[i] = 1997"
   ]
  },
  {
   "cell_type": "code",
   "execution_count": 43,
   "metadata": {},
   "outputs": [
    {
     "data": {
      "text/plain": [
       "14.863130406331823"
      ]
     },
     "execution_count": 43,
     "metadata": {},
     "output_type": "execute_result"
    }
   ],
   "source": [
    "from sklearn.metrics import mean_squared_error\n",
    "mean_squared_error(y_test, y_pred, squared=True)"
   ]
  },
  {
   "cell_type": "code",
   "execution_count": 45,
   "metadata": {},
   "outputs": [
    {
     "name": "stdout",
     "output_type": "stream",
     "text": [
      "Fitting 3 folds for each of 60 candidates, totalling 180 fits\n"
     ]
    },
    {
     "data": {
      "text/plain": [
       "GridSearchCV(cv=3, estimator=GradientBoostingRegressor(random_state=1),\n",
       "             n_jobs=-1,\n",
       "             param_grid={'learning_rate': [0.025, 0.05, 0.075, 0.1],\n",
       "                         'max_depth': [4, 5, 6], 'max_features': [1.0],\n",
       "                         'min_samples_leaf': [3],\n",
       "                         'n_estimators': [100, 200, 300, 400, 500]},\n",
       "             verbose=2)"
      ]
     },
     "execution_count": 45,
     "metadata": {},
     "output_type": "execute_result"
    }
   ],
   "source": [
    "from sklearn.model_selection import GridSearchCV\n",
    "\n",
    "param_grid={'n_estimators':[100,200,300,400,500], \n",
    "            'learning_rate': [0.025,0.05,0.075,0.1],\n",
    "            'max_depth':[4,5,6], \n",
    "            'min_samples_leaf':[3], \n",
    "            'max_features':[1.0] } \n",
    "\n",
    "reg = GradientBoostingRegressor(random_state=1)\n",
    "grid_search = GridSearchCV(estimator = reg, param_grid = param_grid, \n",
    "                          cv = 3, n_jobs = -1, verbose = 2)\n",
    "grid_search.fit(X_train, y_train)"
   ]
  },
  {
   "cell_type": "code",
   "execution_count": 46,
   "metadata": {},
   "outputs": [
    {
     "data": {
      "text/plain": [
       "0.4714774554586725"
      ]
     },
     "execution_count": 46,
     "metadata": {},
     "output_type": "execute_result"
    }
   ],
   "source": [
    "y_pred = grid_search.predict(X_test)\n",
    "grid_search.score(X_test, y_test)"
   ]
  },
  {
   "cell_type": "markdown",
   "metadata": {},
   "source": [
    "We have a MSE of 14"
   ]
  },
  {
   "cell_type": "code",
   "execution_count": 49,
   "metadata": {},
   "outputs": [],
   "source": [
    "for i in range(len(y_pred)):\n",
    "    if y_pred[i] > 2019:\n",
    "        y_pred[i] = 2019\n",
    "    if y_pred[i] < 1997:\n",
    "        y_pred[i] = 1997"
   ]
  },
  {
   "cell_type": "code",
   "execution_count": 50,
   "metadata": {},
   "outputs": [
    {
     "data": {
      "text/plain": [
       "14.074983510893242"
      ]
     },
     "execution_count": 50,
     "metadata": {},
     "output_type": "execute_result"
    }
   ],
   "source": [
    "from sklearn.metrics import mean_squared_error\n",
    "mean_squared_error(y_test, y_pred, squared=True)"
   ]
  },
  {
   "cell_type": "markdown",
   "metadata": {},
   "source": [
    "### Hist Gradient Boosting Regressor"
   ]
  },
  {
   "cell_type": "code",
   "execution_count": 51,
   "metadata": {},
   "outputs": [
    {
     "data": {
      "text/plain": [
       "0.42548531615460916"
      ]
     },
     "execution_count": 51,
     "metadata": {},
     "output_type": "execute_result"
    }
   ],
   "source": [
    "from sklearn.experimental import enable_hist_gradient_boosting\n",
    "from sklearn.ensemble import HistGradientBoostingRegressor\n",
    "est = HistGradientBoostingRegressor().fit(X_train, y_train)\n",
    "est.score(X_test, y_test)"
   ]
  },
  {
   "cell_type": "markdown",
   "metadata": {},
   "source": [
    "We have a MSE of 14.6 too "
   ]
  },
  {
   "cell_type": "code",
   "execution_count": 53,
   "metadata": {},
   "outputs": [
    {
     "data": {
      "text/plain": [
       "14.672323444954957"
      ]
     },
     "execution_count": 53,
     "metadata": {},
     "output_type": "execute_result"
    }
   ],
   "source": [
    "y_pred = est.predict(X_test)\n",
    "from sklearn.metrics import mean_squared_error\n",
    "mean_squared_error(y_test, y_pred, squared=True)"
   ]
  },
  {
   "cell_type": "markdown",
   "metadata": {},
   "source": [
    "### Multi-layer Perceptron regressor"
   ]
  },
  {
   "cell_type": "code",
   "execution_count": 54,
   "metadata": {},
   "outputs": [
    {
     "data": {
      "text/plain": [
       "-198.36318593195455"
      ]
     },
     "execution_count": 54,
     "metadata": {},
     "output_type": "execute_result"
    }
   ],
   "source": [
    "from sklearn.neural_network import MLPRegressor\n",
    "regr = MLPRegressor(hidden_layer_sizes=500, random_state=1, max_iter=200000).fit(X_train, y_train)\n",
    "y_pred = regr.predict(X_test)\n",
    "regr.score(X_test, y_test)"
   ]
  },
  {
   "cell_type": "code",
   "execution_count": 55,
   "metadata": {},
   "outputs": [],
   "source": [
    "a = tfidf_matrix.toarray()\n",
    "a = a.tolist()\n",
    "\n",
    "X_train = a\n",
    "y_train = list(df_fr['date'])\n",
    "\n",
    "a = []\n",
    "for item in y_train:\n",
    "    a.append(float(item))\n",
    "    \n",
    "y_train = a"
   ]
  },
  {
   "cell_type": "code",
   "execution_count": 71,
   "metadata": {},
   "outputs": [],
   "source": [
    "import numpy\n",
    "import keras\n",
    "from keras.models import Sequential\n",
    "from keras.layers import Dense"
   ]
  },
  {
   "cell_type": "code",
   "execution_count": 72,
   "metadata": {},
   "outputs": [],
   "source": [
    "X_train = numpy.array(X_train)\n",
    "y_train = numpy.array(y_train)"
   ]
  },
  {
   "cell_type": "code",
   "execution_count": 73,
   "metadata": {
    "scrolled": true
   },
   "outputs": [
    {
     "name": "stdout",
     "output_type": "stream",
     "text": [
      "Model: \"sequential_1\"\n",
      "_________________________________________________________________\n",
      "Layer (type)                 Output Shape              Param #   \n",
      "=================================================================\n",
      "dense (Dense)                (None, 849)               721650    \n",
      "_________________________________________________________________\n",
      "dense_1 (Dense)              (None, 2670)              2269500   \n",
      "_________________________________________________________________\n",
      "dense_2 (Dense)              (None, 2670)              7131570   \n",
      "_________________________________________________________________\n",
      "dense_3 (Dense)              (None, 1)                 2671      \n",
      "=================================================================\n",
      "Total params: 10,125,391\n",
      "Trainable params: 10,125,391\n",
      "Non-trainable params: 0\n",
      "_________________________________________________________________\n"
     ]
    }
   ],
   "source": [
    "model = Sequential()\n",
    "model.add(Dense(X_train.shape[1], input_dim=X_train.shape[1], kernel_initializer='normal', activation='relu'))\n",
    "model.add(Dense(2670, activation='relu'))\n",
    "model.add(Dense(2670, activation='relu'))\n",
    "model.add(Dense(1, activation='linear'))\n",
    "model.summary()"
   ]
  },
  {
   "cell_type": "code",
   "execution_count": 74,
   "metadata": {
    "scrolled": true
   },
   "outputs": [
    {
     "name": "stdout",
     "output_type": "stream",
     "text": [
      "Epoch 1/150\n",
      "13/13 [==============================] - 1s 80ms/step - loss: 3385669.7500 - mse: 3385669.5000 - mae: 1823.7772 - val_loss: 866231.6875 - val_mse: 866231.6875 - val_mae: 915.4318\n",
      "Epoch 2/150\n",
      "13/13 [==============================] - 1s 70ms/step - loss: 445766.6875 - mse: 445766.6875 - mae: 554.6404 - val_loss: 432145.0000 - val_mse: 432145.0000 - val_mae: 625.9157\n",
      "Epoch 3/150\n",
      "13/13 [==============================] - 1s 70ms/step - loss: 246234.2031 - mse: 246234.2031 - mae: 419.9730 - val_loss: 139544.4531 - val_mse: 139544.4531 - val_mae: 305.5433\n",
      "Epoch 4/150\n",
      "13/13 [==============================] - 1s 70ms/step - loss: 120356.7422 - mse: 120356.7422 - mae: 283.4302 - val_loss: 72900.4375 - val_mse: 72900.4375 - val_mae: 219.0452\n",
      "Epoch 5/150\n",
      "13/13 [==============================] - 1s 69ms/step - loss: 86224.7500 - mse: 86224.7500 - mae: 235.3320 - val_loss: 80417.0000 - val_mse: 80417.0000 - val_mae: 225.7081\n",
      "Epoch 6/150\n",
      "13/13 [==============================] - 1s 69ms/step - loss: 64874.0117 - mse: 64874.0117 - mae: 203.1620 - val_loss: 65022.5156 - val_mse: 65022.5156 - val_mae: 201.4223\n",
      "Epoch 7/150\n",
      "13/13 [==============================] - 1s 70ms/step - loss: 52208.2578 - mse: 52208.2578 - mae: 182.6239 - val_loss: 57522.7383 - val_mse: 57522.7344 - val_mae: 192.5249\n",
      "Epoch 8/150\n",
      "13/13 [==============================] - 1s 69ms/step - loss: 47132.6992 - mse: 47132.6992 - mae: 173.4147 - val_loss: 53966.1328 - val_mse: 53966.1289 - val_mae: 185.8969\n",
      "Epoch 9/150\n",
      "13/13 [==============================] - 1s 70ms/step - loss: 40504.0938 - mse: 40504.0938 - mae: 160.7621 - val_loss: 51209.1641 - val_mse: 51209.1641 - val_mae: 180.1090\n",
      "Epoch 10/150\n",
      "13/13 [==============================] - 1s 70ms/step - loss: 36331.3398 - mse: 36331.3398 - mae: 151.6323 - val_loss: 49611.0234 - val_mse: 49611.0234 - val_mae: 177.1366\n",
      "Epoch 11/150\n",
      "13/13 [==============================] - 1s 70ms/step - loss: 32595.4258 - mse: 32595.4258 - mae: 145.1184 - val_loss: 47781.0469 - val_mse: 47781.0469 - val_mae: 173.6780\n",
      "Epoch 12/150\n",
      "13/13 [==============================] - 1s 71ms/step - loss: 29933.5703 - mse: 29933.5703 - mae: 138.0500 - val_loss: 47073.0508 - val_mse: 47073.0508 - val_mae: 171.8028\n",
      "Epoch 13/150\n",
      "13/13 [==============================] - 1s 71ms/step - loss: 26909.1211 - mse: 26909.1211 - mae: 131.1245 - val_loss: 44116.5234 - val_mse: 44116.5234 - val_mae: 167.2910\n",
      "Epoch 14/150\n",
      "13/13 [==============================] - 1s 71ms/step - loss: 22680.4961 - mse: 22680.4961 - mae: 120.4789 - val_loss: 42204.9023 - val_mse: 42204.9023 - val_mae: 163.9285\n",
      "Epoch 15/150\n",
      "13/13 [==============================] - 1s 71ms/step - loss: 19846.7812 - mse: 19846.7812 - mae: 112.4209 - val_loss: 40739.0938 - val_mse: 40739.0938 - val_mae: 160.4158\n",
      "Epoch 16/150\n",
      "13/13 [==============================] - 1s 72ms/step - loss: 17728.4082 - mse: 17728.4082 - mae: 106.0989 - val_loss: 39515.0469 - val_mse: 39515.0469 - val_mae: 157.5097\n",
      "Epoch 17/150\n",
      "13/13 [==============================] - 1s 71ms/step - loss: 16329.2275 - mse: 16329.2275 - mae: 101.9528 - val_loss: 40312.7227 - val_mse: 40312.7227 - val_mae: 157.9368\n",
      "Epoch 18/150\n",
      "13/13 [==============================] - 1s 69ms/step - loss: 14464.0908 - mse: 14464.0908 - mae: 96.5261 - val_loss: 36578.9219 - val_mse: 36578.9219 - val_mae: 151.0294\n",
      "Epoch 19/150\n",
      "13/13 [==============================] - 1s 66ms/step - loss: 12649.5078 - mse: 12649.5059 - mae: 90.4938 - val_loss: 35290.4062 - val_mse: 35290.4062 - val_mae: 147.9014\n",
      "Epoch 20/150\n",
      "13/13 [==============================] - 1s 67ms/step - loss: 11664.4922 - mse: 11664.4922 - mae: 86.7451 - val_loss: 33485.7227 - val_mse: 33485.7227 - val_mae: 144.9156\n",
      "Epoch 21/150\n",
      "13/13 [==============================] - 1s 69ms/step - loss: 10493.6846 - mse: 10493.6846 - mae: 81.6183 - val_loss: 32255.7246 - val_mse: 32255.7246 - val_mae: 142.1315\n",
      "Epoch 22/150\n",
      "13/13 [==============================] - 1s 67ms/step - loss: 8844.6768 - mse: 8844.6768 - mae: 75.6082 - val_loss: 31442.9258 - val_mse: 31442.9258 - val_mae: 139.8712\n",
      "Epoch 23/150\n",
      "13/13 [==============================] - 1s 69ms/step - loss: 7862.1831 - mse: 7862.1831 - mae: 71.2459 - val_loss: 30603.5723 - val_mse: 30603.5723 - val_mae: 138.2752\n",
      "Epoch 24/150\n",
      "13/13 [==============================] - 1s 71ms/step - loss: 7209.4297 - mse: 7209.4297 - mae: 67.8863 - val_loss: 29910.2129 - val_mse: 29910.2129 - val_mae: 135.0789\n",
      "Epoch 25/150\n",
      "13/13 [==============================] - 1s 69ms/step - loss: 6274.8496 - mse: 6274.8496 - mae: 63.5781 - val_loss: 28984.2285 - val_mse: 28984.2305 - val_mae: 132.6570\n",
      "Epoch 26/150\n",
      "13/13 [==============================] - 1s 69ms/step - loss: 5532.0015 - mse: 5532.0015 - mae: 59.5215 - val_loss: 28060.9785 - val_mse: 28060.9785 - val_mae: 131.0536\n",
      "Epoch 27/150\n",
      "13/13 [==============================] - 1s 68ms/step - loss: 5078.2798 - mse: 5078.2798 - mae: 57.1231 - val_loss: 29001.3711 - val_mse: 29001.3711 - val_mae: 132.6140\n",
      "Epoch 28/150\n",
      "13/13 [==============================] - 1s 69ms/step - loss: 4881.2812 - mse: 4881.2812 - mae: 55.2517 - val_loss: 26876.2227 - val_mse: 26876.2227 - val_mae: 127.3282\n",
      "Epoch 29/150\n",
      "13/13 [==============================] - 1s 71ms/step - loss: 4085.3137 - mse: 4085.3137 - mae: 50.3968 - val_loss: 25746.0957 - val_mse: 25746.0957 - val_mae: 125.0020\n",
      "Epoch 30/150\n",
      "13/13 [==============================] - 1s 71ms/step - loss: 3521.2922 - mse: 3521.2922 - mae: 46.8519 - val_loss: 25170.8945 - val_mse: 25170.8945 - val_mae: 123.4616\n",
      "Epoch 31/150\n",
      "13/13 [==============================] - 1s 69ms/step - loss: 3170.0107 - mse: 3170.0107 - mae: 44.3150 - val_loss: 24882.0586 - val_mse: 24882.0586 - val_mae: 122.3356\n",
      "Epoch 32/150\n",
      "13/13 [==============================] - 1s 71ms/step - loss: 2819.2112 - mse: 2819.2112 - mae: 41.9017 - val_loss: 23949.0742 - val_mse: 23949.0742 - val_mae: 120.4962\n",
      "Epoch 33/150\n",
      "13/13 [==============================] - 1s 76ms/step - loss: 2488.3613 - mse: 2488.3613 - mae: 39.1510 - val_loss: 23298.5605 - val_mse: 23298.5605 - val_mae: 119.0256\n",
      "Epoch 34/150\n",
      "13/13 [==============================] - 1s 78ms/step - loss: 2235.2754 - mse: 2235.2754 - mae: 37.1828 - val_loss: 22926.3125 - val_mse: 22926.3125 - val_mae: 117.6287\n",
      "Epoch 35/150\n",
      "13/13 [==============================] - 1s 73ms/step - loss: 1967.9033 - mse: 1967.9033 - mae: 34.5895 - val_loss: 22311.1289 - val_mse: 22311.1289 - val_mae: 116.3389\n",
      "Epoch 36/150\n",
      "13/13 [==============================] - 1s 72ms/step - loss: 1759.7531 - mse: 1759.7531 - mae: 32.8825 - val_loss: 22205.1348 - val_mse: 22205.1348 - val_mae: 115.8269\n",
      "Epoch 37/150\n",
      "13/13 [==============================] - 1s 75ms/step - loss: 1564.7451 - mse: 1564.7451 - mae: 30.7569 - val_loss: 21344.8203 - val_mse: 21344.8203 - val_mae: 113.9317\n",
      "Epoch 38/150\n",
      "13/13 [==============================] - 1s 73ms/step - loss: 1455.4939 - mse: 1455.4939 - mae: 29.9773 - val_loss: 21015.0488 - val_mse: 21015.0488 - val_mae: 112.6448\n",
      "Epoch 39/150\n",
      "13/13 [==============================] - 1s 72ms/step - loss: 1263.7267 - mse: 1263.7267 - mae: 27.7420 - val_loss: 20636.7500 - val_mse: 20636.7500 - val_mae: 111.6420\n",
      "Epoch 40/150\n",
      "13/13 [==============================] - 1s 74ms/step - loss: 1197.9825 - mse: 1197.9825 - mae: 27.1423 - val_loss: 20274.1680 - val_mse: 20274.1680 - val_mae: 110.9203\n",
      "Epoch 41/150\n",
      "13/13 [==============================] - 1s 72ms/step - loss: 987.4161 - mse: 987.4161 - mae: 24.6986 - val_loss: 19922.7793 - val_mse: 19922.7793 - val_mae: 109.8639\n",
      "Epoch 42/150\n",
      "13/13 [==============================] - 1s 70ms/step - loss: 847.7144 - mse: 847.7144 - mae: 22.6922 - val_loss: 19483.1934 - val_mse: 19483.1934 - val_mae: 108.7525\n",
      "Epoch 43/150\n",
      "13/13 [==============================] - 1s 70ms/step - loss: 761.9058 - mse: 761.9058 - mae: 21.4652 - val_loss: 19118.5332 - val_mse: 19118.5332 - val_mae: 107.6630\n",
      "Epoch 44/150\n",
      "13/13 [==============================] - 1s 69ms/step - loss: 664.2723 - mse: 664.2723 - mae: 20.0723 - val_loss: 19002.8359 - val_mse: 19002.8359 - val_mae: 107.2441\n",
      "Epoch 45/150\n",
      "13/13 [==============================] - 1s 71ms/step - loss: 614.0669 - mse: 614.0669 - mae: 19.4870 - val_loss: 18441.8789 - val_mse: 18441.8789 - val_mae: 106.0579\n",
      "Epoch 46/150\n",
      "13/13 [==============================] - 1s 74ms/step - loss: 527.3622 - mse: 527.3622 - mae: 17.8685 - val_loss: 18357.4141 - val_mse: 18357.4141 - val_mae: 105.5203\n",
      "Epoch 47/150\n",
      "13/13 [==============================] - 1s 74ms/step - loss: 471.8281 - mse: 471.8281 - mae: 16.8973 - val_loss: 18035.8359 - val_mse: 18035.8359 - val_mae: 104.6191\n",
      "Epoch 48/150\n",
      "13/13 [==============================] - 1s 74ms/step - loss: 431.6207 - mse: 431.6207 - mae: 16.1142 - val_loss: 17670.1465 - val_mse: 17670.1465 - val_mae: 103.7937\n",
      "Epoch 49/150\n",
      "13/13 [==============================] - 1s 72ms/step - loss: 365.1699 - mse: 365.1699 - mae: 14.9319 - val_loss: 17411.8242 - val_mse: 17411.8242 - val_mae: 103.2505\n",
      "Epoch 50/150\n",
      "13/13 [==============================] - 1s 70ms/step - loss: 328.3143 - mse: 328.3143 - mae: 14.1196 - val_loss: 17268.7461 - val_mse: 17268.7461 - val_mae: 102.5296\n",
      "Epoch 51/150\n",
      "13/13 [==============================] - 1s 69ms/step - loss: 284.1432 - mse: 284.1432 - mae: 13.0589 - val_loss: 17172.0234 - val_mse: 17172.0234 - val_mae: 102.2245\n",
      "Epoch 52/150\n",
      "13/13 [==============================] - 1s 69ms/step - loss: 254.5334 - mse: 254.5334 - mae: 12.3678 - val_loss: 16824.7012 - val_mse: 16824.7012 - val_mae: 101.3484\n",
      "Epoch 53/150\n",
      "13/13 [==============================] - 1s 71ms/step - loss: 220.9309 - mse: 220.9309 - mae: 11.4343 - val_loss: 16648.5723 - val_mse: 16648.5723 - val_mae: 100.8289\n",
      "Epoch 54/150\n",
      "13/13 [==============================] - 1s 69ms/step - loss: 197.9111 - mse: 197.9111 - mae: 10.8587 - val_loss: 16481.9629 - val_mse: 16481.9609 - val_mae: 100.5068\n",
      "Epoch 55/150\n",
      "13/13 [==============================] - 1s 68ms/step - loss: 173.8051 - mse: 173.8051 - mae: 10.1342 - val_loss: 16321.8076 - val_mse: 16321.8076 - val_mae: 99.7764\n",
      "Epoch 56/150\n",
      "13/13 [==============================] - 1s 72ms/step - loss: 166.9733 - mse: 166.9733 - mae: 10.0212 - val_loss: 16160.3369 - val_mse: 16160.3369 - val_mae: 99.3590\n",
      "Epoch 57/150\n",
      "13/13 [==============================] - 1s 69ms/step - loss: 143.1074 - mse: 143.1074 - mae: 9.2107 - val_loss: 15985.1699 - val_mse: 15985.1709 - val_mae: 98.8402\n",
      "Epoch 58/150\n",
      "13/13 [==============================] - 1s 68ms/step - loss: 127.9734 - mse: 127.9734 - mae: 8.7236 - val_loss: 15918.7666 - val_mse: 15918.7666 - val_mae: 98.6081\n",
      "Epoch 59/150\n",
      "13/13 [==============================] - 1s 69ms/step - loss: 115.8955 - mse: 115.8955 - mae: 8.1877 - val_loss: 15830.5381 - val_mse: 15830.5381 - val_mae: 98.3503\n",
      "Epoch 60/150\n",
      "13/13 [==============================] - 1s 69ms/step - loss: 98.7500 - mse: 98.7500 - mae: 7.5843 - val_loss: 15693.1621 - val_mse: 15693.1621 - val_mae: 97.8032\n",
      "Epoch 61/150\n",
      "13/13 [==============================] - 1s 70ms/step - loss: 85.2049 - mse: 85.2049 - mae: 7.0066 - val_loss: 15633.0723 - val_mse: 15633.0723 - val_mae: 97.6153\n",
      "Epoch 62/150\n",
      "13/13 [==============================] - 1s 69ms/step - loss: 78.8888 - mse: 78.8888 - mae: 6.7815 - val_loss: 15456.2773 - val_mse: 15456.2773 - val_mae: 97.2279\n",
      "Epoch 63/150\n",
      "13/13 [==============================] - 1s 68ms/step - loss: 68.1254 - mse: 68.1254 - mae: 6.2296 - val_loss: 15382.1895 - val_mse: 15382.1895 - val_mae: 96.9358\n",
      "Epoch 64/150\n",
      "13/13 [==============================] - 1s 70ms/step - loss: 57.9564 - mse: 57.9564 - mae: 5.6845 - val_loss: 15287.9795 - val_mse: 15287.9795 - val_mae: 96.7145\n",
      "Epoch 65/150\n",
      "13/13 [==============================] - 1s 73ms/step - loss: 54.2911 - mse: 54.2911 - mae: 5.4908 - val_loss: 15200.5020 - val_mse: 15200.5020 - val_mae: 96.3653\n",
      "Epoch 66/150\n",
      "13/13 [==============================] - 1s 72ms/step - loss: 46.8158 - mse: 46.8158 - mae: 5.0752 - val_loss: 15100.4150 - val_mse: 15100.4150 - val_mae: 96.0339\n",
      "Epoch 67/150\n",
      "13/13 [==============================] - 1s 70ms/step - loss: 42.5069 - mse: 42.5069 - mae: 4.8490 - val_loss: 15035.1953 - val_mse: 15035.1953 - val_mae: 95.8369\n",
      "Epoch 68/150\n",
      "13/13 [==============================] - 1s 70ms/step - loss: 37.1363 - mse: 37.1363 - mae: 4.5362 - val_loss: 14983.9775 - val_mse: 14983.9775 - val_mae: 95.7342\n",
      "Epoch 69/150\n",
      "13/13 [==============================] - 1s 71ms/step - loss: 34.3580 - mse: 34.3580 - mae: 4.3388 - val_loss: 14934.0723 - val_mse: 14934.0732 - val_mae: 95.5495\n",
      "Epoch 70/150\n",
      "13/13 [==============================] - 1s 71ms/step - loss: 31.0115 - mse: 31.0115 - mae: 4.1004 - val_loss: 14911.2949 - val_mse: 14911.2959 - val_mae: 95.4411\n",
      "Epoch 71/150\n",
      "13/13 [==============================] - 1s 68ms/step - loss: 26.2644 - mse: 26.2644 - mae: 3.7234 - val_loss: 14827.5137 - val_mse: 14827.5137 - val_mae: 95.2259\n",
      "Epoch 72/150\n",
      "13/13 [==============================] - 1s 68ms/step - loss: 24.4069 - mse: 24.4069 - mae: 3.6423 - val_loss: 14785.3115 - val_mse: 14785.3115 - val_mae: 95.0351\n",
      "Epoch 73/150\n",
      "13/13 [==============================] - 1s 69ms/step - loss: 20.6858 - mse: 20.6858 - mae: 3.2861 - val_loss: 14757.2861 - val_mse: 14757.2861 - val_mae: 94.9533\n",
      "Epoch 74/150\n",
      "13/13 [==============================] - 1s 70ms/step - loss: 19.0113 - mse: 19.0113 - mae: 3.1324 - val_loss: 14705.1865 - val_mse: 14705.1875 - val_mae: 94.8093\n",
      "Epoch 75/150\n",
      "13/13 [==============================] - 1s 69ms/step - loss: 16.8322 - mse: 16.8322 - mae: 2.9004 - val_loss: 14672.8135 - val_mse: 14672.8135 - val_mae: 94.7400\n",
      "Epoch 76/150\n",
      "13/13 [==============================] - 1s 68ms/step - loss: 14.5816 - mse: 14.5816 - mae: 2.7046 - val_loss: 14667.7305 - val_mse: 14667.7305 - val_mae: 94.6074\n",
      "Epoch 77/150\n",
      "13/13 [==============================] - 1s 70ms/step - loss: 13.8770 - mse: 13.8770 - mae: 2.6710 - val_loss: 14644.6572 - val_mse: 14644.6572 - val_mae: 94.5971\n",
      "Epoch 78/150\n",
      "13/13 [==============================] - 1s 68ms/step - loss: 12.2002 - mse: 12.2002 - mae: 2.4557 - val_loss: 14569.1816 - val_mse: 14569.1816 - val_mae: 94.3492\n",
      "Epoch 79/150\n",
      "13/13 [==============================] - 1s 69ms/step - loss: 10.9235 - mse: 10.9235 - mae: 2.2930 - val_loss: 14578.4893 - val_mse: 14578.4893 - val_mae: 94.4038\n",
      "Epoch 80/150\n",
      "13/13 [==============================] - 1s 69ms/step - loss: 10.1244 - mse: 10.1244 - mae: 2.2356 - val_loss: 14537.4590 - val_mse: 14537.4590 - val_mae: 94.2790\n",
      "Epoch 81/150\n",
      "13/13 [==============================] - 1s 71ms/step - loss: 8.8662 - mse: 8.8662 - mae: 2.0574 - val_loss: 14528.1240 - val_mse: 14528.1240 - val_mae: 94.2432\n",
      "Epoch 82/150\n",
      "13/13 [==============================] - 1s 70ms/step - loss: 8.7084 - mse: 8.7084 - mae: 2.0783 - val_loss: 14526.4209 - val_mse: 14526.4209 - val_mae: 94.1751\n",
      "Epoch 83/150\n",
      "13/13 [==============================] - 1s 70ms/step - loss: 7.9501 - mse: 7.9501 - mae: 1.9667 - val_loss: 14435.3535 - val_mse: 14435.3535 - val_mae: 93.9699\n",
      "Epoch 84/150\n",
      "13/13 [==============================] - 1s 68ms/step - loss: 7.4332 - mse: 7.4332 - mae: 1.9442 - val_loss: 14444.4199 - val_mse: 14444.4199 - val_mae: 94.0201\n",
      "Epoch 85/150\n",
      "13/13 [==============================] - 1s 70ms/step - loss: 6.1565 - mse: 6.1565 - mae: 1.6858 - val_loss: 14422.6221 - val_mse: 14422.6221 - val_mae: 93.9039\n",
      "Epoch 86/150\n",
      "13/13 [==============================] - 1s 74ms/step - loss: 5.3842 - mse: 5.3842 - mae: 1.5498 - val_loss: 14420.8965 - val_mse: 14420.8965 - val_mae: 93.9013\n",
      "Epoch 87/150\n",
      "13/13 [==============================] - 1s 73ms/step - loss: 5.1071 - mse: 5.1071 - mae: 1.5121 - val_loss: 14417.3447 - val_mse: 14417.3447 - val_mae: 93.8819\n",
      "Epoch 88/150\n",
      "13/13 [==============================] - 1s 70ms/step - loss: 5.2738 - mse: 5.2738 - mae: 1.5564 - val_loss: 14395.4648 - val_mse: 14395.4648 - val_mae: 93.7539\n",
      "Epoch 89/150\n",
      "13/13 [==============================] - 1s 73ms/step - loss: 4.1365 - mse: 4.1365 - mae: 1.3649 - val_loss: 14391.8691 - val_mse: 14391.8691 - val_mae: 93.7954\n",
      "Epoch 90/150\n",
      "13/13 [==============================] - 1s 73ms/step - loss: 3.5367 - mse: 3.5367 - mae: 1.2486 - val_loss: 14353.9854 - val_mse: 14353.9854 - val_mae: 93.6856\n",
      "Epoch 91/150\n",
      "13/13 [==============================] - 1s 73ms/step - loss: 3.2988 - mse: 3.2988 - mae: 1.1603 - val_loss: 14349.3555 - val_mse: 14349.3555 - val_mae: 93.6920\n",
      "Epoch 92/150\n",
      "13/13 [==============================] - 1s 72ms/step - loss: 2.9014 - mse: 2.9014 - mae: 1.1006 - val_loss: 14355.3291 - val_mse: 14355.3291 - val_mae: 93.6476\n",
      "Epoch 93/150\n",
      "13/13 [==============================] - 1s 71ms/step - loss: 2.9720 - mse: 2.9720 - mae: 1.1519 - val_loss: 14324.0898 - val_mse: 14324.0918 - val_mae: 93.5739\n",
      "Epoch 94/150\n",
      "13/13 [==============================] - 1s 71ms/step - loss: 2.4306 - mse: 2.4306 - mae: 1.0023 - val_loss: 14302.3281 - val_mse: 14302.3281 - val_mae: 93.5387\n",
      "Epoch 95/150\n",
      "13/13 [==============================] - 1s 71ms/step - loss: 2.1638 - mse: 2.1638 - mae: 0.9542 - val_loss: 14300.9463 - val_mse: 14300.9463 - val_mae: 93.5089\n",
      "Epoch 96/150\n",
      "13/13 [==============================] - 1s 71ms/step - loss: 1.9252 - mse: 1.9252 - mae: 0.8717 - val_loss: 14310.1543 - val_mse: 14310.1543 - val_mae: 93.5087\n",
      "Epoch 97/150\n",
      "13/13 [==============================] - 1s 73ms/step - loss: 1.9959 - mse: 1.9959 - mae: 0.9187 - val_loss: 14273.3320 - val_mse: 14273.3320 - val_mae: 93.4432\n",
      "Epoch 98/150\n",
      "13/13 [==============================] - 1s 73ms/step - loss: 1.7403 - mse: 1.7403 - mae: 0.8451 - val_loss: 14276.7559 - val_mse: 14276.7559 - val_mae: 93.4442\n",
      "Epoch 99/150\n",
      "13/13 [==============================] - 1s 74ms/step - loss: 1.4811 - mse: 1.4811 - mae: 0.7520 - val_loss: 14280.6572 - val_mse: 14280.6572 - val_mae: 93.4546\n",
      "Epoch 100/150\n",
      "13/13 [==============================] - 1s 72ms/step - loss: 1.3665 - mse: 1.3665 - mae: 0.7035 - val_loss: 14251.3281 - val_mse: 14251.3281 - val_mae: 93.3598\n",
      "Epoch 101/150\n",
      "13/13 [==============================] - 1s 72ms/step - loss: 1.2251 - mse: 1.2251 - mae: 0.6705 - val_loss: 14262.9346 - val_mse: 14262.9346 - val_mae: 93.4120\n",
      "Epoch 102/150\n",
      "13/13 [==============================] - 1s 73ms/step - loss: 1.0788 - mse: 1.0788 - mae: 0.6321 - val_loss: 14260.5957 - val_mse: 14260.5957 - val_mae: 93.3674\n",
      "Epoch 103/150\n",
      "13/13 [==============================] - 1s 71ms/step - loss: 1.1320 - mse: 1.1320 - mae: 0.6713 - val_loss: 14241.3936 - val_mse: 14241.3936 - val_mae: 93.3402\n",
      "Epoch 104/150\n",
      "13/13 [==============================] - 1s 71ms/step - loss: 1.0796 - mse: 1.0796 - mae: 0.6547 - val_loss: 14245.6875 - val_mse: 14245.6875 - val_mae: 93.3301\n",
      "Epoch 105/150\n",
      "13/13 [==============================] - 1s 71ms/step - loss: 0.8733 - mse: 0.8733 - mae: 0.5567 - val_loss: 14226.3135 - val_mse: 14226.3135 - val_mae: 93.2882\n",
      "Epoch 106/150\n",
      "13/13 [==============================] - 1s 73ms/step - loss: 0.7365 - mse: 0.7365 - mae: 0.4987 - val_loss: 14235.5859 - val_mse: 14235.5869 - val_mae: 93.3015\n",
      "Epoch 107/150\n",
      "13/13 [==============================] - 1s 72ms/step - loss: 0.7798 - mse: 0.7798 - mae: 0.5432 - val_loss: 14213.3760 - val_mse: 14213.3760 - val_mae: 93.2502\n",
      "Epoch 108/150\n",
      "13/13 [==============================] - 1s 73ms/step - loss: 0.7935 - mse: 0.7935 - mae: 0.5787 - val_loss: 14227.1846 - val_mse: 14227.1846 - val_mae: 93.2679\n",
      "Epoch 109/150\n",
      "13/13 [==============================] - 1s 73ms/step - loss: 0.6175 - mse: 0.6175 - mae: 0.4811 - val_loss: 14220.6055 - val_mse: 14220.6055 - val_mae: 93.2489\n",
      "Epoch 110/150\n",
      "13/13 [==============================] - 1s 73ms/step - loss: 0.5524 - mse: 0.5524 - mae: 0.4474 - val_loss: 14211.9551 - val_mse: 14211.9551 - val_mae: 93.2458\n",
      "Epoch 111/150\n",
      "13/13 [==============================] - 1s 71ms/step - loss: 0.4982 - mse: 0.4982 - mae: 0.3971 - val_loss: 14213.6699 - val_mse: 14213.6699 - val_mae: 93.2345\n",
      "Epoch 112/150\n",
      "13/13 [==============================] - 1s 72ms/step - loss: 0.4475 - mse: 0.4475 - mae: 0.3699 - val_loss: 14202.4395 - val_mse: 14202.4395 - val_mae: 93.2020\n",
      "Epoch 113/150\n",
      "13/13 [==============================] - 1s 73ms/step - loss: 0.3987 - mse: 0.3987 - mae: 0.3466 - val_loss: 14206.6299 - val_mse: 14206.6299 - val_mae: 93.2166\n",
      "Epoch 114/150\n",
      "13/13 [==============================] - 1s 75ms/step - loss: 0.3656 - mse: 0.3656 - mae: 0.3397 - val_loss: 14206.6611 - val_mse: 14206.6611 - val_mae: 93.2102\n",
      "Epoch 115/150\n",
      "13/13 [==============================] - 1s 74ms/step - loss: 0.3518 - mse: 0.3518 - mae: 0.3206 - val_loss: 14185.2529 - val_mse: 14185.2529 - val_mae: 93.1601\n",
      "Epoch 116/150\n",
      "13/13 [==============================] - 1s 73ms/step - loss: 0.3302 - mse: 0.3302 - mae: 0.3352 - val_loss: 14197.7822 - val_mse: 14197.7822 - val_mae: 93.1903\n",
      "Epoch 117/150\n",
      "13/13 [==============================] - 1s 75ms/step - loss: 0.3289 - mse: 0.3289 - mae: 0.3213 - val_loss: 14198.2637 - val_mse: 14198.2637 - val_mae: 93.1864\n",
      "Epoch 118/150\n",
      "13/13 [==============================] - 1s 74ms/step - loss: 0.2763 - mse: 0.2763 - mae: 0.2977 - val_loss: 14186.0273 - val_mse: 14186.0273 - val_mae: 93.1519\n",
      "Epoch 119/150\n",
      "13/13 [==============================] - 1s 73ms/step - loss: 0.2396 - mse: 0.2396 - mae: 0.2708 - val_loss: 14186.2637 - val_mse: 14186.2637 - val_mae: 93.1571\n",
      "Epoch 120/150\n",
      "13/13 [==============================] - 1s 75ms/step - loss: 0.2124 - mse: 0.2124 - mae: 0.2537 - val_loss: 14188.8643 - val_mse: 14188.8643 - val_mae: 93.1580\n",
      "Epoch 121/150\n",
      "13/13 [==============================] - 1s 75ms/step - loss: 0.2251 - mse: 0.2251 - mae: 0.2580 - val_loss: 14187.4248 - val_mse: 14187.4248 - val_mae: 93.1519\n",
      "Epoch 122/150\n",
      "13/13 [==============================] - 1s 74ms/step - loss: 0.2169 - mse: 0.2169 - mae: 0.2823 - val_loss: 14174.6846 - val_mse: 14174.6846 - val_mae: 93.1278\n",
      "Epoch 123/150\n",
      "13/13 [==============================] - 1s 74ms/step - loss: 0.1826 - mse: 0.1826 - mae: 0.2443 - val_loss: 14180.1309 - val_mse: 14180.1299 - val_mae: 93.1353\n",
      "Epoch 124/150\n",
      "13/13 [==============================] - 1s 73ms/step - loss: 0.1585 - mse: 0.1585 - mae: 0.2282 - val_loss: 14183.1064 - val_mse: 14183.1064 - val_mae: 93.1344\n",
      "Epoch 125/150\n",
      "13/13 [==============================] - 1s 74ms/step - loss: 0.1556 - mse: 0.1556 - mae: 0.2152 - val_loss: 14175.9756 - val_mse: 14175.9756 - val_mae: 93.1220\n",
      "Epoch 126/150\n",
      "13/13 [==============================] - 1s 75ms/step - loss: 0.1417 - mse: 0.1417 - mae: 0.2101 - val_loss: 14176.4492 - val_mse: 14176.4492 - val_mae: 93.1141\n",
      "Epoch 127/150\n",
      "13/13 [==============================] - 1s 73ms/step - loss: 0.1149 - mse: 0.1149 - mae: 0.1762 - val_loss: 14172.8906 - val_mse: 14172.8906 - val_mae: 93.1095\n",
      "Epoch 128/150\n",
      "13/13 [==============================] - 1s 79ms/step - loss: 0.0994 - mse: 0.0994 - mae: 0.1566 - val_loss: 14170.7725 - val_mse: 14170.7725 - val_mae: 93.0955\n",
      "Epoch 129/150\n",
      "13/13 [==============================] - 1s 77ms/step - loss: 0.1006 - mse: 0.1006 - mae: 0.1704 - val_loss: 14166.8564 - val_mse: 14166.8564 - val_mae: 93.0951\n",
      "Epoch 130/150\n",
      "13/13 [==============================] - 1s 76ms/step - loss: 0.1077 - mse: 0.1077 - mae: 0.2035 - val_loss: 14167.6396 - val_mse: 14167.6396 - val_mae: 93.0922\n",
      "Epoch 131/150\n",
      "13/13 [==============================] - 1s 74ms/step - loss: 0.1040 - mse: 0.1040 - mae: 0.1879 - val_loss: 14170.7031 - val_mse: 14170.7031 - val_mae: 93.1032\n",
      "Epoch 132/150\n",
      "13/13 [==============================] - 1s 74ms/step - loss: 0.0955 - mse: 0.0955 - mae: 0.1791 - val_loss: 14167.7217 - val_mse: 14167.7217 - val_mae: 93.0950\n",
      "Epoch 133/150\n",
      "13/13 [==============================] - 1s 75ms/step - loss: 0.0848 - mse: 0.0848 - mae: 0.1561 - val_loss: 14163.4609 - val_mse: 14163.4609 - val_mae: 93.0844\n",
      "Epoch 134/150\n",
      "13/13 [==============================] - 1s 74ms/step - loss: 0.0762 - mse: 0.0762 - mae: 0.1530 - val_loss: 14164.0830 - val_mse: 14164.0830 - val_mae: 93.0797\n",
      "Epoch 135/150\n",
      "13/13 [==============================] - 1s 73ms/step - loss: 0.0595 - mse: 0.0595 - mae: 0.1351 - val_loss: 14162.9277 - val_mse: 14162.9277 - val_mae: 93.0780\n",
      "Epoch 136/150\n",
      "13/13 [==============================] - 1s 73ms/step - loss: 0.0546 - mse: 0.0546 - mae: 0.1139 - val_loss: 14161.0146 - val_mse: 14161.0146 - val_mae: 93.0737\n",
      "Epoch 137/150\n",
      "13/13 [==============================] - 1s 74ms/step - loss: 0.0553 - mse: 0.0553 - mae: 0.1395 - val_loss: 14159.3701 - val_mse: 14159.3701 - val_mae: 93.0688\n",
      "Epoch 138/150\n",
      "13/13 [==============================] - 1s 75ms/step - loss: 0.0470 - mse: 0.0470 - mae: 0.1152 - val_loss: 14158.9141 - val_mse: 14158.9150 - val_mae: 93.0672\n",
      "Epoch 139/150\n",
      "13/13 [==============================] - 1s 74ms/step - loss: 0.0499 - mse: 0.0499 - mae: 0.1235 - val_loss: 14160.8613 - val_mse: 14160.8613 - val_mae: 93.0694\n",
      "Epoch 140/150\n",
      "13/13 [==============================] - 1s 74ms/step - loss: 0.0515 - mse: 0.0515 - mae: 0.1426 - val_loss: 14160.6436 - val_mse: 14160.6436 - val_mae: 93.0704\n",
      "Epoch 141/150\n",
      "13/13 [==============================] - 1s 74ms/step - loss: 0.0467 - mse: 0.0467 - mae: 0.1387 - val_loss: 14157.9814 - val_mse: 14157.9814 - val_mae: 93.0650\n",
      "Epoch 142/150\n",
      "13/13 [==============================] - 1s 73ms/step - loss: 0.0326 - mse: 0.0326 - mae: 0.1049 - val_loss: 14157.7109 - val_mse: 14157.7109 - val_mae: 93.0611\n",
      "Epoch 143/150\n",
      "13/13 [==============================] - 1s 74ms/step - loss: 0.0283 - mse: 0.0283 - mae: 0.0876 - val_loss: 14158.4082 - val_mse: 14158.4082 - val_mae: 93.0630\n",
      "Epoch 144/150\n",
      "13/13 [==============================] - 1s 76ms/step - loss: 0.0236 - mse: 0.0236 - mae: 0.0732 - val_loss: 14155.7773 - val_mse: 14155.7773 - val_mae: 93.0559\n",
      "Epoch 145/150\n",
      "13/13 [==============================] - 1s 78ms/step - loss: 0.0228 - mse: 0.0228 - mae: 0.0716 - val_loss: 14156.2363 - val_mse: 14156.2363 - val_mae: 93.0558\n",
      "Epoch 146/150\n",
      "13/13 [==============================] - 1s 76ms/step - loss: 0.0210 - mse: 0.0210 - mae: 0.0689 - val_loss: 14154.5283 - val_mse: 14154.5283 - val_mae: 93.0516\n",
      "Epoch 147/150\n",
      "13/13 [==============================] - 1s 74ms/step - loss: 0.0226 - mse: 0.0226 - mae: 0.0812 - val_loss: 14152.7354 - val_mse: 14152.7354 - val_mae: 93.0464\n",
      "Epoch 148/150\n",
      "13/13 [==============================] - 1s 75ms/step - loss: 0.0223 - mse: 0.0223 - mae: 0.0927 - val_loss: 14152.7793 - val_mse: 14152.7793 - val_mae: 93.0422\n",
      "Epoch 149/150\n",
      "13/13 [==============================] - 1s 74ms/step - loss: 0.0262 - mse: 0.0262 - mae: 0.0979 - val_loss: 14152.6279 - val_mse: 14152.6279 - val_mae: 93.0468\n",
      "Epoch 150/150\n",
      "13/13 [==============================] - 1s 74ms/step - loss: 0.0192 - mse: 0.0192 - mae: 0.0835 - val_loss: 14153.3047 - val_mse: 14153.3047 - val_mae: 93.0439\n"
     ]
    }
   ],
   "source": [
    "model.compile(loss='mse', optimizer='adam', metrics=['mse','mae'])\n",
    "history=model.fit(X_train, y_train, batch_size=80, epochs=150, verbose=1, validation_split=0.2)\n",
    "#predictions = model.predict(X_test)"
   ]
  },
  {
   "cell_type": "code",
   "execution_count": 75,
   "metadata": {},
   "outputs": [
    {
     "name": "stdout",
     "output_type": "stream",
     "text": [
      "dict_keys(['loss', 'mse', 'mae', 'val_loss', 'val_mse', 'val_mae'])\n"
     ]
    },
    {
     "data": {
      "image/png": "[encoded data removed]",
      "text/plain": [
       "<Figure size 432x288 with 1 Axes>"
      ]
     },
     "metadata": {
      "needs_background": "light"
     },
     "output_type": "display_data"
    }
   ],
   "source": [
    "print(history.history.keys())\n",
    "# \"Loss\"\n",
    "plt.plot(history.history['loss'])\n",
    "plt.plot(history.history['val_loss'])\n",
    "plt.title('model loss')\n",
    "plt.ylabel('loss')\n",
    "plt.xlabel('epoch')\n",
    "plt.legend(['train', 'validation'], loc='upper left')\n",
    "plt.show()"
   ]
  },
  {
   "cell_type": "markdown",
   "metadata": {},
   "source": [
    "### Doc2Vec"
   ]
  },
  {
   "cell_type": "markdown",
   "metadata": {},
   "source": [
    "We try a second approach, we replace the TF-IDF by the Doc2Vec, a deep learning approach that computes a vector for each text. Thanks to these vectors, called embeddings, we can compare whole documents together. We will use this method and see if it outperforms the TF-IDF approach"
   ]
  },
  {
   "cell_type": "markdown",
   "metadata": {},
   "source": [
    "We use the same methods as before, hence only the results will be discussed."
   ]
  },
  {
   "cell_type": "code",
   "execution_count": 76,
   "metadata": {},
   "outputs": [
    {
     "data": {
      "text/plain": [
       "<module 'gensim' from 'C:\\\\Users\\\\hugop\\\\anaconda3\\\\lib\\\\site-packages\\\\gensim\\\\__init__.py'>"
      ]
     },
     "execution_count": 76,
     "metadata": {},
     "output_type": "execute_result"
    }
   ],
   "source": [
    "gensim"
   ]
  },
  {
   "cell_type": "code",
   "execution_count": 77,
   "metadata": {},
   "outputs": [],
   "source": [
    " def LL_to_TGdoc(file=list(df_fr['Text']), tokens_only=False):\n",
    "    \n",
    "    for i, tokens in enumerate(file):\n",
    "        if tokens_only:\n",
    "                yield tokens\n",
    "        else:\n",
    "                # For training data, add tags\n",
    "                yield gensim.models.doc2vec.TaggedDocument(tokens, [i])\n",
    "        \n",
    "train_corpus = list(LL_to_TGdoc())        "
   ]
  },
  {
   "cell_type": "code",
   "execution_count": 78,
   "metadata": {},
   "outputs": [],
   "source": [
    "from gensim.models.doc2vec import Doc2Vec, TaggedDocument\n",
    "model = Doc2Vec(train_corpus, vector_size=500, window=8, min_count=10, workers=4)"
   ]
  },
  {
   "cell_type": "code",
   "execution_count": 79,
   "metadata": {},
   "outputs": [
    {
     "data": {
      "text/plain": [
       "1285"
      ]
     },
     "execution_count": 79,
     "metadata": {},
     "output_type": "execute_result"
    }
   ],
   "source": [
    "len(model.docvecs.doctag_syn0)"
   ]
  },
  {
   "cell_type": "code",
   "execution_count": 80,
   "metadata": {},
   "outputs": [],
   "source": [
    "a = model.docvecs.doctag_syn0\n",
    "a = a.tolist()\n",
    "\n",
    "X_train = a[:1000]\n",
    "y_train = list(df_fr['date'])[:1000]\n",
    "X_test = a[1000:]\n",
    "y_test = list(df_fr['date'])[1000:]"
   ]
  },
  {
   "cell_type": "code",
   "execution_count": 81,
   "metadata": {},
   "outputs": [],
   "source": [
    "a = []\n",
    "for item in y_train:\n",
    "    a.append(float(item))\n",
    "    \n",
    "y_train = a\n",
    "\n",
    "\n",
    "a = []\n",
    "for item in y_test:\n",
    "    a.append(float(item))\n",
    "    \n",
    "y_test = a"
   ]
  },
  {
   "cell_type": "markdown",
   "metadata": {},
   "source": [
    "### Dummy Classifier (as baseline)"
   ]
  },
  {
   "cell_type": "code",
   "execution_count": 82,
   "metadata": {},
   "outputs": [
    {
     "data": {
      "text/plain": [
       "DummyClassifier(strategy='most_frequent')"
      ]
     },
     "execution_count": 82,
     "metadata": {},
     "output_type": "execute_result"
    }
   ],
   "source": [
    "from sklearn.dummy import DummyClassifier\n",
    "dummy_clf = DummyClassifier(strategy=\"most_frequent\")\n",
    "dummy_clf.fit(X_train, y_train)"
   ]
  },
  {
   "cell_type": "markdown",
   "metadata": {},
   "source": [
    "We get an accuracy of 7.36% with the Dummy Classifier. This score being lower than the one we got with the Dummy on the TF-IDF data, we can expect the Doc2Vec approach to be worse overall."
   ]
  },
  {
   "cell_type": "code",
   "execution_count": 83,
   "metadata": {},
   "outputs": [
    {
     "data": {
      "text/plain": [
       "0.07368421052631578"
      ]
     },
     "execution_count": 83,
     "metadata": {},
     "output_type": "execute_result"
    }
   ],
   "source": [
    "dummy_clf.score(X_test, y_test)"
   ]
  },
  {
   "cell_type": "markdown",
   "metadata": {},
   "source": [
    "### KNN"
   ]
  },
  {
   "cell_type": "code",
   "execution_count": 84,
   "metadata": {},
   "outputs": [],
   "source": [
    "#import KNeighborsClassifier\n",
    "from sklearn.neighbors import KNeighborsClassifier\n",
    "\n",
    "#Setup arrays to store training and test accuracies\n",
    "neighbors = np.arange(1,40,2)\n",
    "train_accuracy =np.empty(len(neighbors))\n",
    "test_accuracy = np.empty(len(neighbors))\n",
    "\n",
    "for i,k in enumerate(neighbors):\n",
    "    #Setup a knn classifier with k neighbors\n",
    "    knn = KNeighborsClassifier(n_neighbors=k)\n",
    "    \n",
    "    #Fit the model\n",
    "    knn.fit(X_train, y_train)\n",
    "    \n",
    "    #Compute accuracy on the training set\n",
    "    train_accuracy[i] = knn.score(X_train, y_train)\n",
    "    \n",
    "    #Compute accuracy on the test set\n",
    "    test_accuracy[i] = knn.score(X_test, y_test)"
   ]
  },
  {
   "cell_type": "code",
   "execution_count": 85,
   "metadata": {},
   "outputs": [
    {
     "data": {
      "image/png": "[encoded data removed]",
      "text/plain": [
       "<Figure size 432x288 with 1 Axes>"
      ]
     },
     "metadata": {
      "needs_background": "light"
     },
     "output_type": "display_data"
    }
   ],
   "source": [
    "#Generate plot\n",
    "plt.title('k-NN Varying number of neighbors')\n",
    "plt.plot(neighbors, test_accuracy, label='Testing Accuracy')\n",
    "plt.plot(neighbors, train_accuracy, label='Training accuracy')\n",
    "plt.legend()\n",
    "plt.xlabel('Number of neighbors')\n",
    "plt.ylabel('Accuracy')\n",
    "plt.show()"
   ]
  },
  {
   "cell_type": "markdown",
   "metadata": {},
   "source": [
    "We get an accuracy of 9.8% with the KNN"
   ]
  },
  {
   "cell_type": "code",
   "execution_count": 86,
   "metadata": {},
   "outputs": [
    {
     "data": {
      "text/plain": [
       "0.09824561403508772"
      ]
     },
     "execution_count": 86,
     "metadata": {},
     "output_type": "execute_result"
    }
   ],
   "source": [
    "max(test_accuracy)"
   ]
  },
  {
   "cell_type": "code",
   "execution_count": 87,
   "metadata": {},
   "outputs": [
    {
     "data": {
      "text/plain": [
       "31"
      ]
     },
     "execution_count": 87,
     "metadata": {},
     "output_type": "execute_result"
    }
   ],
   "source": [
    "#which iteration is the best:\n",
    "(list(test_accuracy).index(max(test_accuracy))*2)+1"
   ]
  },
  {
   "cell_type": "code",
   "execution_count": 88,
   "metadata": {},
   "outputs": [],
   "source": [
    "np.random.seed(1)"
   ]
  },
  {
   "cell_type": "markdown",
   "metadata": {},
   "source": [
    "### Classifiers"
   ]
  },
  {
   "cell_type": "code",
   "execution_count": 89,
   "metadata": {},
   "outputs": [
    {
     "name": "stdout",
     "output_type": "stream",
     "text": [
      "__init__() missing 1 required positional argument: 'base_estimator'\n",
      "__init__() missing 1 required positional argument: 'estimator'\n",
      "__init__() missing 1 required positional argument: 'estimator'\n",
      "__init__() missing 1 required positional argument: 'estimator'\n",
      "__init__() missing 1 required positional argument: 'estimator'\n",
      "__init__() missing 1 required positional argument: 'estimators'\n",
      "__init__() missing 1 required positional argument: 'estimators'\n"
     ]
    }
   ],
   "source": [
    "from sklearn.utils import all_estimators\n",
    "\n",
    "estimators = all_estimators(type_filter='classifier')\n",
    "\n",
    "all_clfs = []\n",
    "for name, ClassifierClass in estimators:\n",
    "    #print('Appending', name)\n",
    "    try:\n",
    "        clf = ClassifierClass()\n",
    "        all_clfs.append(clf)\n",
    "    except Exception as e:\n",
    "        #print('Unable to import', name)\n",
    "        print(e)"
   ]
  },
  {
   "cell_type": "code",
   "execution_count": 90,
   "metadata": {
    "scrolled": true
   },
   "outputs": [
    {
     "name": "stdout",
     "output_type": "stream",
     "text": [
      "0.07017543859649122\n",
      "0.07368421052631578\n",
      "0.08070175438596491\n",
      "0.0912280701754386\n",
      "Negative values in data passed to CategoricalNB (input X)\n",
      "Negative values in data passed to ComplementNB (input X)\n",
      "0.07017543859649122\n",
      "0.07368421052631578\n",
      "0.05263157894736842\n",
      "0.056140350877192984\n",
      "0.07368421052631578\n",
      "0.08421052631578947\n",
      "0.05263157894736842\n",
      "0.07017543859649122\n",
      "0.06315789473684211\n",
      "0.05964912280701754\n",
      "0.06315789473684211\n",
      "0.04912280701754386\n",
      "0.08421052631578947\n",
      "0.09824561403508772\n",
      "0.08771929824561403\n",
      "0.09473684210526316\n",
      "Negative values in data passed to MultinomialNB (input X)\n",
      "0.08070175438596491\n",
      "specified nu is infeasible\n",
      "0.08070175438596491\n",
      "0.05263157894736842\n",
      "0.05263157894736842\n",
      "No neighbors found for test samples array([  0,   1,   2,   3,   4,   5,   6,   7,   8,   9,  10,  11,  12,\n",
      "        13,  14,  15,  16,  17,  18,  19,  20,  21,  22,  23,  24,  25,\n",
      "        26,  27,  28,  29,  30,  31,  32,  33,  34,  35,  36,  37,  38,\n",
      "        39,  40,  41,  42,  43,  44,  45,  46,  47,  49,  50,  51,  52,\n",
      "        53,  54,  55,  56,  57,  58,  59,  60,  61,  62,  63,  64,  65,\n",
      "        67,  68,  69,  70,  71,  72,  73,  74,  75,  76,  77,  78,  79,\n",
      "        80,  81,  82,  83,  84,  85,  86,  87,  88,  89,  90,  92,  93,\n",
      "        94,  95,  96,  97,  98,  99, 100, 101, 102, 103, 104, 105, 106,\n",
      "       107, 108, 109, 110, 111, 112, 113, 114, 115, 116, 117, 118, 119,\n",
      "       120, 121, 122, 123, 124, 125, 126, 127, 128, 129, 130, 131, 132,\n",
      "       133, 134, 135, 136, 137, 138, 139, 140, 141, 142, 143, 144, 145,\n",
      "       146, 147, 148, 149, 150, 151, 152, 153, 154, 155, 156, 157, 158,\n",
      "       159, 160, 161, 162, 163, 164, 165, 166, 167, 168, 169, 170, 171,\n",
      "       172, 173, 174, 175, 176, 177, 178, 179, 180, 181, 182, 183, 184,\n",
      "       185, 186, 187, 188, 189, 190, 191, 192, 193, 194, 195, 196, 197,\n",
      "       198, 199, 200, 201, 202, 204, 205, 206, 207, 208, 209, 210, 211,\n",
      "       212, 213, 214, 215, 216, 217, 218, 219, 220, 221, 222, 223, 224,\n",
      "       225, 226, 227, 228, 229, 230, 231, 232, 233, 234, 235, 236, 237,\n",
      "       238, 239, 240, 241, 242, 243, 244, 245, 246, 247, 248, 249, 250,\n",
      "       251, 252, 253, 254, 255, 256, 257, 258, 259, 260, 261, 262, 263,\n",
      "       264, 265, 266, 267, 268, 269, 270, 271, 272, 273, 274, 275, 276,\n",
      "       277, 278, 279, 280, 281, 282, 284], dtype=int64), you can try using larger radius, giving a label for outliers, or considering removing them from your dataset.\n",
      "0.07368421052631578\n",
      "0.0912280701754386\n",
      "0.08771929824561403\n",
      "0.09824561403508772\n",
      "0.07719298245614035\n"
     ]
    }
   ],
   "source": [
    "results = []\n",
    "for algo in all_clfs:\n",
    "    try:\n",
    "        algo.fit(X_train, y_train)\n",
    "        performance = algo.score(X_test, y_test)\n",
    "        results.append(performance)\n",
    "        print(performance)\n",
    "    except Exception as e:\n",
    "        #print('Unable to import', name)\n",
    "        print(e)"
   ]
  },
  {
   "cell_type": "code",
   "execution_count": 99,
   "metadata": {},
   "outputs": [
    {
     "data": {
      "text/plain": [
       "0.09824561403508772"
      ]
     },
     "execution_count": 99,
     "metadata": {},
     "output_type": "execute_result"
    }
   ],
   "source": [
    "max(results)"
   ]
  },
  {
   "cell_type": "code",
   "execution_count": 112,
   "metadata": {},
   "outputs": [
    {
     "data": {
      "text/plain": [
       "0.0912280701754386"
      ]
     },
     "execution_count": 112,
     "metadata": {},
     "output_type": "execute_result"
    }
   ],
   "source": [
    "import numpy as np\n",
    "from sklearn.linear_model import SGDClassifier\n",
    "mod = SGDClassifier()\n",
    "mod.fit(X_train, y_train)\n",
    "mod.score(X_test, y_test)"
   ]
  },
  {
   "cell_type": "code",
   "execution_count": 114,
   "metadata": {},
   "outputs": [],
   "source": [
    "y_pred = mod.predict(X_test)"
   ]
  },
  {
   "cell_type": "markdown",
   "metadata": {},
   "source": [
    "We get a 33 of MSE with the best model availble for classification, not any better than with the TF-IDF"
   ]
  },
  {
   "cell_type": "code",
   "execution_count": 115,
   "metadata": {},
   "outputs": [
    {
     "data": {
      "text/plain": [
       "33.256140350877196"
      ]
     },
     "execution_count": 115,
     "metadata": {},
     "output_type": "execute_result"
    }
   ],
   "source": [
    "from sklearn.metrics import mean_squared_error\n",
    "mean_squared_error(y_test, y_pred, squared=True)"
   ]
  },
  {
   "cell_type": "markdown",
   "metadata": {},
   "source": [
    "### Dummy Regressor (as baseline)"
   ]
  },
  {
   "cell_type": "markdown",
   "metadata": {},
   "source": [
    "Again, we look at the regression methods"
   ]
  },
  {
   "cell_type": "code",
   "execution_count": 117,
   "metadata": {},
   "outputs": [
    {
     "data": {
      "text/plain": [
       "-0.001385750811327524"
      ]
     },
     "execution_count": 117,
     "metadata": {},
     "output_type": "execute_result"
    }
   ],
   "source": [
    "import numpy as np\n",
    "from sklearn.dummy import DummyRegressor\n",
    "dummy_regr = DummyRegressor(strategy=\"mean\")\n",
    "dummy_regr.fit(X_train, y_train)\n",
    "dummy_regr.score(X_test, y_test)"
   ]
  },
  {
   "cell_type": "code",
   "execution_count": 118,
   "metadata": {},
   "outputs": [
    {
     "data": {
      "text/plain": [
       "33.256140350877196"
      ]
     },
     "execution_count": 118,
     "metadata": {},
     "output_type": "execute_result"
    }
   ],
   "source": [
    "from sklearn.metrics import mean_squared_error\n",
    "mean_squared_error(y_test, y_pred, squared=True)"
   ]
  },
  {
   "cell_type": "code",
   "execution_count": 119,
   "metadata": {},
   "outputs": [
    {
     "name": "stdout",
     "output_type": "stream",
     "text": [
      "__init__() missing 1 required positional argument: 'estimator'\n",
      "__init__() missing 1 required positional argument: 'base_estimator'\n",
      "__init__() missing 1 required positional argument: 'estimators'\n",
      "__init__() missing 1 required positional argument: 'estimators'\n"
     ]
    }
   ],
   "source": [
    "from sklearn.utils import all_estimators\n",
    "\n",
    "estimators = all_estimators(type_filter='regressor')\n",
    "\n",
    "all_regs = []\n",
    "for name, ClassifierClass in estimators:\n",
    "    #print('Appending', name)\n",
    "    try:\n",
    "        clf = ClassifierClass()\n",
    "        all_regs.append(clf)\n",
    "    except Exception as e:\n",
    "        #print('Unable to import', name)\n",
    "        print(e)"
   ]
  },
  {
   "cell_type": "markdown",
   "metadata": {},
   "source": [
    "I had to stop the cell from running cause it was way too long, don't really know why"
   ]
  },
  {
   "cell_type": "code",
   "execution_count": 120,
   "metadata": {
    "scrolled": true
   },
   "outputs": [
    {
     "name": "stdout",
     "output_type": "stream",
     "text": [
      "0.1794208786297632\n",
      "0.17291238758658956\n",
      "0.12192083306015922\n",
      "0.2070590333735608\n",
      "0.004455394025421278\n",
      "-0.752968121497742\n",
      "-0.001385750811327524\n",
      "-0.001385750811327524\n",
      "0.20548353050792356\n",
      "-0.8858249420548638\n",
      "0.22279000407833427\n",
      "0.12663618068533244\n",
      "-38231.551483496696\n",
      "0.15576724809857678\n",
      "0.0976254204373056\n",
      "0.11367093167210507\n",
      "Isotonic regression input X should be a 1d array or 2d array with 1 feature\n",
      "0.015447151336110854\n",
      "-2604.597014422334\n",
      "-5560753.258073808\n",
      "0.1289904534227041\n",
      "-0.001385750811327524\n",
      "0.2079607623073092\n",
      "-0.001385750811327524\n",
      "0.19374231835660893\n",
      "0.19383250400952723\n",
      "-2.2129588357310146\n",
      "-8797.369557183014\n",
      "-22346.037135014925\n",
      "For mono-task outputs, use ElasticNet\n",
      "For mono-task outputs, use ElasticNetCVCV\n",
      "For mono-task outputs, use ElasticNet\n",
      "For mono-task outputs, use LassoCVCV\n",
      "0.2367780465126712\n",
      "0.13092302091289765\n",
      "0.16887027863540638\n",
      "-29.099456838501446\n",
      "0.20005668466530335\n",
      "-0.568533045497823\n",
      "0.17662194370935225\n",
      "-204.3455302126896\n",
      "Input contains NaN, infinity or a value too large for dtype('float64').\n",
      "0.19069514856515857\n",
      "0.18338857482058324\n",
      "0.19784472931674535\n",
      "-18.88900274470269\n",
      "0.2497156623604575\n"
     ]
    },
    {
     "ename": "KeyboardInterrupt",
     "evalue": "",
     "output_type": "error",
     "traceback": [
      "\u001b[1;31m---------------------------------------------------------------------------\u001b[0m",
      "\u001b[1;31mKeyboardInterrupt\u001b[0m                         Traceback (most recent call last)",
      "\u001b[1;32m<ipython-input-120-0e8085bd73bd>\u001b[0m in \u001b[0;36m<module>\u001b[1;34m\u001b[0m\n\u001b[0;32m      2\u001b[0m \u001b[1;32mfor\u001b[0m \u001b[0malgo\u001b[0m \u001b[1;32min\u001b[0m \u001b[0mall_regs\u001b[0m\u001b[1;33m:\u001b[0m\u001b[1;33m\u001b[0m\u001b[1;33m\u001b[0m\u001b[0m\n\u001b[0;32m      3\u001b[0m     \u001b[1;32mtry\u001b[0m\u001b[1;33m:\u001b[0m\u001b[1;33m\u001b[0m\u001b[1;33m\u001b[0m\u001b[0m\n\u001b[1;32m----> 4\u001b[1;33m         \u001b[0malgo\u001b[0m\u001b[1;33m.\u001b[0m\u001b[0mfit\u001b[0m\u001b[1;33m(\u001b[0m\u001b[0mX_train\u001b[0m\u001b[1;33m,\u001b[0m \u001b[0my_train\u001b[0m\u001b[1;33m)\u001b[0m\u001b[1;33m\u001b[0m\u001b[1;33m\u001b[0m\u001b[0m\n\u001b[0m\u001b[0;32m      5\u001b[0m         \u001b[0mperformance\u001b[0m \u001b[1;33m=\u001b[0m \u001b[0malgo\u001b[0m\u001b[1;33m.\u001b[0m\u001b[0mscore\u001b[0m\u001b[1;33m(\u001b[0m\u001b[0mX_test\u001b[0m\u001b[1;33m,\u001b[0m \u001b[0my_test\u001b[0m\u001b[1;33m)\u001b[0m\u001b[1;33m\u001b[0m\u001b[1;33m\u001b[0m\u001b[0m\n\u001b[0;32m      6\u001b[0m         \u001b[0mresults\u001b[0m\u001b[1;33m.\u001b[0m\u001b[0mappend\u001b[0m\u001b[1;33m(\u001b[0m\u001b[0mperformance\u001b[0m\u001b[1;33m)\u001b[0m\u001b[1;33m\u001b[0m\u001b[1;33m\u001b[0m\u001b[0m\n",
      "\u001b[1;32m~\\anaconda3\\lib\\site-packages\\sklearn\\linear_model\\_theil_sen.py\u001b[0m in \u001b[0;36mfit\u001b[1;34m(self, X, y)\u001b[0m\n\u001b[0;32m    385\u001b[0m                            \u001b[0mverbose\u001b[0m\u001b[1;33m=\u001b[0m\u001b[0mself\u001b[0m\u001b[1;33m.\u001b[0m\u001b[0mverbose\u001b[0m\u001b[1;33m)\u001b[0m\u001b[1;33m(\u001b[0m\u001b[1;33m\u001b[0m\u001b[1;33m\u001b[0m\u001b[0m\n\u001b[0;32m    386\u001b[0m             \u001b[0mdelayed\u001b[0m\u001b[1;33m(\u001b[0m\u001b[0m_lstsq\u001b[0m\u001b[1;33m)\u001b[0m\u001b[1;33m(\u001b[0m\u001b[0mX\u001b[0m\u001b[1;33m,\u001b[0m \u001b[0my\u001b[0m\u001b[1;33m,\u001b[0m \u001b[0mindex_list\u001b[0m\u001b[1;33m[\u001b[0m\u001b[0mjob\u001b[0m\u001b[1;33m]\u001b[0m\u001b[1;33m,\u001b[0m \u001b[0mself\u001b[0m\u001b[1;33m.\u001b[0m\u001b[0mfit_intercept\u001b[0m\u001b[1;33m)\u001b[0m\u001b[1;33m\u001b[0m\u001b[1;33m\u001b[0m\u001b[0m\n\u001b[1;32m--> 387\u001b[1;33m             for job in range(n_jobs))\n\u001b[0m\u001b[0;32m    388\u001b[0m         \u001b[0mweights\u001b[0m \u001b[1;33m=\u001b[0m \u001b[0mnp\u001b[0m\u001b[1;33m.\u001b[0m\u001b[0mvstack\u001b[0m\u001b[1;33m(\u001b[0m\u001b[0mweights\u001b[0m\u001b[1;33m)\u001b[0m\u001b[1;33m\u001b[0m\u001b[1;33m\u001b[0m\u001b[0m\n\u001b[0;32m    389\u001b[0m         self.n_iter_, coefs = _spatial_median(weights,\n",
      "\u001b[1;32m~\\anaconda3\\lib\\site-packages\\joblib\\parallel.py\u001b[0m in \u001b[0;36m__call__\u001b[1;34m(self, iterable)\u001b[0m\n\u001b[0;32m   1002\u001b[0m             \u001b[1;31m# remaining jobs.\u001b[0m\u001b[1;33m\u001b[0m\u001b[1;33m\u001b[0m\u001b[1;33m\u001b[0m\u001b[0m\n\u001b[0;32m   1003\u001b[0m             \u001b[0mself\u001b[0m\u001b[1;33m.\u001b[0m\u001b[0m_iterating\u001b[0m \u001b[1;33m=\u001b[0m \u001b[1;32mFalse\u001b[0m\u001b[1;33m\u001b[0m\u001b[1;33m\u001b[0m\u001b[0m\n\u001b[1;32m-> 1004\u001b[1;33m             \u001b[1;32mif\u001b[0m \u001b[0mself\u001b[0m\u001b[1;33m.\u001b[0m\u001b[0mdispatch_one_batch\u001b[0m\u001b[1;33m(\u001b[0m\u001b[0miterator\u001b[0m\u001b[1;33m)\u001b[0m\u001b[1;33m:\u001b[0m\u001b[1;33m\u001b[0m\u001b[1;33m\u001b[0m\u001b[0m\n\u001b[0m\u001b[0;32m   1005\u001b[0m                 \u001b[0mself\u001b[0m\u001b[1;33m.\u001b[0m\u001b[0m_iterating\u001b[0m \u001b[1;33m=\u001b[0m \u001b[0mself\u001b[0m\u001b[1;33m.\u001b[0m\u001b[0m_original_iterator\u001b[0m \u001b[1;32mis\u001b[0m \u001b[1;32mnot\u001b[0m \u001b[1;32mNone\u001b[0m\u001b[1;33m\u001b[0m\u001b[1;33m\u001b[0m\u001b[0m\n\u001b[0;32m   1006\u001b[0m \u001b[1;33m\u001b[0m\u001b[0m\n",
      "\u001b[1;32m~\\anaconda3\\lib\\site-packages\\joblib\\parallel.py\u001b[0m in \u001b[0;36mdispatch_one_batch\u001b[1;34m(self, iterator)\u001b[0m\n\u001b[0;32m    833\u001b[0m                 \u001b[1;32mreturn\u001b[0m \u001b[1;32mFalse\u001b[0m\u001b[1;33m\u001b[0m\u001b[1;33m\u001b[0m\u001b[0m\n\u001b[0;32m    834\u001b[0m             \u001b[1;32melse\u001b[0m\u001b[1;33m:\u001b[0m\u001b[1;33m\u001b[0m\u001b[1;33m\u001b[0m\u001b[0m\n\u001b[1;32m--> 835\u001b[1;33m                 \u001b[0mself\u001b[0m\u001b[1;33m.\u001b[0m\u001b[0m_dispatch\u001b[0m\u001b[1;33m(\u001b[0m\u001b[0mtasks\u001b[0m\u001b[1;33m)\u001b[0m\u001b[1;33m\u001b[0m\u001b[1;33m\u001b[0m\u001b[0m\n\u001b[0m\u001b[0;32m    836\u001b[0m                 \u001b[1;32mreturn\u001b[0m \u001b[1;32mTrue\u001b[0m\u001b[1;33m\u001b[0m\u001b[1;33m\u001b[0m\u001b[0m\n\u001b[0;32m    837\u001b[0m \u001b[1;33m\u001b[0m\u001b[0m\n",
      "\u001b[1;32m~\\anaconda3\\lib\\site-packages\\joblib\\parallel.py\u001b[0m in \u001b[0;36m_dispatch\u001b[1;34m(self, batch)\u001b[0m\n\u001b[0;32m    752\u001b[0m         \u001b[1;32mwith\u001b[0m \u001b[0mself\u001b[0m\u001b[1;33m.\u001b[0m\u001b[0m_lock\u001b[0m\u001b[1;33m:\u001b[0m\u001b[1;33m\u001b[0m\u001b[1;33m\u001b[0m\u001b[0m\n\u001b[0;32m    753\u001b[0m             \u001b[0mjob_idx\u001b[0m \u001b[1;33m=\u001b[0m \u001b[0mlen\u001b[0m\u001b[1;33m(\u001b[0m\u001b[0mself\u001b[0m\u001b[1;33m.\u001b[0m\u001b[0m_jobs\u001b[0m\u001b[1;33m)\u001b[0m\u001b[1;33m\u001b[0m\u001b[1;33m\u001b[0m\u001b[0m\n\u001b[1;32m--> 754\u001b[1;33m             \u001b[0mjob\u001b[0m \u001b[1;33m=\u001b[0m \u001b[0mself\u001b[0m\u001b[1;33m.\u001b[0m\u001b[0m_backend\u001b[0m\u001b[1;33m.\u001b[0m\u001b[0mapply_async\u001b[0m\u001b[1;33m(\u001b[0m\u001b[0mbatch\u001b[0m\u001b[1;33m,\u001b[0m \u001b[0mcallback\u001b[0m\u001b[1;33m=\u001b[0m\u001b[0mcb\u001b[0m\u001b[1;33m)\u001b[0m\u001b[1;33m\u001b[0m\u001b[1;33m\u001b[0m\u001b[0m\n\u001b[0m\u001b[0;32m    755\u001b[0m             \u001b[1;31m# A job can complete so quickly than its callback is\u001b[0m\u001b[1;33m\u001b[0m\u001b[1;33m\u001b[0m\u001b[1;33m\u001b[0m\u001b[0m\n\u001b[0;32m    756\u001b[0m             \u001b[1;31m# called before we get here, causing self._jobs to\u001b[0m\u001b[1;33m\u001b[0m\u001b[1;33m\u001b[0m\u001b[1;33m\u001b[0m\u001b[0m\n",
      "\u001b[1;32m~\\anaconda3\\lib\\site-packages\\joblib\\_parallel_backends.py\u001b[0m in \u001b[0;36mapply_async\u001b[1;34m(self, func, callback)\u001b[0m\n\u001b[0;32m    207\u001b[0m     \u001b[1;32mdef\u001b[0m \u001b[0mapply_async\u001b[0m\u001b[1;33m(\u001b[0m\u001b[0mself\u001b[0m\u001b[1;33m,\u001b[0m \u001b[0mfunc\u001b[0m\u001b[1;33m,\u001b[0m \u001b[0mcallback\u001b[0m\u001b[1;33m=\u001b[0m\u001b[1;32mNone\u001b[0m\u001b[1;33m)\u001b[0m\u001b[1;33m:\u001b[0m\u001b[1;33m\u001b[0m\u001b[1;33m\u001b[0m\u001b[0m\n\u001b[0;32m    208\u001b[0m         \u001b[1;34m\"\"\"Schedule a func to be run\"\"\"\u001b[0m\u001b[1;33m\u001b[0m\u001b[1;33m\u001b[0m\u001b[0m\n\u001b[1;32m--> 209\u001b[1;33m         \u001b[0mresult\u001b[0m \u001b[1;33m=\u001b[0m \u001b[0mImmediateResult\u001b[0m\u001b[1;33m(\u001b[0m\u001b[0mfunc\u001b[0m\u001b[1;33m)\u001b[0m\u001b[1;33m\u001b[0m\u001b[1;33m\u001b[0m\u001b[0m\n\u001b[0m\u001b[0;32m    210\u001b[0m         \u001b[1;32mif\u001b[0m \u001b[0mcallback\u001b[0m\u001b[1;33m:\u001b[0m\u001b[1;33m\u001b[0m\u001b[1;33m\u001b[0m\u001b[0m\n\u001b[0;32m    211\u001b[0m             \u001b[0mcallback\u001b[0m\u001b[1;33m(\u001b[0m\u001b[0mresult\u001b[0m\u001b[1;33m)\u001b[0m\u001b[1;33m\u001b[0m\u001b[1;33m\u001b[0m\u001b[0m\n",
      "\u001b[1;32m~\\anaconda3\\lib\\site-packages\\joblib\\_parallel_backends.py\u001b[0m in \u001b[0;36m__init__\u001b[1;34m(self, batch)\u001b[0m\n\u001b[0;32m    588\u001b[0m         \u001b[1;31m# Don't delay the application, to avoid keeping the input\u001b[0m\u001b[1;33m\u001b[0m\u001b[1;33m\u001b[0m\u001b[1;33m\u001b[0m\u001b[0m\n\u001b[0;32m    589\u001b[0m         \u001b[1;31m# arguments in memory\u001b[0m\u001b[1;33m\u001b[0m\u001b[1;33m\u001b[0m\u001b[1;33m\u001b[0m\u001b[0m\n\u001b[1;32m--> 590\u001b[1;33m         \u001b[0mself\u001b[0m\u001b[1;33m.\u001b[0m\u001b[0mresults\u001b[0m \u001b[1;33m=\u001b[0m \u001b[0mbatch\u001b[0m\u001b[1;33m(\u001b[0m\u001b[1;33m)\u001b[0m\u001b[1;33m\u001b[0m\u001b[1;33m\u001b[0m\u001b[0m\n\u001b[0m\u001b[0;32m    591\u001b[0m \u001b[1;33m\u001b[0m\u001b[0m\n\u001b[0;32m    592\u001b[0m     \u001b[1;32mdef\u001b[0m \u001b[0mget\u001b[0m\u001b[1;33m(\u001b[0m\u001b[0mself\u001b[0m\u001b[1;33m)\u001b[0m\u001b[1;33m:\u001b[0m\u001b[1;33m\u001b[0m\u001b[1;33m\u001b[0m\u001b[0m\n",
      "\u001b[1;32m~\\anaconda3\\lib\\site-packages\\joblib\\parallel.py\u001b[0m in \u001b[0;36m__call__\u001b[1;34m(self)\u001b[0m\n\u001b[0;32m    254\u001b[0m         \u001b[1;32mwith\u001b[0m \u001b[0mparallel_backend\u001b[0m\u001b[1;33m(\u001b[0m\u001b[0mself\u001b[0m\u001b[1;33m.\u001b[0m\u001b[0m_backend\u001b[0m\u001b[1;33m,\u001b[0m \u001b[0mn_jobs\u001b[0m\u001b[1;33m=\u001b[0m\u001b[0mself\u001b[0m\u001b[1;33m.\u001b[0m\u001b[0m_n_jobs\u001b[0m\u001b[1;33m)\u001b[0m\u001b[1;33m:\u001b[0m\u001b[1;33m\u001b[0m\u001b[1;33m\u001b[0m\u001b[0m\n\u001b[0;32m    255\u001b[0m             return [func(*args, **kwargs)\n\u001b[1;32m--> 256\u001b[1;33m                     for func, args, kwargs in self.items]\n\u001b[0m\u001b[0;32m    257\u001b[0m \u001b[1;33m\u001b[0m\u001b[0m\n\u001b[0;32m    258\u001b[0m     \u001b[1;32mdef\u001b[0m \u001b[0m__len__\u001b[0m\u001b[1;33m(\u001b[0m\u001b[0mself\u001b[0m\u001b[1;33m)\u001b[0m\u001b[1;33m:\u001b[0m\u001b[1;33m\u001b[0m\u001b[1;33m\u001b[0m\u001b[0m\n",
      "\u001b[1;32m~\\anaconda3\\lib\\site-packages\\joblib\\parallel.py\u001b[0m in \u001b[0;36m<listcomp>\u001b[1;34m(.0)\u001b[0m\n\u001b[0;32m    254\u001b[0m         \u001b[1;32mwith\u001b[0m \u001b[0mparallel_backend\u001b[0m\u001b[1;33m(\u001b[0m\u001b[0mself\u001b[0m\u001b[1;33m.\u001b[0m\u001b[0m_backend\u001b[0m\u001b[1;33m,\u001b[0m \u001b[0mn_jobs\u001b[0m\u001b[1;33m=\u001b[0m\u001b[0mself\u001b[0m\u001b[1;33m.\u001b[0m\u001b[0m_n_jobs\u001b[0m\u001b[1;33m)\u001b[0m\u001b[1;33m:\u001b[0m\u001b[1;33m\u001b[0m\u001b[1;33m\u001b[0m\u001b[0m\n\u001b[0;32m    255\u001b[0m             return [func(*args, **kwargs)\n\u001b[1;32m--> 256\u001b[1;33m                     for func, args, kwargs in self.items]\n\u001b[0m\u001b[0;32m    257\u001b[0m \u001b[1;33m\u001b[0m\u001b[0m\n\u001b[0;32m    258\u001b[0m     \u001b[1;32mdef\u001b[0m \u001b[0m__len__\u001b[0m\u001b[1;33m(\u001b[0m\u001b[0mself\u001b[0m\u001b[1;33m)\u001b[0m\u001b[1;33m:\u001b[0m\u001b[1;33m\u001b[0m\u001b[1;33m\u001b[0m\u001b[0m\n",
      "\u001b[1;32m~\\anaconda3\\lib\\site-packages\\sklearn\\utils\\fixes.py\u001b[0m in \u001b[0;36m__call__\u001b[1;34m(self, *args, **kwargs)\u001b[0m\n\u001b[0;32m    220\u001b[0m     \u001b[1;32mdef\u001b[0m \u001b[0m__call__\u001b[0m\u001b[1;33m(\u001b[0m\u001b[0mself\u001b[0m\u001b[1;33m,\u001b[0m \u001b[1;33m*\u001b[0m\u001b[0margs\u001b[0m\u001b[1;33m,\u001b[0m \u001b[1;33m**\u001b[0m\u001b[0mkwargs\u001b[0m\u001b[1;33m)\u001b[0m\u001b[1;33m:\u001b[0m\u001b[1;33m\u001b[0m\u001b[1;33m\u001b[0m\u001b[0m\n\u001b[0;32m    221\u001b[0m         \u001b[1;32mwith\u001b[0m \u001b[0mconfig_context\u001b[0m\u001b[1;33m(\u001b[0m\u001b[1;33m**\u001b[0m\u001b[0mself\u001b[0m\u001b[1;33m.\u001b[0m\u001b[0mconfig\u001b[0m\u001b[1;33m)\u001b[0m\u001b[1;33m:\u001b[0m\u001b[1;33m\u001b[0m\u001b[1;33m\u001b[0m\u001b[0m\n\u001b[1;32m--> 222\u001b[1;33m             \u001b[1;32mreturn\u001b[0m \u001b[0mself\u001b[0m\u001b[1;33m.\u001b[0m\u001b[0mfunction\u001b[0m\u001b[1;33m(\u001b[0m\u001b[1;33m*\u001b[0m\u001b[0margs\u001b[0m\u001b[1;33m,\u001b[0m \u001b[1;33m**\u001b[0m\u001b[0mkwargs\u001b[0m\u001b[1;33m)\u001b[0m\u001b[1;33m\u001b[0m\u001b[1;33m\u001b[0m\u001b[0m\n\u001b[0m",
      "\u001b[1;32m~\\anaconda3\\lib\\site-packages\\sklearn\\linear_model\\_theil_sen.py\u001b[0m in \u001b[0;36m_lstsq\u001b[1;34m(X, y, indices, fit_intercept)\u001b[0m\n\u001b[0;32m    186\u001b[0m \u001b[1;33m\u001b[0m\u001b[0m\n\u001b[0;32m    187\u001b[0m     \u001b[1;32mfor\u001b[0m \u001b[0mindex\u001b[0m\u001b[1;33m,\u001b[0m \u001b[0msubset\u001b[0m \u001b[1;32min\u001b[0m \u001b[0menumerate\u001b[0m\u001b[1;33m(\u001b[0m\u001b[0mindices\u001b[0m\u001b[1;33m)\u001b[0m\u001b[1;33m:\u001b[0m\u001b[1;33m\u001b[0m\u001b[1;33m\u001b[0m\u001b[0m\n\u001b[1;32m--> 188\u001b[1;33m         \u001b[0mX_subpopulation\u001b[0m\u001b[1;33m[\u001b[0m\u001b[1;33m:\u001b[0m\u001b[1;33m,\u001b[0m \u001b[0mfit_intercept\u001b[0m\u001b[1;33m:\u001b[0m\u001b[1;33m]\u001b[0m \u001b[1;33m=\u001b[0m \u001b[0mX\u001b[0m\u001b[1;33m[\u001b[0m\u001b[0msubset\u001b[0m\u001b[1;33m,\u001b[0m \u001b[1;33m:\u001b[0m\u001b[1;33m]\u001b[0m\u001b[1;33m\u001b[0m\u001b[1;33m\u001b[0m\u001b[0m\n\u001b[0m\u001b[0;32m    189\u001b[0m         \u001b[0my_subpopulation\u001b[0m\u001b[1;33m[\u001b[0m\u001b[1;33m:\u001b[0m\u001b[0mn_subsamples\u001b[0m\u001b[1;33m]\u001b[0m \u001b[1;33m=\u001b[0m \u001b[0my\u001b[0m\u001b[1;33m[\u001b[0m\u001b[0msubset\u001b[0m\u001b[1;33m]\u001b[0m\u001b[1;33m\u001b[0m\u001b[1;33m\u001b[0m\u001b[0m\n\u001b[0;32m    190\u001b[0m         weights[index] = lstsq(X_subpopulation,\n",
      "\u001b[1;31mKeyboardInterrupt\u001b[0m: "
     ]
    }
   ],
   "source": [
    "results_regs = []\n",
    "for algo in all_regs:\n",
    "    try:\n",
    "        algo.fit(X_train, y_train)\n",
    "        performance = algo.score(X_test, y_test)\n",
    "        results.append(performance)\n",
    "        print(performance)\n",
    "    except Exception as e:\n",
    "        print(e)"
   ]
  },
  {
   "cell_type": "markdown",
   "metadata": {},
   "source": [
    "### Gradient Boosting Regressor"
   ]
  },
  {
   "cell_type": "code",
   "execution_count": 121,
   "metadata": {},
   "outputs": [
    {
     "data": {
      "text/plain": [
       "0.16051294344183276"
      ]
     },
     "execution_count": 121,
     "metadata": {},
     "output_type": "execute_result"
    }
   ],
   "source": [
    "from sklearn.ensemble import GradientBoostingRegressor\n",
    "reg = GradientBoostingRegressor(random_state=1)\n",
    "reg.fit(X_train, y_train)\n",
    "GradientBoostingRegressor(random_state=0)\n",
    "y_pred = reg.predict(X_test)\n",
    "reg.score(X_test, y_test)"
   ]
  },
  {
   "cell_type": "code",
   "execution_count": 122,
   "metadata": {},
   "outputs": [
    {
     "data": {
      "text/plain": [
       "21.439357370697504"
      ]
     },
     "execution_count": 122,
     "metadata": {},
     "output_type": "execute_result"
    }
   ],
   "source": [
    "from sklearn.metrics import mean_squared_error\n",
    "mean_squared_error(y_test, y_pred, squared=True)"
   ]
  },
  {
   "cell_type": "code",
   "execution_count": 123,
   "metadata": {},
   "outputs": [
    {
     "name": "stdout",
     "output_type": "stream",
     "text": [
      "Fitting 3 folds for each of 75 candidates, totalling 225 fits\n"
     ]
    },
    {
     "data": {
      "text/plain": [
       "GridSearchCV(cv=3, estimator=GradientBoostingRegressor(random_state=1),\n",
       "             n_jobs=-1,\n",
       "             param_grid={'learning_rate': [0.1, 0.025, 0.05, 0.075, 0.1],\n",
       "                         'max_depth': [4, 5, 6], 'max_features': [1.0],\n",
       "                         'min_samples_leaf': [3],\n",
       "                         'n_estimators': [100, 200, 300, 400, 500]},\n",
       "             verbose=2)"
      ]
     },
     "execution_count": 123,
     "metadata": {},
     "output_type": "execute_result"
    }
   ],
   "source": [
    "from sklearn.model_selection import GridSearchCV\n",
    "\n",
    "param_grid={'n_estimators':[100,200,300,400,500], \n",
    "            'learning_rate': [0.1,0.025,0.05,0.075,0.1],\n",
    "            'max_depth':[4,5,6], \n",
    "            'min_samples_leaf':[3], \n",
    "            'max_features':[1.0] } \n",
    "\n",
    "reg = GradientBoostingRegressor(random_state=1)\n",
    "grid_search = GridSearchCV(estimator = reg, param_grid = param_grid, \n",
    "                          cv = 3, n_jobs = -1, verbose = 2)\n",
    "grid_search.fit(X_train, y_train)"
   ]
  },
  {
   "cell_type": "code",
   "execution_count": 124,
   "metadata": {},
   "outputs": [
    {
     "data": {
      "text/plain": [
       "0.19936215384251366"
      ]
     },
     "execution_count": 124,
     "metadata": {},
     "output_type": "execute_result"
    }
   ],
   "source": [
    "y_pred = grid_search.predict(X_test)\n",
    "grid_search.score(X_test, y_test)"
   ]
  },
  {
   "cell_type": "code",
   "execution_count": 125,
   "metadata": {},
   "outputs": [
    {
     "data": {
      "text/plain": [
       "20.44720138825216"
      ]
     },
     "execution_count": 125,
     "metadata": {},
     "output_type": "execute_result"
    }
   ],
   "source": [
    "from sklearn.metrics import mean_squared_error\n",
    "mean_squared_error(y_test, y_pred, squared=True)"
   ]
  },
  {
   "cell_type": "markdown",
   "metadata": {},
   "source": [
    "### Hist Gradient Boosting Regressor"
   ]
  },
  {
   "cell_type": "code",
   "execution_count": 126,
   "metadata": {},
   "outputs": [
    {
     "data": {
      "text/plain": [
       "0.0976254204373056"
      ]
     },
     "execution_count": 126,
     "metadata": {},
     "output_type": "execute_result"
    }
   ],
   "source": [
    "from sklearn.experimental import enable_hist_gradient_boosting\n",
    "from sklearn.ensemble import HistGradientBoostingRegressor\n",
    "est = HistGradientBoostingRegressor().fit(X_train, y_train)\n",
    "est.score(X_test, y_test)"
   ]
  },
  {
   "cell_type": "code",
   "execution_count": 52,
   "metadata": {},
   "outputs": [
    {
     "name": "stdout",
     "output_type": "stream",
     "text": [
      "Fitting 3 folds for each of 32 candidates, totalling 96 fits\n"
     ]
    },
    {
     "data": {
      "text/plain": [
       "GridSearchCV(cv=3, estimator=HistGradientBoostingRegressor(random_state=1),\n",
       "             n_jobs=-1,\n",
       "             param_grid={'learning_rate': [0.05, 0.1], 'max_iter': [100, 200],\n",
       "                         'max_leaf_nodes': [10, 20, 40, 50],\n",
       "                         'min_samples_leaf': [10, 30]},\n",
       "             verbose=2)"
      ]
     },
     "execution_count": 52,
     "metadata": {},
     "output_type": "execute_result"
    }
   ],
   "source": [
    "from sklearn.experimental import enable_hist_gradient_boosting\n",
    "from sklearn.ensemble import HistGradientBoostingRegressor\n",
    "\n",
    "param_grid={'learning_rate': [0.05,0.1],\n",
    "            'max_iter':[100,200], \n",
    "            'max_leaf_nodes':[10,20,40,50], \n",
    "            'min_samples_leaf':[10,30] } \n",
    "\n",
    "reg = HistGradientBoostingRegressor(random_state=1)\n",
    "grid_search = GridSearchCV(estimator = reg, param_grid = param_grid, \n",
    "                          cv = 3, n_jobs = -1, verbose = 2)\n",
    "grid_search.fit(X_train, y_train)"
   ]
  },
  {
   "cell_type": "code",
   "execution_count": 127,
   "metadata": {},
   "outputs": [
    {
     "data": {
      "text/plain": [
       "23.04541915487773"
      ]
     },
     "execution_count": 127,
     "metadata": {},
     "output_type": "execute_result"
    }
   ],
   "source": [
    "y_pred = est.predict(X_test)\n",
    "from sklearn.metrics import mean_squared_error\n",
    "mean_squared_error(y_test, y_pred, squared=True)"
   ]
  },
  {
   "cell_type": "markdown",
   "metadata": {},
   "source": [
    "### Multi-layer Perceptron regressor"
   ]
  },
  {
   "cell_type": "code",
   "execution_count": 128,
   "metadata": {},
   "outputs": [
    {
     "data": {
      "text/plain": [
       "-3.14469607945136"
      ]
     },
     "execution_count": 128,
     "metadata": {},
     "output_type": "execute_result"
    }
   ],
   "source": [
    "from sklearn.neural_network import MLPRegressor\n",
    "regr = MLPRegressor(hidden_layer_sizes=500, random_state=1, max_iter=20000).fit(X_train, y_train)\n",
    "y_pred = regr.predict(X_test)\n",
    "regr.score(X_test, y_test)"
   ]
  },
  {
   "cell_type": "code",
   "execution_count": 129,
   "metadata": {},
   "outputs": [],
   "source": [
    "a = tfidf_matrix.toarray()\n",
    "a = a.tolist()\n",
    "\n",
    "X_train = a\n",
    "y_train = list(df_fr['date'])\n",
    "\n",
    "a = []\n",
    "for item in y_train:\n",
    "    a.append(float(item))\n",
    "    \n",
    "y_train = a"
   ]
  },
  {
   "cell_type": "code",
   "execution_count": 130,
   "metadata": {},
   "outputs": [],
   "source": [
    "X_train = numpy.array(X_train)\n",
    "y_train = numpy.array(y_train)"
   ]
  },
  {
   "cell_type": "code",
   "execution_count": 131,
   "metadata": {},
   "outputs": [
    {
     "name": "stdout",
     "output_type": "stream",
     "text": [
      "Model: \"sequential_2\"\n",
      "_________________________________________________________________\n",
      "Layer (type)                 Output Shape              Param #   \n",
      "=================================================================\n",
      "dense_4 (Dense)              (None, 849)               721650    \n",
      "_________________________________________________________________\n",
      "dense_5 (Dense)              (None, 2670)              2269500   \n",
      "_________________________________________________________________\n",
      "dense_6 (Dense)              (None, 2670)              7131570   \n",
      "_________________________________________________________________\n",
      "dense_7 (Dense)              (None, 1)                 2671      \n",
      "=================================================================\n",
      "Total params: 10,125,391\n",
      "Trainable params: 10,125,391\n",
      "Non-trainable params: 0\n",
      "_________________________________________________________________\n"
     ]
    }
   ],
   "source": [
    "model = Sequential()\n",
    "model.add(Dense(X_train.shape[1], input_dim=X_train.shape[1], kernel_initializer='normal', activation='relu'))\n",
    "model.add(Dense(2670, activation='relu'))\n",
    "model.add(Dense(2670, activation='relu'))\n",
    "model.add(Dense(1, activation='linear'))\n",
    "model.summary()"
   ]
  },
  {
   "cell_type": "markdown",
   "metadata": {},
   "source": [
    "We can see here that our model performed quite poorly, and it could be for many reasons. One of the main reasons we could think of is that we have too few data (indeed 1000 is extremely low to train deep learning models). This dataset being very small we can imagine that there is too few example of each kind for the model to learn how to predict them properly (what caracterizes them), no matter how much epochs we perform, since the problem comes from the relationship between dimensions that cannot be discovered. "
   ]
  },
  {
   "cell_type": "code",
   "execution_count": 132,
   "metadata": {
    "scrolled": true
   },
   "outputs": [
    {
     "name": "stdout",
     "output_type": "stream",
     "text": [
      "Epoch 1/150\n",
      "13/13 [==============================] - 1s 109ms/step - loss: 3313927.7500 - mse: 3313928.0000 - mae: 1799.7444 - val_loss: 651141.5000 - val_mse: 651141.4375 - val_mae: 784.6620\n",
      "Epoch 2/150\n",
      "13/13 [==============================] - 1s 93ms/step - loss: 397786.7188 - mse: 397786.7188 - mae: 519.4692 - val_loss: 415035.6875 - val_mse: 415035.6875 - val_mae: 611.2809\n",
      "Epoch 3/150\n",
      "13/13 [==============================] - 1s 91ms/step - loss: 218622.5781 - mse: 218622.5781 - mae: 395.8951 - val_loss: 112576.6016 - val_mse: 112576.6016 - val_mae: 274.9587\n",
      "Epoch 4/150\n",
      "13/13 [==============================] - 1s 94ms/step - loss: 108639.6328 - mse: 108639.6328 - mae: 269.6002 - val_loss: 82123.4297 - val_mse: 82123.4297 - val_mae: 233.5014\n",
      "Epoch 5/150\n",
      "13/13 [==============================] - 1s 92ms/step - loss: 79602.3359 - mse: 79602.3359 - mae: 224.9866 - val_loss: 69843.0625 - val_mse: 69843.0625 - val_mae: 210.3862\n",
      "Epoch 6/150\n",
      "13/13 [==============================] - 1s 102ms/step - loss: 58710.8008 - mse: 58710.8008 - mae: 193.7036 - val_loss: 61895.4531 - val_mse: 61895.4531 - val_mae: 197.6021\n",
      "Epoch 7/150\n",
      "13/13 [==============================] - 1s 93ms/step - loss: 50696.3516 - mse: 50696.3516 - mae: 180.0389 - val_loss: 56505.2461 - val_mse: 56505.2461 - val_mae: 189.7470\n",
      "Epoch 8/150\n",
      "13/13 [==============================] - 1s 90ms/step - loss: 44859.3125 - mse: 44859.3125 - mae: 169.1075 - val_loss: 54356.3711 - val_mse: 54356.3711 - val_mae: 187.7800\n",
      "Epoch 9/150\n",
      "13/13 [==============================] - 1s 91ms/step - loss: 38390.1875 - mse: 38390.1875 - mae: 155.9213 - val_loss: 51073.7812 - val_mse: 51073.7812 - val_mae: 181.3023\n",
      "Epoch 10/150\n",
      "13/13 [==============================] - 1s 91ms/step - loss: 33563.7539 - mse: 33563.7539 - mae: 146.1482 - val_loss: 48779.6445 - val_mse: 48779.6445 - val_mae: 177.6346\n",
      "Epoch 11/150\n",
      "13/13 [==============================] - 1s 90ms/step - loss: 29783.8359 - mse: 29783.8320 - mae: 137.9577 - val_loss: 47046.0625 - val_mse: 47046.0625 - val_mae: 173.4772\n",
      "Epoch 12/150\n",
      "13/13 [==============================] - 1s 90ms/step - loss: 26092.6484 - mse: 26092.6484 - mae: 128.8117 - val_loss: 44587.5078 - val_mse: 44587.5078 - val_mae: 170.3335\n",
      "Epoch 13/150\n",
      "13/13 [==============================] - 1s 91ms/step - loss: 22990.9961 - mse: 22990.9941 - mae: 121.2686 - val_loss: 42724.0195 - val_mse: 42724.0195 - val_mae: 167.0786\n",
      "Epoch 14/150\n",
      "13/13 [==============================] - 1s 91ms/step - loss: 20305.6543 - mse: 20305.6543 - mae: 114.1394 - val_loss: 41604.8867 - val_mse: 41604.8867 - val_mae: 163.1785\n",
      "Epoch 15/150\n",
      "13/13 [==============================] - 1s 94ms/step - loss: 18133.8125 - mse: 18133.8125 - mae: 107.9442 - val_loss: 40185.4922 - val_mse: 40185.4922 - val_mae: 160.2290\n",
      "Epoch 16/150\n",
      "13/13 [==============================] - 1s 96ms/step - loss: 15850.5938 - mse: 15850.5928 - mae: 100.8221 - val_loss: 38509.3125 - val_mse: 38509.3125 - val_mae: 156.6433\n",
      "Epoch 17/150\n",
      "13/13 [==============================] - 1s 93ms/step - loss: 14048.9365 - mse: 14048.9365 - mae: 95.1789 - val_loss: 36749.1055 - val_mse: 36749.1055 - val_mae: 152.4559\n",
      "Epoch 18/150\n",
      "13/13 [==============================] - 1s 91ms/step - loss: 12879.0430 - mse: 12879.0430 - mae: 90.9942 - val_loss: 37060.3359 - val_mse: 37060.3359 - val_mae: 150.7241\n",
      "Epoch 19/150\n",
      "13/13 [==============================] - 1s 95ms/step - loss: 11236.9365 - mse: 11236.9355 - mae: 85.5113 - val_loss: 34105.6719 - val_mse: 34105.6719 - val_mae: 147.0800\n",
      "Epoch 20/150\n",
      "13/13 [==============================] - 1s 96ms/step - loss: 9502.2021 - mse: 9502.2021 - mae: 78.6492 - val_loss: 33340.6523 - val_mse: 33340.6523 - val_mae: 143.3212\n",
      "Epoch 21/150\n",
      "13/13 [==============================] - 1s 96ms/step - loss: 8384.7002 - mse: 8384.7002 - mae: 73.7490 - val_loss: 32118.6230 - val_mse: 32118.6230 - val_mae: 140.6951\n",
      "Epoch 22/150\n",
      "13/13 [==============================] - 1s 92ms/step - loss: 7305.4492 - mse: 7305.4492 - mae: 68.8081 - val_loss: 30892.9375 - val_mse: 30892.9375 - val_mae: 138.4010\n",
      "Epoch 23/150\n",
      "13/13 [==============================] - 1s 94ms/step - loss: 6510.6250 - mse: 6510.6250 - mae: 64.6559 - val_loss: 30253.6621 - val_mse: 30253.6621 - val_mae: 135.3411\n",
      "Epoch 24/150\n",
      "13/13 [==============================] - 1s 90ms/step - loss: 5661.3433 - mse: 5661.3433 - mae: 60.4963 - val_loss: 29217.3066 - val_mse: 29217.3066 - val_mae: 133.1391\n",
      "Epoch 25/150\n",
      "13/13 [==============================] - 1s 93ms/step - loss: 4961.4380 - mse: 4961.4380 - mae: 56.9826 - val_loss: 28269.0742 - val_mse: 28269.0742 - val_mae: 130.8127\n",
      "Epoch 26/150\n",
      "13/13 [==============================] - 1s 92ms/step - loss: 4350.8135 - mse: 4350.8135 - mae: 52.8419 - val_loss: 27656.8633 - val_mse: 27656.8633 - val_mae: 128.6083\n",
      "Epoch 27/150\n",
      "13/13 [==============================] - 1s 100ms/step - loss: 3839.2942 - mse: 3839.2942 - mae: 49.1501 - val_loss: 26502.3984 - val_mse: 26502.3984 - val_mae: 127.0849\n",
      "Epoch 28/150\n",
      "13/13 [==============================] - 1s 100ms/step - loss: 3283.6140 - mse: 3283.6140 - mae: 45.6512 - val_loss: 25903.6289 - val_mse: 25903.6289 - val_mae: 125.0195\n",
      "Epoch 29/150\n",
      "13/13 [==============================] - 1s 95ms/step - loss: 2957.9321 - mse: 2957.9321 - mae: 42.9243 - val_loss: 25539.6738 - val_mse: 25539.6738 - val_mae: 123.2760\n",
      "Epoch 30/150\n",
      "13/13 [==============================] - 1s 88ms/step - loss: 2513.5938 - mse: 2513.5938 - mae: 39.7295 - val_loss: 24303.5898 - val_mse: 24303.5898 - val_mae: 121.3924\n",
      "Epoch 31/150\n",
      "13/13 [==============================] - 1s 105ms/step - loss: 2256.6067 - mse: 2256.6067 - mae: 37.8602 - val_loss: 24031.9844 - val_mse: 24031.9844 - val_mae: 119.7359\n",
      "Epoch 32/150\n",
      "13/13 [==============================] - 1s 98ms/step - loss: 1861.9742 - mse: 1861.9742 - mae: 34.2037 - val_loss: 23053.5449 - val_mse: 23053.5449 - val_mae: 117.9135\n",
      "Epoch 33/150\n",
      "13/13 [==============================] - 1s 96ms/step - loss: 1605.8467 - mse: 1605.8467 - mae: 31.5894 - val_loss: 22693.5078 - val_mse: 22693.5078 - val_mae: 116.4376\n",
      "Epoch 34/150\n",
      "13/13 [==============================] - 1s 100ms/step - loss: 1419.8848 - mse: 1419.8848 - mae: 29.8769 - val_loss: 21897.6289 - val_mse: 21897.6289 - val_mae: 115.2906\n",
      "Epoch 35/150\n",
      "13/13 [==============================] - 1s 95ms/step - loss: 1258.3380 - mse: 1258.3380 - mae: 27.5724 - val_loss: 21688.1426 - val_mse: 21688.1426 - val_mae: 113.6274\n",
      "Epoch 36/150\n",
      "13/13 [==============================] - 1s 93ms/step - loss: 1015.6825 - mse: 1015.6825 - mae: 24.8446 - val_loss: 21033.4824 - val_mse: 21033.4824 - val_mae: 112.3322\n",
      "Epoch 37/150\n",
      "13/13 [==============================] - 1s 92ms/step - loss: 884.1975 - mse: 884.1975 - mae: 23.4046 - val_loss: 20718.5879 - val_mse: 20718.5898 - val_mae: 111.2866\n",
      "Epoch 38/150\n",
      "13/13 [==============================] - 1s 91ms/step - loss: 778.4218 - mse: 778.4218 - mae: 21.9827 - val_loss: 20445.8496 - val_mse: 20445.8496 - val_mae: 110.3302\n",
      "Epoch 39/150\n",
      "13/13 [==============================] - 1s 95ms/step - loss: 703.8311 - mse: 703.8311 - mae: 20.7683 - val_loss: 19753.1816 - val_mse: 19753.1816 - val_mae: 109.6193\n",
      "Epoch 40/150\n",
      "13/13 [==============================] - 1s 94ms/step - loss: 589.5242 - mse: 589.5242 - mae: 18.9932 - val_loss: 19492.8438 - val_mse: 19492.8438 - val_mae: 108.3720\n",
      "Epoch 41/150\n",
      "13/13 [==============================] - 1s 94ms/step - loss: 489.8116 - mse: 489.8116 - mae: 17.1047 - val_loss: 19284.2441 - val_mse: 19284.2441 - val_mae: 107.4248\n",
      "Epoch 42/150\n",
      "13/13 [==============================] - 1s 89ms/step - loss: 400.8923 - mse: 400.8923 - mae: 15.6304 - val_loss: 18876.0391 - val_mse: 18876.0391 - val_mae: 106.4882\n",
      "Epoch 43/150\n",
      "13/13 [==============================] - 1s 94ms/step - loss: 343.5853 - mse: 343.5853 - mae: 14.3747 - val_loss: 18639.4707 - val_mse: 18639.4707 - val_mae: 105.7751\n",
      "Epoch 44/150\n",
      "13/13 [==============================] - 1s 91ms/step - loss: 303.7808 - mse: 303.7808 - mae: 13.5691 - val_loss: 18252.5605 - val_mse: 18252.5605 - val_mae: 104.9255\n",
      "Epoch 45/150\n",
      "13/13 [==============================] - 1s 92ms/step - loss: 265.9125 - mse: 265.9125 - mae: 12.6073 - val_loss: 18247.7793 - val_mse: 18247.7793 - val_mae: 104.4955\n",
      "Epoch 46/150\n",
      "13/13 [==============================] - 1s 91ms/step - loss: 221.1949 - mse: 221.1949 - mae: 11.4206 - val_loss: 17858.2500 - val_mse: 17858.2500 - val_mae: 103.4854\n",
      "Epoch 47/150\n",
      "13/13 [==============================] - 1s 92ms/step - loss: 191.9935 - mse: 191.9935 - mae: 10.6898 - val_loss: 17808.1328 - val_mse: 17808.1328 - val_mae: 103.3868\n",
      "Epoch 48/150\n",
      "13/13 [==============================] - 1s 91ms/step - loss: 158.1711 - mse: 158.1711 - mae: 9.6084 - val_loss: 17640.5215 - val_mse: 17640.5215 - val_mae: 102.8736\n",
      "Epoch 49/150\n",
      "13/13 [==============================] - 1s 88ms/step - loss: 138.7460 - mse: 138.7460 - mae: 9.0165 - val_loss: 17423.6797 - val_mse: 17423.6797 - val_mae: 102.2132\n",
      "Epoch 50/150\n",
      "13/13 [==============================] - 1s 90ms/step - loss: 117.8196 - mse: 117.8196 - mae: 8.1815 - val_loss: 17300.5371 - val_mse: 17300.5371 - val_mae: 101.7208\n",
      "Epoch 51/150\n",
      "13/13 [==============================] - 1s 93ms/step - loss: 106.5881 - mse: 106.5881 - mae: 7.8970 - val_loss: 17205.1504 - val_mse: 17205.1504 - val_mae: 101.4038\n",
      "Epoch 52/150\n",
      "13/13 [==============================] - 1s 93ms/step - loss: 101.1407 - mse: 101.1407 - mae: 7.8907 - val_loss: 17040.9121 - val_mse: 17040.9121 - val_mae: 101.0452\n",
      "Epoch 53/150\n",
      "13/13 [==============================] - 1s 94ms/step - loss: 80.7349 - mse: 80.7349 - mae: 6.8226 - val_loss: 16894.2617 - val_mse: 16894.2617 - val_mae: 100.6844\n",
      "Epoch 54/150\n",
      "13/13 [==============================] - 1s 92ms/step - loss: 69.9715 - mse: 69.9715 - mae: 6.3008 - val_loss: 16792.2676 - val_mse: 16792.2676 - val_mae: 100.3200\n",
      "Epoch 55/150\n",
      "13/13 [==============================] - 1s 93ms/step - loss: 56.2195 - mse: 56.2195 - mae: 5.6323 - val_loss: 16684.6914 - val_mse: 16684.6914 - val_mae: 100.0960\n",
      "Epoch 56/150\n",
      "13/13 [==============================] - 1s 89ms/step - loss: 47.4440 - mse: 47.4440 - mae: 5.1025 - val_loss: 16563.1133 - val_mse: 16563.1133 - val_mae: 99.6957\n",
      "Epoch 57/150\n",
      "13/13 [==============================] - 1s 91ms/step - loss: 40.5871 - mse: 40.5871 - mae: 4.6665 - val_loss: 16529.8496 - val_mse: 16529.8496 - val_mae: 99.5696\n",
      "Epoch 58/150\n",
      "13/13 [==============================] - 1s 100ms/step - loss: 36.0207 - mse: 36.0207 - mae: 4.3701 - val_loss: 16426.4590 - val_mse: 16426.4590 - val_mae: 99.3373\n",
      "Epoch 59/150\n",
      "13/13 [==============================] - 1s 92ms/step - loss: 32.3995 - mse: 32.3995 - mae: 4.1743 - val_loss: 16358.2178 - val_mse: 16358.2178 - val_mae: 99.0477\n",
      "Epoch 60/150\n",
      "13/13 [==============================] - 1s 89ms/step - loss: 29.5930 - mse: 29.5930 - mae: 3.9504 - val_loss: 16335.4609 - val_mse: 16335.4609 - val_mae: 99.0919\n",
      "Epoch 61/150\n",
      "13/13 [==============================] - 1s 92ms/step - loss: 26.2699 - mse: 26.2699 - mae: 3.8390 - val_loss: 16261.2520 - val_mse: 16261.2510 - val_mae: 98.8135\n",
      "Epoch 62/150\n",
      "13/13 [==============================] - 1s 97ms/step - loss: 21.5280 - mse: 21.5280 - mae: 3.3324 - val_loss: 16243.1338 - val_mse: 16243.1338 - val_mae: 98.7089\n",
      "Epoch 63/150\n",
      "13/13 [==============================] - 1s 97ms/step - loss: 18.6906 - mse: 18.6906 - mae: 3.1031 - val_loss: 16216.9688 - val_mse: 16216.9688 - val_mae: 98.5785\n",
      "Epoch 64/150\n",
      "13/13 [==============================] - 1s 105ms/step - loss: 16.7634 - mse: 16.7634 - mae: 2.9303 - val_loss: 16163.2480 - val_mse: 16163.2480 - val_mae: 98.4462\n",
      "Epoch 65/150\n",
      "13/13 [==============================] - 1s 102ms/step - loss: 15.3148 - mse: 15.3148 - mae: 2.7763 - val_loss: 16140.6914 - val_mse: 16140.6914 - val_mae: 98.3895\n",
      "Epoch 66/150\n",
      "13/13 [==============================] - 1s 92ms/step - loss: 14.1665 - mse: 14.1665 - mae: 2.7318 - val_loss: 16052.6602 - val_mse: 16052.6602 - val_mae: 98.2072\n",
      "Epoch 67/150\n",
      "13/13 [==============================] - 1s 91ms/step - loss: 11.0328 - mse: 11.0328 - mae: 2.3470 - val_loss: 16035.1055 - val_mse: 16035.1055 - val_mae: 98.1281\n",
      "Epoch 68/150\n",
      "13/13 [==============================] - 1s 93ms/step - loss: 9.5493 - mse: 9.5493 - mae: 2.1588 - val_loss: 16037.2129 - val_mse: 16037.2129 - val_mae: 98.0662\n",
      "Epoch 69/150\n",
      "13/13 [==============================] - 1s 92ms/step - loss: 8.6554 - mse: 8.6554 - mae: 2.0359 - val_loss: 16032.3711 - val_mse: 16032.3711 - val_mae: 98.0411\n",
      "Epoch 70/150\n",
      "13/13 [==============================] - 1s 94ms/step - loss: 7.8051 - mse: 7.8051 - mae: 1.9276 - val_loss: 16023.9785 - val_mse: 16023.9785 - val_mae: 97.9813\n",
      "Epoch 71/150\n",
      "13/13 [==============================] - 1s 89ms/step - loss: 9.1062 - mse: 9.1062 - mae: 2.2383 - val_loss: 15955.3145 - val_mse: 15955.3145 - val_mae: 97.8850\n",
      "Epoch 72/150\n",
      "13/13 [==============================] - 1s 89ms/step - loss: 8.5879 - mse: 8.5879 - mae: 2.1844 - val_loss: 15912.9863 - val_mse: 15912.9863 - val_mae: 97.7742\n",
      "Epoch 73/150\n",
      "13/13 [==============================] - 1s 93ms/step - loss: 6.2722 - mse: 6.2722 - mae: 1.7546 - val_loss: 15935.5811 - val_mse: 15935.5811 - val_mae: 97.7767\n",
      "Epoch 74/150\n",
      "13/13 [==============================] - 1s 92ms/step - loss: 5.0008 - mse: 5.0008 - mae: 1.5485 - val_loss: 15955.4375 - val_mse: 15955.4375 - val_mae: 97.7796\n",
      "Epoch 75/150\n",
      "13/13 [==============================] - 1s 94ms/step - loss: 4.8537 - mse: 4.8537 - mae: 1.5721 - val_loss: 15887.7627 - val_mse: 15887.7627 - val_mae: 97.6329\n",
      "Epoch 76/150\n",
      "13/13 [==============================] - 1s 96ms/step - loss: 3.9454 - mse: 3.9454 - mae: 1.3304 - val_loss: 15887.0576 - val_mse: 15887.0576 - val_mae: 97.6367\n",
      "Epoch 77/150\n",
      "13/13 [==============================] - 1s 95ms/step - loss: 3.2620 - mse: 3.2620 - mae: 1.1824 - val_loss: 15878.8135 - val_mse: 15878.8135 - val_mae: 97.6090\n",
      "Epoch 78/150\n",
      "13/13 [==============================] - 1s 95ms/step - loss: 2.7844 - mse: 2.7844 - mae: 1.0928 - val_loss: 15863.6846 - val_mse: 15863.6846 - val_mae: 97.5703\n",
      "Epoch 79/150\n",
      "13/13 [==============================] - 1s 92ms/step - loss: 2.5146 - mse: 2.5146 - mae: 0.9860 - val_loss: 15862.9092 - val_mse: 15862.9092 - val_mae: 97.5346\n",
      "Epoch 80/150\n",
      "13/13 [==============================] - 1s 95ms/step - loss: 2.2101 - mse: 2.2101 - mae: 0.9292 - val_loss: 15861.6768 - val_mse: 15861.6758 - val_mae: 97.5478\n",
      "Epoch 81/150\n",
      "13/13 [==============================] - 1s 93ms/step - loss: 1.9126 - mse: 1.9126 - mae: 0.8396 - val_loss: 15849.8330 - val_mse: 15849.8340 - val_mae: 97.5078\n",
      "Epoch 82/150\n",
      "13/13 [==============================] - 1s 94ms/step - loss: 1.7036 - mse: 1.7036 - mae: 0.7793 - val_loss: 15837.1436 - val_mse: 15837.1436 - val_mae: 97.4602\n",
      "Epoch 83/150\n",
      "13/13 [==============================] - 1s 91ms/step - loss: 1.5245 - mse: 1.5245 - mae: 0.7458 - val_loss: 15832.2520 - val_mse: 15832.2520 - val_mae: 97.4787\n",
      "Epoch 84/150\n",
      "13/13 [==============================] - 1s 91ms/step - loss: 1.2606 - mse: 1.2606 - mae: 0.6576 - val_loss: 15821.0732 - val_mse: 15821.0732 - val_mae: 97.4379\n",
      "Epoch 85/150\n",
      "13/13 [==============================] - 1s 92ms/step - loss: 1.2798 - mse: 1.2798 - mae: 0.6822 - val_loss: 15824.9033 - val_mse: 15824.9033 - val_mae: 97.4396\n",
      "Epoch 86/150\n",
      "13/13 [==============================] - 1s 92ms/step - loss: 1.2091 - mse: 1.2091 - mae: 0.6711 - val_loss: 15813.1865 - val_mse: 15813.1865 - val_mae: 97.3931\n",
      "Epoch 87/150\n",
      "13/13 [==============================] - 1s 96ms/step - loss: 0.9903 - mse: 0.9903 - mae: 0.6041 - val_loss: 15811.9834 - val_mse: 15811.9834 - val_mae: 97.3943\n",
      "Epoch 88/150\n",
      "13/13 [==============================] - 1s 99ms/step - loss: 0.8807 - mse: 0.8807 - mae: 0.5522 - val_loss: 15795.6016 - val_mse: 15795.6016 - val_mae: 97.3885\n",
      "Epoch 89/150\n",
      "13/13 [==============================] - 1s 97ms/step - loss: 0.7951 - mse: 0.7951 - mae: 0.5317 - val_loss: 15805.5049 - val_mse: 15805.5039 - val_mae: 97.3732\n",
      "Epoch 90/150\n",
      "13/13 [==============================] - 1s 96ms/step - loss: 0.7311 - mse: 0.7311 - mae: 0.4937 - val_loss: 15794.4404 - val_mse: 15794.4404 - val_mae: 97.3570\n",
      "Epoch 91/150\n",
      "13/13 [==============================] - 1s 94ms/step - loss: 0.6767 - mse: 0.6767 - mae: 0.4494 - val_loss: 15790.8701 - val_mse: 15790.8701 - val_mae: 97.3480\n",
      "Epoch 92/150\n",
      "13/13 [==============================] - 1s 95ms/step - loss: 0.6349 - mse: 0.6349 - mae: 0.4237 - val_loss: 15782.6182 - val_mse: 15782.6182 - val_mae: 97.3386\n",
      "Epoch 93/150\n",
      "13/13 [==============================] - 1s 94ms/step - loss: 0.5475 - mse: 0.5475 - mae: 0.4324 - val_loss: 15784.8447 - val_mse: 15784.8447 - val_mae: 97.3195\n",
      "Epoch 94/150\n",
      "13/13 [==============================] - 1s 91ms/step - loss: 0.4740 - mse: 0.4740 - mae: 0.3898 - val_loss: 15780.9033 - val_mse: 15780.9033 - val_mae: 97.3225\n",
      "Epoch 95/150\n",
      "13/13 [==============================] - 1s 94ms/step - loss: 0.4506 - mse: 0.4506 - mae: 0.3714 - val_loss: 15768.0410 - val_mse: 15768.0410 - val_mae: 97.2925\n",
      "Epoch 96/150\n",
      "13/13 [==============================] - 1s 91ms/step - loss: 0.4075 - mse: 0.4075 - mae: 0.3734 - val_loss: 15780.7178 - val_mse: 15780.7178 - val_mae: 97.3036\n",
      "Epoch 97/150\n",
      "13/13 [==============================] - 1s 91ms/step - loss: 0.3819 - mse: 0.3819 - mae: 0.3629 - val_loss: 15766.8701 - val_mse: 15766.8701 - val_mae: 97.2855\n",
      "Epoch 98/150\n",
      "13/13 [==============================] - 1s 90ms/step - loss: 0.3882 - mse: 0.3882 - mae: 0.3933 - val_loss: 15772.6738 - val_mse: 15772.6738 - val_mae: 97.2891\n",
      "Epoch 99/150\n",
      "13/13 [==============================] - 1s 94ms/step - loss: 0.2921 - mse: 0.2921 - mae: 0.3130 - val_loss: 15770.7207 - val_mse: 15770.7207 - val_mae: 97.2891\n",
      "Epoch 100/150\n",
      "13/13 [==============================] - 1s 97ms/step - loss: 0.2535 - mse: 0.2535 - mae: 0.2807 - val_loss: 15763.8340 - val_mse: 15763.8340 - val_mae: 97.2775\n",
      "Epoch 101/150\n",
      "13/13 [==============================] - 1s 94ms/step - loss: 0.2295 - mse: 0.2295 - mae: 0.2701 - val_loss: 15766.2148 - val_mse: 15766.2148 - val_mae: 97.2785\n",
      "Epoch 102/150\n",
      "13/13 [==============================] - 1s 97ms/step - loss: 0.1859 - mse: 0.1859 - mae: 0.2182 - val_loss: 15766.7354 - val_mse: 15766.7354 - val_mae: 97.2790\n",
      "Epoch 103/150\n",
      "13/13 [==============================] - 1s 93ms/step - loss: 0.2145 - mse: 0.2145 - mae: 0.2517 - val_loss: 15755.4492 - val_mse: 15755.4492 - val_mae: 97.2536\n",
      "Epoch 104/150\n",
      "13/13 [==============================] - 1s 93ms/step - loss: 0.2105 - mse: 0.2105 - mae: 0.2599 - val_loss: 15759.3242 - val_mse: 15759.3242 - val_mae: 97.2574\n",
      "Epoch 105/150\n",
      "13/13 [==============================] - 1s 91ms/step - loss: 0.1683 - mse: 0.1683 - mae: 0.2333 - val_loss: 15760.6875 - val_mse: 15760.6875 - val_mae: 97.2627\n",
      "Epoch 106/150\n",
      "13/13 [==============================] - 1s 91ms/step - loss: 0.1752 - mse: 0.1752 - mae: 0.2155 - val_loss: 15751.3652 - val_mse: 15751.3662 - val_mae: 97.2337\n",
      "Epoch 107/150\n",
      "13/13 [==============================] - 1s 90ms/step - loss: 0.1443 - mse: 0.1443 - mae: 0.2067 - val_loss: 15756.5381 - val_mse: 15756.5381 - val_mae: 97.2503\n",
      "Epoch 108/150\n",
      "13/13 [==============================] - 1s 92ms/step - loss: 0.1203 - mse: 0.1203 - mae: 0.1823 - val_loss: 15753.8154 - val_mse: 15753.8154 - val_mae: 97.2382\n",
      "Epoch 109/150\n",
      "13/13 [==============================] - 1s 91ms/step - loss: 0.1215 - mse: 0.1215 - mae: 0.1979 - val_loss: 15759.7549 - val_mse: 15759.7549 - val_mae: 97.2490\n",
      "Epoch 110/150\n",
      "13/13 [==============================] - 1s 91ms/step - loss: 0.1127 - mse: 0.1127 - mae: 0.2052 - val_loss: 15751.4336 - val_mse: 15751.4336 - val_mae: 97.2264\n",
      "Epoch 111/150\n",
      "13/13 [==============================] - 1s 91ms/step - loss: 0.0850 - mse: 0.0850 - mae: 0.1649 - val_loss: 15749.2090 - val_mse: 15749.2090 - val_mae: 97.2335\n",
      "Epoch 112/150\n",
      "13/13 [==============================] - 1s 93ms/step - loss: 0.0836 - mse: 0.0836 - mae: 0.1673 - val_loss: 15745.8291 - val_mse: 15745.8291 - val_mae: 97.2289\n",
      "Epoch 113/150\n",
      "13/13 [==============================] - 1s 93ms/step - loss: 0.0771 - mse: 0.0771 - mae: 0.1517 - val_loss: 15750.4209 - val_mse: 15750.4209 - val_mae: 97.2319\n",
      "Epoch 114/150\n",
      "13/13 [==============================] - 1s 95ms/step - loss: 0.0704 - mse: 0.0704 - mae: 0.1416 - val_loss: 15752.6738 - val_mse: 15752.6738 - val_mae: 97.2250\n",
      "Epoch 115/150\n",
      "13/13 [==============================] - 1s 93ms/step - loss: 0.0704 - mse: 0.0704 - mae: 0.1559 - val_loss: 15747.5400 - val_mse: 15747.5400 - val_mae: 97.2292\n",
      "Epoch 116/150\n",
      "13/13 [==============================] - 1s 99ms/step - loss: 0.0511 - mse: 0.0511 - mae: 0.1248 - val_loss: 15747.0811 - val_mse: 15747.0811 - val_mae: 97.2229\n",
      "Epoch 117/150\n",
      "13/13 [==============================] - 1s 100ms/step - loss: 0.0446 - mse: 0.0446 - mae: 0.1116 - val_loss: 15746.8857 - val_mse: 15746.8857 - val_mae: 97.2252\n",
      "Epoch 118/150\n",
      "13/13 [==============================] - 1s 98ms/step - loss: 0.0377 - mse: 0.0377 - mae: 0.0949 - val_loss: 15746.1943 - val_mse: 15746.1943 - val_mae: 97.2179\n",
      "Epoch 119/150\n",
      "13/13 [==============================] - 1s 96ms/step - loss: 0.0331 - mse: 0.0331 - mae: 0.0906 - val_loss: 15746.9922 - val_mse: 15746.9922 - val_mae: 97.2205\n",
      "Epoch 120/150\n",
      "13/13 [==============================] - 1s 93ms/step - loss: 0.0350 - mse: 0.0350 - mae: 0.0891 - val_loss: 15744.2285 - val_mse: 15744.2285 - val_mae: 97.2157\n",
      "Epoch 121/150\n",
      "13/13 [==============================] - 1s 92ms/step - loss: 0.0272 - mse: 0.0272 - mae: 0.0827 - val_loss: 15745.0869 - val_mse: 15745.0869 - val_mae: 97.2181\n",
      "Epoch 122/150\n",
      "13/13 [==============================] - 1s 96ms/step - loss: 0.0266 - mse: 0.0266 - mae: 0.0882 - val_loss: 15743.0010 - val_mse: 15743.0010 - val_mae: 97.2122\n",
      "Epoch 123/150\n",
      "13/13 [==============================] - 1s 97ms/step - loss: 0.0275 - mse: 0.0275 - mae: 0.0955 - val_loss: 15741.8145 - val_mse: 15741.8145 - val_mae: 97.2142\n",
      "Epoch 124/150\n",
      "13/13 [==============================] - 1s 93ms/step - loss: 0.0239 - mse: 0.0239 - mae: 0.0844 - val_loss: 15741.1992 - val_mse: 15741.1992 - val_mae: 97.2098\n",
      "Epoch 125/150\n",
      "13/13 [==============================] - 1s 100ms/step - loss: 0.0252 - mse: 0.0252 - mae: 0.0882 - val_loss: 15742.2305 - val_mse: 15742.2305 - val_mae: 97.2138\n",
      "Epoch 126/150\n",
      "13/13 [==============================] - 1s 94ms/step - loss: 0.0204 - mse: 0.0204 - mae: 0.0745 - val_loss: 15741.6475 - val_mse: 15741.6475 - val_mae: 97.2106\n",
      "Epoch 127/150\n",
      "13/13 [==============================] - 1s 92ms/step - loss: 0.0160 - mse: 0.0160 - mae: 0.0676 - val_loss: 15741.9053 - val_mse: 15741.9053 - val_mae: 97.2142\n",
      "Epoch 128/150\n",
      "13/13 [==============================] - 1s 92ms/step - loss: 0.0176 - mse: 0.0176 - mae: 0.0787 - val_loss: 15739.2510 - val_mse: 15739.2510 - val_mae: 97.2048\n",
      "Epoch 129/150\n",
      "13/13 [==============================] - 1s 95ms/step - loss: 0.0161 - mse: 0.0161 - mae: 0.0743 - val_loss: 15740.1807 - val_mse: 15740.1807 - val_mae: 97.2097\n",
      "Epoch 130/150\n",
      "13/13 [==============================] - 1s 92ms/step - loss: 0.0184 - mse: 0.0184 - mae: 0.0835 - val_loss: 15739.6631 - val_mse: 15739.6631 - val_mae: 97.2073\n",
      "Epoch 131/150\n",
      "13/13 [==============================] - 1s 92ms/step - loss: 0.0152 - mse: 0.0152 - mae: 0.0681 - val_loss: 15739.0322 - val_mse: 15739.0332 - val_mae: 97.2023\n",
      "Epoch 132/150\n",
      "13/13 [==============================] - 1s 92ms/step - loss: 0.0129 - mse: 0.0129 - mae: 0.0620 - val_loss: 15739.4150 - val_mse: 15739.4150 - val_mae: 97.2065\n",
      "Epoch 133/150\n",
      "13/13 [==============================] - 1s 90ms/step - loss: 0.0111 - mse: 0.0111 - mae: 0.0636 - val_loss: 15738.3672 - val_mse: 15738.3672 - val_mae: 97.2009\n",
      "Epoch 134/150\n",
      "13/13 [==============================] - 1s 89ms/step - loss: 0.0097 - mse: 0.0097 - mae: 0.0540 - val_loss: 15740.1846 - val_mse: 15740.1846 - val_mae: 97.2047\n",
      "Epoch 135/150\n",
      "13/13 [==============================] - 1s 90ms/step - loss: 0.0079 - mse: 0.0079 - mae: 0.0517 - val_loss: 15739.3232 - val_mse: 15739.3232 - val_mae: 97.2015\n",
      "Epoch 136/150\n",
      "13/13 [==============================] - 1s 92ms/step - loss: 0.0086 - mse: 0.0086 - mae: 0.0532 - val_loss: 15742.2129 - val_mse: 15742.2129 - val_mae: 97.2078\n",
      "Epoch 137/150\n",
      "13/13 [==============================] - 1s 97ms/step - loss: 0.0079 - mse: 0.0079 - mae: 0.0558 - val_loss: 15740.0840 - val_mse: 15740.0840 - val_mae: 97.2046\n",
      "Epoch 138/150\n",
      "13/13 [==============================] - 1s 98ms/step - loss: 0.0056 - mse: 0.0056 - mae: 0.0434 - val_loss: 15738.2412 - val_mse: 15738.2412 - val_mae: 97.2041\n",
      "Epoch 139/150\n",
      "13/13 [==============================] - 1s 92ms/step - loss: 0.0082 - mse: 0.0082 - mae: 0.0612 - val_loss: 15739.1973 - val_mse: 15739.1973 - val_mae: 97.2019\n",
      "Epoch 140/150\n",
      "13/13 [==============================] - 1s 92ms/step - loss: 0.0096 - mse: 0.0096 - mae: 0.0634 - val_loss: 15740.5332 - val_mse: 15740.5332 - val_mae: 97.2046\n",
      "Epoch 141/150\n",
      "13/13 [==============================] - 1s 94ms/step - loss: 0.0083 - mse: 0.0083 - mae: 0.0616 - val_loss: 15738.7305 - val_mse: 15738.7305 - val_mae: 97.1992\n",
      "Epoch 142/150\n",
      "13/13 [==============================] - 1s 94ms/step - loss: 0.0058 - mse: 0.0058 - mae: 0.0499 - val_loss: 15738.8301 - val_mse: 15738.8301 - val_mae: 97.2014\n",
      "Epoch 143/150\n",
      "13/13 [==============================] - 1s 90ms/step - loss: 0.0051 - mse: 0.0051 - mae: 0.0499 - val_loss: 15739.4727 - val_mse: 15739.4727 - val_mae: 97.2001\n",
      "Epoch 144/150\n",
      "13/13 [==============================] - 1s 90ms/step - loss: 0.0045 - mse: 0.0045 - mae: 0.0393 - val_loss: 15738.7852 - val_mse: 15738.7852 - val_mae: 97.2021\n",
      "Epoch 145/150\n",
      "13/13 [==============================] - 1s 89ms/step - loss: 0.0028 - mse: 0.0028 - mae: 0.0324 - val_loss: 15737.9756 - val_mse: 15737.9756 - val_mae: 97.1989\n",
      "Epoch 146/150\n",
      "13/13 [==============================] - 1s 92ms/step - loss: 0.0023 - mse: 0.0023 - mae: 0.0269 - val_loss: 15738.1055 - val_mse: 15738.1055 - val_mae: 97.2003\n",
      "Epoch 147/150\n",
      "13/13 [==============================] - 1s 89ms/step - loss: 0.0027 - mse: 0.0027 - mae: 0.0296 - val_loss: 15739.5059 - val_mse: 15739.5059 - val_mae: 97.2006\n",
      "Epoch 148/150\n",
      "13/13 [==============================] - 1s 92ms/step - loss: 0.0034 - mse: 0.0034 - mae: 0.0364 - val_loss: 15738.6562 - val_mse: 15738.6562 - val_mae: 97.1993\n",
      "Epoch 149/150\n",
      "13/13 [==============================] - 1s 92ms/step - loss: 0.0023 - mse: 0.0023 - mae: 0.0317 - val_loss: 15737.4141 - val_mse: 15737.4141 - val_mae: 97.2002\n",
      "Epoch 150/150\n",
      "13/13 [==============================] - 1s 97ms/step - loss: 0.0020 - mse: 0.0020 - mae: 0.0302 - val_loss: 15739.0117 - val_mse: 15739.0117 - val_mae: 97.1995\n"
     ]
    }
   ],
   "source": [
    "model.compile(loss='mse', optimizer='adam', metrics=['mse','mae'])\n",
    "history=model.fit(X_train, y_train, batch_size=80, epochs=150, verbose=1, validation_split=0.2)\n",
    "#predictions = model.predict(X_test)"
   ]
  },
  {
   "cell_type": "code",
   "execution_count": 133,
   "metadata": {},
   "outputs": [
    {
     "name": "stdout",
     "output_type": "stream",
     "text": [
      "dict_keys(['loss', 'mse', 'mae', 'val_loss', 'val_mse', 'val_mae'])\n"
     ]
    },
    {
     "data": {
      "image/png": "[encoded data removed]",
      "text/plain": [
       "<Figure size 432x288 with 1 Axes>"
      ]
     },
     "metadata": {
      "needs_background": "light"
     },
     "output_type": "display_data"
    }
   ],
   "source": [
    "print(history.history.keys())\n",
    "# \"Loss\"\n",
    "plt.plot(history.history['loss'])\n",
    "plt.plot(history.history['val_loss'])\n",
    "plt.title('model loss')\n",
    "plt.ylabel('loss')\n",
    "plt.xlabel('epoch')\n",
    "plt.legend(['train', 'validation'], loc='upper left')\n",
    "plt.show()"
   ]
  },
  {
   "cell_type": "markdown",
   "metadata": {},
   "source": [
    "### AutoKeras"
   ]
  },
  {
   "cell_type": "markdown",
   "metadata": {},
   "source": [
    "We then tried to launch a AutoKeras model, iterating through 100 models trying to fine tune the hyper parameters. However, we thing that this technique is quite wrong since we select a model (and more particularly an epoch of the model) as being the best regarding the MSE on the validation set. This set being pretty small in our dataset (only 20% of the training set) we got super good results on the MSE of the model, however while testing on the testing set we created, it performed poorly."
   ]
  },
  {
   "cell_type": "code",
   "execution_count": 54,
   "metadata": {},
   "outputs": [
    {
     "name": "stdout",
     "output_type": "stream",
     "text": [
      " 1997 :  2\n",
      " 1998 :  12\n",
      " 1999 :  31\n",
      " 2000 :  13\n",
      " 2001 :  29\n",
      " 2002 :  47\n",
      " 2003 :  45\n",
      " 2004 :  65\n",
      " 2005 :  66\n",
      " 2006 :  63\n",
      " 2007 :  81\n",
      " 2008 :  62\n",
      " 2009 :  96\n",
      " 2010 :  85\n",
      " 2011 :  95\n",
      " 2012 :  69\n",
      " 2013 :  59\n",
      " 2014 :  86\n",
      " 2015 :  78\n",
      " 2016 :  45\n",
      " 2017 :  52\n",
      " 2018 :  68\n",
      " 2019 :  36\n"
     ]
    }
   ],
   "source": [
    "### Gathering the data\n",
    "\n",
    "infile = open(\"C:/Users/hugop/Desktop/corpus-taln/corpus_taln_v1.tei.xml\",\"r\", encoding='UTF-8')\n",
    "contents = infile.read()\n",
    "soup = BeautifulSoup(contents,'xml')\n",
    "\n",
    "soup.bibl.clear()\n",
    "\n",
    "# Preprocessing\n",
    "\n",
    "#### Scrapping\n",
    "\n",
    "#*We use the XML tags to retrieve information that we want, using beaufitul soup, since XML and HTML work the same way*\n",
    "\n",
    "#*authors*\n",
    "\n",
    "author = soup.find_all('text')\n",
    "\n",
    "selector = {'xml:lang':[\"fr\",\"en\"]}\n",
    "titles = soup.find_all('title', selector)\n",
    "\n",
    "title = []\n",
    "for x in titles:\n",
    "    title.append(x.text.replace('\\n',''))\n",
    "title = list(dict.fromkeys(title))\n",
    "\n",
    "titles_list = []\n",
    "for x in titles:\n",
    "    titles_list.append(str(x))\n",
    "\n",
    "titles_list = list(dict.fromkeys(titles_list))\n",
    "\n",
    "#*languages*\n",
    "\n",
    "language = []\n",
    "for x in titles_list:\n",
    "    language.append(re.search('\\\"(.*)\\\"', x).group(1))\n",
    "\n",
    "#*texts*\n",
    "\n",
    "paragraphs = []\n",
    "for x in author:\n",
    "    paragraphs.append(BeautifulSoup(str(x), \"lxml\").text.replace('\\n\\n\\n\\n\\n',' ').replace('\\n\\n\\n\\n',' ').replace('\\n\\n\\n',' ').replace('\\n\\n',' ').replace('\\n',' ').replace(\"\\'\",\"\").replace('None ','').replace('  ',' '))\n",
    "\n",
    "paragraphs_clean = []\n",
    "regex = re.compile(\".?((.?))\")\n",
    "for x in paragraphs:\n",
    "    paragraphs_clean.append(re.sub(\"([\\(\\[]).*?([\\)\\]])\", \"\\g<1>\\g<2>\", x).replace('[]', '').replace('()', '').replace('  ', ' ').replace(' .','.'))\n",
    "paragraphs_clean = list(dict.fromkeys(paragraphs_clean))\n",
    "\n",
    "#*dates*\n",
    "\n",
    "dates = soup.find_all('imprint') #we use this tag because its unique in each article, avoids duplicates\n",
    "\n",
    "#*conference*\n",
    "\n",
    "conf = soup.find_all('fileDesc', {\"xml:id\": re.compile('^r|t')})\n",
    "\n",
    "conf = conf[1:] ##supprimer le fileDesc qui correspond à la description du fichier xml\n",
    "\n",
    "conferences = []\n",
    "for x in conf:\n",
    "    conferences.append(str(x).replace('-', '\"'))\n",
    "\n",
    "conferences_clean = []\n",
    "for x in conferences:\n",
    "    conferences_clean.append(re.search('\\\"(.*)\\\"', x).group(1))\n",
    "\n",
    "conferences_clean_2 = []\n",
    "for x in conferences_clean:\n",
    "    if x[0] == 't':\n",
    "        x = x[0:4]\n",
    "    else:\n",
    "        x = x[0:7]\n",
    "    conferences_clean_2.append(x)\n",
    "\n",
    "date = []\n",
    "for x in dates:\n",
    "    date.append(x.get_text().replace('\\n',''))\n",
    "\n",
    "#*Once we scrapped all the data we can zip the lists into a single pandas dataframe that we'll use later*\n",
    "\n",
    "#filling a dataframe with the scrapped data\n",
    "df = pd.DataFrame(list(zip(paragraphs_clean, language,title, date,conferences_clean_2)), columns =['Text', 'Language','name', 'date', 'conference']) \n",
    "\n",
    "df_fr = df[df['Language'] == 'fr'] #we focus on french papers only for this part\n",
    "\n",
    "df_fr = df_fr[df_fr['Text'].str.len() > 2570] #we delete the articles with no text body\n",
    "\n",
    "Counter(list(df_fr['conference']))\n",
    "\n",
    "#### Lowercasing the text\n",
    "\n",
    "df_fr['Text'] = df_fr['Text'].apply(lambda x: \" \".join(x.lower() for x in x.split()))\n",
    "df_fr['Text'].head()\n",
    "\n",
    "#### Removing the stopwords\n",
    "\n",
    "from nltk.corpus import stopwords\n",
    "stop = stopwords.words('french')\n",
    "df_fr['Text'] = df_fr['Text'].apply(lambda x: \" \".join(x for x in x.split() if x not in stop))\n",
    "df_fr['Text'].head()\n",
    "\n",
    "#### Removing the punctuation\n",
    "\n",
    "df_fr['Text'] = df_fr['Text'].str.replace('[^\\w\\s]','')\n",
    "\n",
    "#### Lemmatization\n",
    "\n",
    "#### Stemming\n",
    "\n",
    "df_fr['Text_no_stemming'] = df_fr['Text']\n",
    "\n",
    "from nltk.stem.snowball import FrenchStemmer\n",
    "stemmerFR = FrenchStemmer()\n",
    "df_fr['Text'] = df_fr.apply(lambda x: \" \".join([stemmerFR.stem(word) for word in x['Text'].split()]), axis = 1)\n",
    "\n",
    "df_fr['Text'].head()\n",
    "\n",
    "from collections import Counter\n",
    "sorted(list(df_fr['date']))\n",
    "\n",
    "def CountFrequency(my_list): \n",
    "  \n",
    "    # Creating an empty dictionary  \n",
    "    freq = {} \n",
    "    for item in my_list: \n",
    "        if (item in freq): \n",
    "            freq[item] += 1\n",
    "        else: \n",
    "            freq[item] = 1\n",
    "  \n",
    "    for key, value in freq.items(): \n",
    "        print (\"% d : % d\"%(key, value)) \n",
    "\n",
    "CountFrequency(sorted(pd.to_numeric(df_fr['date'])))"
   ]
  },
  {
   "cell_type": "code",
   "execution_count": 55,
   "metadata": {},
   "outputs": [],
   "source": [
    "from sklearn.utils import shuffle\n",
    "df_fr = shuffle(df_fr)"
   ]
  },
  {
   "cell_type": "code",
   "execution_count": 56,
   "metadata": {},
   "outputs": [
    {
     "name": "stdout",
     "output_type": "stream",
     "text": [
      "(1000,)\n",
      "(1000,)\n",
      "cet articl présent appliqu doutil méthod trait aut\n"
     ]
    }
   ],
   "source": [
    "a = np.array(list(df_fr['Text']))\n",
    "\n",
    "X_train = a[:1000]\n",
    "y_train = np.array(list(df_fr['date']))[:1000]\n",
    "X_test = a[1000:]\n",
    "y_test = np.array(list(df_fr['date']))[1000:]\n",
    "print(X_train.shape)  # (25000,)\n",
    "print(y_train.shape)  # (25000, 1)\n",
    "print(X_train[0][:50])  # <START> this film was just brilliant casting <UNK>"
   ]
  },
  {
   "cell_type": "code",
   "execution_count": 57,
   "metadata": {},
   "outputs": [],
   "source": [
    "a = []\n",
    "for item in y_train:\n",
    "    a.append(float(item))\n",
    "\n",
    "\n",
    "y_train = np.array(a)"
   ]
  },
  {
   "cell_type": "code",
   "execution_count": 58,
   "metadata": {},
   "outputs": [],
   "source": [
    "a = []\n",
    "for item in y_test:\n",
    "    a.append(float(item))\n",
    "\n",
    "\n",
    "y_test = np.array(a)"
   ]
  },
  {
   "cell_type": "code",
   "execution_count": 66,
   "metadata": {},
   "outputs": [
    {
     "ename": "AttributeError",
     "evalue": "module 'kerastuner' has no attribute 'engine'",
     "output_type": "error",
     "traceback": [
      "\u001b[1;31m---------------------------------------------------------------------------\u001b[0m",
      "\u001b[1;31mAttributeError\u001b[0m                            Traceback (most recent call last)",
      "\u001b[1;32m<ipython-input-66-85d187d68977>\u001b[0m in \u001b[0;36m<module>\u001b[1;34m\u001b[0m\n\u001b[1;32m----> 1\u001b[1;33m \u001b[1;32mimport\u001b[0m \u001b[0mautokeras\u001b[0m \u001b[1;32mas\u001b[0m \u001b[0mak\u001b[0m\u001b[1;33m\u001b[0m\u001b[1;33m\u001b[0m\u001b[0m\n\u001b[0m",
      "\u001b[1;32m~\\anaconda3\\lib\\site-packages\\autokeras\\__init__.py\u001b[0m in \u001b[0;36m<module>\u001b[1;34m\u001b[0m\n\u001b[0;32m     13\u001b[0m \u001b[1;31m# limitations under the License.\u001b[0m\u001b[1;33m\u001b[0m\u001b[1;33m\u001b[0m\u001b[1;33m\u001b[0m\u001b[0m\n\u001b[0;32m     14\u001b[0m \u001b[1;33m\u001b[0m\u001b[0m\n\u001b[1;32m---> 15\u001b[1;33m \u001b[1;32mfrom\u001b[0m \u001b[0mautokeras\u001b[0m\u001b[1;33m.\u001b[0m\u001b[0mauto_model\u001b[0m \u001b[1;32mimport\u001b[0m \u001b[0mAutoModel\u001b[0m\u001b[1;33m\u001b[0m\u001b[1;33m\u001b[0m\u001b[0m\n\u001b[0m\u001b[0;32m     16\u001b[0m \u001b[1;32mfrom\u001b[0m \u001b[0mautokeras\u001b[0m\u001b[1;33m.\u001b[0m\u001b[0mblocks\u001b[0m \u001b[1;32mimport\u001b[0m \u001b[0mBertBlock\u001b[0m\u001b[1;33m\u001b[0m\u001b[1;33m\u001b[0m\u001b[0m\n\u001b[0;32m     17\u001b[0m \u001b[1;32mfrom\u001b[0m \u001b[0mautokeras\u001b[0m\u001b[1;33m.\u001b[0m\u001b[0mblocks\u001b[0m \u001b[1;32mimport\u001b[0m \u001b[0mCategoricalToNumerical\u001b[0m\u001b[1;33m\u001b[0m\u001b[1;33m\u001b[0m\u001b[0m\n",
      "\u001b[1;32m~\\anaconda3\\lib\\site-packages\\autokeras\\auto_model.py\u001b[0m in \u001b[0;36m<module>\u001b[1;34m\u001b[0m\n\u001b[0;32m     26\u001b[0m \u001b[1;32mfrom\u001b[0m \u001b[0mautokeras\u001b[0m \u001b[1;32mimport\u001b[0m \u001b[0mgraph\u001b[0m \u001b[1;32mas\u001b[0m \u001b[0mgraph_module\u001b[0m\u001b[1;33m\u001b[0m\u001b[1;33m\u001b[0m\u001b[0m\n\u001b[0;32m     27\u001b[0m \u001b[1;32mfrom\u001b[0m \u001b[0mautokeras\u001b[0m \u001b[1;32mimport\u001b[0m \u001b[0mpipeline\u001b[0m\u001b[1;33m\u001b[0m\u001b[1;33m\u001b[0m\u001b[0m\n\u001b[1;32m---> 28\u001b[1;33m \u001b[1;32mfrom\u001b[0m \u001b[0mautokeras\u001b[0m \u001b[1;32mimport\u001b[0m \u001b[0mtuners\u001b[0m\u001b[1;33m\u001b[0m\u001b[1;33m\u001b[0m\u001b[0m\n\u001b[0m\u001b[0;32m     29\u001b[0m \u001b[1;32mfrom\u001b[0m \u001b[0mautokeras\u001b[0m\u001b[1;33m.\u001b[0m\u001b[0mengine\u001b[0m \u001b[1;32mimport\u001b[0m \u001b[0mhead\u001b[0m \u001b[1;32mas\u001b[0m \u001b[0mhead_module\u001b[0m\u001b[1;33m\u001b[0m\u001b[1;33m\u001b[0m\u001b[0m\n\u001b[0;32m     30\u001b[0m \u001b[1;32mfrom\u001b[0m \u001b[0mautokeras\u001b[0m\u001b[1;33m.\u001b[0m\u001b[0mengine\u001b[0m \u001b[1;32mimport\u001b[0m \u001b[0mnode\u001b[0m \u001b[1;32mas\u001b[0m \u001b[0mnode_module\u001b[0m\u001b[1;33m\u001b[0m\u001b[1;33m\u001b[0m\u001b[0m\n",
      "\u001b[1;32m~\\anaconda3\\lib\\site-packages\\autokeras\\tuners\\__init__.py\u001b[0m in \u001b[0;36m<module>\u001b[1;34m\u001b[0m\n\u001b[0;32m     13\u001b[0m \u001b[1;31m# limitations under the License.\u001b[0m\u001b[1;33m\u001b[0m\u001b[1;33m\u001b[0m\u001b[1;33m\u001b[0m\u001b[0m\n\u001b[0;32m     14\u001b[0m \u001b[1;33m\u001b[0m\u001b[0m\n\u001b[1;32m---> 15\u001b[1;33m \u001b[1;32mfrom\u001b[0m \u001b[0mautokeras\u001b[0m\u001b[1;33m.\u001b[0m\u001b[0mtuners\u001b[0m\u001b[1;33m.\u001b[0m\u001b[0mbayesian_optimization\u001b[0m \u001b[1;32mimport\u001b[0m \u001b[0mBayesianOptimization\u001b[0m\u001b[1;33m\u001b[0m\u001b[1;33m\u001b[0m\u001b[0m\n\u001b[0m\u001b[0;32m     16\u001b[0m \u001b[1;32mfrom\u001b[0m \u001b[0mautokeras\u001b[0m\u001b[1;33m.\u001b[0m\u001b[0mtuners\u001b[0m\u001b[1;33m.\u001b[0m\u001b[0mgreedy\u001b[0m \u001b[1;32mimport\u001b[0m \u001b[0mGreedy\u001b[0m\u001b[1;33m\u001b[0m\u001b[1;33m\u001b[0m\u001b[0m\n\u001b[0;32m     17\u001b[0m \u001b[1;32mfrom\u001b[0m \u001b[0mautokeras\u001b[0m\u001b[1;33m.\u001b[0m\u001b[0mtuners\u001b[0m\u001b[1;33m.\u001b[0m\u001b[0mhyperband\u001b[0m \u001b[1;32mimport\u001b[0m \u001b[0mHyperband\u001b[0m\u001b[1;33m\u001b[0m\u001b[1;33m\u001b[0m\u001b[0m\n",
      "\u001b[1;32m~\\anaconda3\\lib\\site-packages\\autokeras\\tuners\\bayesian_optimization.py\u001b[0m in \u001b[0;36m<module>\u001b[1;34m\u001b[0m\n\u001b[0;32m     15\u001b[0m \u001b[1;32mimport\u001b[0m \u001b[0mkerastuner\u001b[0m\u001b[1;33m\u001b[0m\u001b[1;33m\u001b[0m\u001b[0m\n\u001b[0;32m     16\u001b[0m \u001b[1;33m\u001b[0m\u001b[0m\n\u001b[1;32m---> 17\u001b[1;33m \u001b[1;32mfrom\u001b[0m \u001b[0mautokeras\u001b[0m\u001b[1;33m.\u001b[0m\u001b[0mengine\u001b[0m \u001b[1;32mimport\u001b[0m \u001b[0mtuner\u001b[0m \u001b[1;32mas\u001b[0m \u001b[0mtuner_module\u001b[0m\u001b[1;33m\u001b[0m\u001b[1;33m\u001b[0m\u001b[0m\n\u001b[0m\u001b[0;32m     18\u001b[0m \u001b[1;33m\u001b[0m\u001b[0m\n\u001b[0;32m     19\u001b[0m \u001b[1;33m\u001b[0m\u001b[0m\n",
      "\u001b[1;32m~\\anaconda3\\lib\\site-packages\\autokeras\\engine\\tuner.py\u001b[0m in \u001b[0;36m<module>\u001b[1;34m\u001b[0m\n\u001b[0;32m     28\u001b[0m \u001b[1;33m\u001b[0m\u001b[0m\n\u001b[0;32m     29\u001b[0m \u001b[1;33m\u001b[0m\u001b[0m\n\u001b[1;32m---> 30\u001b[1;33m \u001b[1;32mclass\u001b[0m \u001b[0mAutoTuner\u001b[0m\u001b[1;33m(\u001b[0m\u001b[0mkerastuner\u001b[0m\u001b[1;33m.\u001b[0m\u001b[0mengine\u001b[0m\u001b[1;33m.\u001b[0m\u001b[0mtuner\u001b[0m\u001b[1;33m.\u001b[0m\u001b[0mTuner\u001b[0m\u001b[1;33m)\u001b[0m\u001b[1;33m:\u001b[0m\u001b[1;33m\u001b[0m\u001b[1;33m\u001b[0m\u001b[0m\n\u001b[0m\u001b[0;32m     31\u001b[0m     \"\"\"A Tuner class based on KerasTuner for AutoKeras.\n\u001b[0;32m     32\u001b[0m \u001b[1;33m\u001b[0m\u001b[0m\n",
      "\u001b[1;31mAttributeError\u001b[0m: module 'kerastuner' has no attribute 'engine'"
     ]
    }
   ],
   "source": [
    "import autokeras as ak"
   ]
  },
  {
   "cell_type": "code",
   "execution_count": 67,
   "metadata": {
    "scrolled": true
   },
   "outputs": [
    {
     "ename": "AttributeError",
     "evalue": "module 'kerastuner' has no attribute 'engine'",
     "output_type": "error",
     "traceback": [
      "\u001b[1;31m---------------------------------------------------------------------------\u001b[0m",
      "\u001b[1;31mAttributeError\u001b[0m                            Traceback (most recent call last)",
      "\u001b[1;32m<ipython-input-67-a8cc0dc78ecb>\u001b[0m in \u001b[0;36m<module>\u001b[1;34m\u001b[0m\n\u001b[1;32m----> 1\u001b[1;33m \u001b[1;32mimport\u001b[0m \u001b[0mautokeras\u001b[0m \u001b[1;32mas\u001b[0m \u001b[0mak\u001b[0m\u001b[1;33m\u001b[0m\u001b[1;33m\u001b[0m\u001b[0m\n\u001b[0m\u001b[0;32m      2\u001b[0m \u001b[1;33m\u001b[0m\u001b[0m\n\u001b[0;32m      3\u001b[0m \u001b[1;31m# Initialize the text regressor.\u001b[0m\u001b[1;33m\u001b[0m\u001b[1;33m\u001b[0m\u001b[1;33m\u001b[0m\u001b[0m\n\u001b[0;32m      4\u001b[0m reg = ak.TextRegressor(\n\u001b[0;32m      5\u001b[0m     \u001b[0moverwrite\u001b[0m\u001b[1;33m=\u001b[0m\u001b[1;32mTrue\u001b[0m\u001b[1;33m,\u001b[0m\u001b[1;33m\u001b[0m\u001b[1;33m\u001b[0m\u001b[0m\n",
      "\u001b[1;32m~\\anaconda3\\lib\\site-packages\\autokeras\\__init__.py\u001b[0m in \u001b[0;36m<module>\u001b[1;34m\u001b[0m\n\u001b[0;32m     13\u001b[0m \u001b[1;31m# limitations under the License.\u001b[0m\u001b[1;33m\u001b[0m\u001b[1;33m\u001b[0m\u001b[1;33m\u001b[0m\u001b[0m\n\u001b[0;32m     14\u001b[0m \u001b[1;33m\u001b[0m\u001b[0m\n\u001b[1;32m---> 15\u001b[1;33m \u001b[1;32mfrom\u001b[0m \u001b[0mautokeras\u001b[0m\u001b[1;33m.\u001b[0m\u001b[0mauto_model\u001b[0m \u001b[1;32mimport\u001b[0m \u001b[0mAutoModel\u001b[0m\u001b[1;33m\u001b[0m\u001b[1;33m\u001b[0m\u001b[0m\n\u001b[0m\u001b[0;32m     16\u001b[0m \u001b[1;32mfrom\u001b[0m \u001b[0mautokeras\u001b[0m\u001b[1;33m.\u001b[0m\u001b[0mblocks\u001b[0m \u001b[1;32mimport\u001b[0m \u001b[0mBertBlock\u001b[0m\u001b[1;33m\u001b[0m\u001b[1;33m\u001b[0m\u001b[0m\n\u001b[0;32m     17\u001b[0m \u001b[1;32mfrom\u001b[0m \u001b[0mautokeras\u001b[0m\u001b[1;33m.\u001b[0m\u001b[0mblocks\u001b[0m \u001b[1;32mimport\u001b[0m \u001b[0mCategoricalToNumerical\u001b[0m\u001b[1;33m\u001b[0m\u001b[1;33m\u001b[0m\u001b[0m\n",
      "\u001b[1;32m~\\anaconda3\\lib\\site-packages\\autokeras\\auto_model.py\u001b[0m in \u001b[0;36m<module>\u001b[1;34m\u001b[0m\n\u001b[0;32m     26\u001b[0m \u001b[1;32mfrom\u001b[0m \u001b[0mautokeras\u001b[0m \u001b[1;32mimport\u001b[0m \u001b[0mgraph\u001b[0m \u001b[1;32mas\u001b[0m \u001b[0mgraph_module\u001b[0m\u001b[1;33m\u001b[0m\u001b[1;33m\u001b[0m\u001b[0m\n\u001b[0;32m     27\u001b[0m \u001b[1;32mfrom\u001b[0m \u001b[0mautokeras\u001b[0m \u001b[1;32mimport\u001b[0m \u001b[0mpipeline\u001b[0m\u001b[1;33m\u001b[0m\u001b[1;33m\u001b[0m\u001b[0m\n\u001b[1;32m---> 28\u001b[1;33m \u001b[1;32mfrom\u001b[0m \u001b[0mautokeras\u001b[0m \u001b[1;32mimport\u001b[0m \u001b[0mtuners\u001b[0m\u001b[1;33m\u001b[0m\u001b[1;33m\u001b[0m\u001b[0m\n\u001b[0m\u001b[0;32m     29\u001b[0m \u001b[1;32mfrom\u001b[0m \u001b[0mautokeras\u001b[0m\u001b[1;33m.\u001b[0m\u001b[0mengine\u001b[0m \u001b[1;32mimport\u001b[0m \u001b[0mhead\u001b[0m \u001b[1;32mas\u001b[0m \u001b[0mhead_module\u001b[0m\u001b[1;33m\u001b[0m\u001b[1;33m\u001b[0m\u001b[0m\n\u001b[0;32m     30\u001b[0m \u001b[1;32mfrom\u001b[0m \u001b[0mautokeras\u001b[0m\u001b[1;33m.\u001b[0m\u001b[0mengine\u001b[0m \u001b[1;32mimport\u001b[0m \u001b[0mnode\u001b[0m \u001b[1;32mas\u001b[0m \u001b[0mnode_module\u001b[0m\u001b[1;33m\u001b[0m\u001b[1;33m\u001b[0m\u001b[0m\n",
      "\u001b[1;32m~\\anaconda3\\lib\\site-packages\\autokeras\\tuners\\__init__.py\u001b[0m in \u001b[0;36m<module>\u001b[1;34m\u001b[0m\n\u001b[0;32m     13\u001b[0m \u001b[1;31m# limitations under the License.\u001b[0m\u001b[1;33m\u001b[0m\u001b[1;33m\u001b[0m\u001b[1;33m\u001b[0m\u001b[0m\n\u001b[0;32m     14\u001b[0m \u001b[1;33m\u001b[0m\u001b[0m\n\u001b[1;32m---> 15\u001b[1;33m \u001b[1;32mfrom\u001b[0m \u001b[0mautokeras\u001b[0m\u001b[1;33m.\u001b[0m\u001b[0mtuners\u001b[0m\u001b[1;33m.\u001b[0m\u001b[0mbayesian_optimization\u001b[0m \u001b[1;32mimport\u001b[0m \u001b[0mBayesianOptimization\u001b[0m\u001b[1;33m\u001b[0m\u001b[1;33m\u001b[0m\u001b[0m\n\u001b[0m\u001b[0;32m     16\u001b[0m \u001b[1;32mfrom\u001b[0m \u001b[0mautokeras\u001b[0m\u001b[1;33m.\u001b[0m\u001b[0mtuners\u001b[0m\u001b[1;33m.\u001b[0m\u001b[0mgreedy\u001b[0m \u001b[1;32mimport\u001b[0m \u001b[0mGreedy\u001b[0m\u001b[1;33m\u001b[0m\u001b[1;33m\u001b[0m\u001b[0m\n\u001b[0;32m     17\u001b[0m \u001b[1;32mfrom\u001b[0m \u001b[0mautokeras\u001b[0m\u001b[1;33m.\u001b[0m\u001b[0mtuners\u001b[0m\u001b[1;33m.\u001b[0m\u001b[0mhyperband\u001b[0m \u001b[1;32mimport\u001b[0m \u001b[0mHyperband\u001b[0m\u001b[1;33m\u001b[0m\u001b[1;33m\u001b[0m\u001b[0m\n",
      "\u001b[1;32m~\\anaconda3\\lib\\site-packages\\autokeras\\tuners\\bayesian_optimization.py\u001b[0m in \u001b[0;36m<module>\u001b[1;34m\u001b[0m\n\u001b[0;32m     15\u001b[0m \u001b[1;32mimport\u001b[0m \u001b[0mkerastuner\u001b[0m\u001b[1;33m\u001b[0m\u001b[1;33m\u001b[0m\u001b[0m\n\u001b[0;32m     16\u001b[0m \u001b[1;33m\u001b[0m\u001b[0m\n\u001b[1;32m---> 17\u001b[1;33m \u001b[1;32mfrom\u001b[0m \u001b[0mautokeras\u001b[0m\u001b[1;33m.\u001b[0m\u001b[0mengine\u001b[0m \u001b[1;32mimport\u001b[0m \u001b[0mtuner\u001b[0m \u001b[1;32mas\u001b[0m \u001b[0mtuner_module\u001b[0m\u001b[1;33m\u001b[0m\u001b[1;33m\u001b[0m\u001b[0m\n\u001b[0m\u001b[0;32m     18\u001b[0m \u001b[1;33m\u001b[0m\u001b[0m\n\u001b[0;32m     19\u001b[0m \u001b[1;33m\u001b[0m\u001b[0m\n",
      "\u001b[1;32m~\\anaconda3\\lib\\site-packages\\autokeras\\engine\\tuner.py\u001b[0m in \u001b[0;36m<module>\u001b[1;34m\u001b[0m\n\u001b[0;32m     28\u001b[0m \u001b[1;33m\u001b[0m\u001b[0m\n\u001b[0;32m     29\u001b[0m \u001b[1;33m\u001b[0m\u001b[0m\n\u001b[1;32m---> 30\u001b[1;33m \u001b[1;32mclass\u001b[0m \u001b[0mAutoTuner\u001b[0m\u001b[1;33m(\u001b[0m\u001b[0mkerastuner\u001b[0m\u001b[1;33m.\u001b[0m\u001b[0mengine\u001b[0m\u001b[1;33m.\u001b[0m\u001b[0mtuner\u001b[0m\u001b[1;33m.\u001b[0m\u001b[0mTuner\u001b[0m\u001b[1;33m)\u001b[0m\u001b[1;33m:\u001b[0m\u001b[1;33m\u001b[0m\u001b[1;33m\u001b[0m\u001b[0m\n\u001b[0m\u001b[0;32m     31\u001b[0m     \"\"\"A Tuner class based on KerasTuner for AutoKeras.\n\u001b[0;32m     32\u001b[0m \u001b[1;33m\u001b[0m\u001b[0m\n",
      "\u001b[1;31mAttributeError\u001b[0m: module 'kerastuner' has no attribute 'engine'"
     ]
    }
   ],
   "source": [
    "import autokeras as ak\n",
    "\n",
    "# Initialize the text regressor.\n",
    "reg = ak.TextRegressor(\n",
    "    overwrite=True,\n",
    "    max_trials=10) # It tries 100 different models.\n",
    "# Feed the text regressor with training data.\n",
    "reg.fit(X_train, y_train, epochs=100)\n",
    "# Predict with the best model.\n",
    "predicted_y = reg.predict(X_test)\n",
    "# Evaluate the best model with testing data.\n",
    "print(reg.evaluate(X_test, y_test))"
   ]
  },
  {
   "cell_type": "code",
   "execution_count": null,
   "metadata": {},
   "outputs": [],
   "source": [
    "model = reg.export_model()\n",
    "# summarize the loaded model\n",
    "model.summary()\n",
    "#model.save('model_reg.tf')"
   ]
  },
  {
   "cell_type": "markdown",
   "metadata": {},
   "source": [
    "Here for instance, we get the best model with 3183 of MSE while we only get 1744 on the testing set. We can see here that however this SME is pretty bad, it is highly imprecise. It is due to the low size of the training and testing sets sue to the small size of the corpus."
   ]
  },
  {
   "cell_type": "code",
   "execution_count": 143,
   "metadata": {},
   "outputs": [],
   "source": [
    "y_pred = model.predict(X_test)"
   ]
  },
  {
   "cell_type": "code",
   "execution_count": 144,
   "metadata": {},
   "outputs": [
    {
     "data": {
      "text/plain": [
       "1744.512867095805"
      ]
     },
     "execution_count": 144,
     "metadata": {},
     "output_type": "execute_result"
    }
   ],
   "source": [
    "from sklearn.metrics import mean_squared_error\n",
    "mean_squared_error(y_test, y_pred, squared=True)"
   ]
  },
  {
   "cell_type": "markdown",
   "metadata": {},
   "source": [
    "# Conclusion"
   ]
  },
  {
   "cell_type": "markdown",
   "metadata": {},
   "source": [
    "To conclude this work, we can say that the TF-IDF outperformed the Doc2Vec approach, despite being pretty old. It's ability to filter the texts and the low complexity of the vectors it creates probably helps models to understand the relationships between dimensions (here words). It is particularly performant since we ran it on the whole texts, previously stemmed, giving the computed frequencies even more meaning."
   ]
  },
  {
   "cell_type": "markdown",
   "metadata": {},
   "source": [
    "About the prediction models, we can see that regression models seem to outperform classification model (even though it's hard to compare them) since they are able to model the years and not just different classes like a classification algorithm would do."
   ]
  },
  {
   "cell_type": "markdown",
   "metadata": {},
   "source": [
    "Also, we saw that models that require few data to train performed better"
   ]
  },
  {
   "cell_type": "code",
   "execution_count": 104,
   "metadata": {},
   "outputs": [],
   "source": [
    "from sklearn.model_selection import RandomizedSearchCV\n",
    "# Number of trees in random forest\n",
    "n_estimators = [int(x) for x in np.linspace(start = 200, stop = 2000, num = 10)]\n",
    "# Number of features to consider at every split\n",
    "max_features = ['auto', 'sqrt']\n",
    "# Maximum number of levels in tree\n",
    "max_depth = [int(x) for x in np.linspace(10, 110, num = 11)]\n",
    "max_depth.append(None)\n",
    "# Minimum number of samples required to split a node\n",
    "min_samples_split = [2, 5, 10]\n",
    "# Minimum number of samples required at each leaf node\n",
    "min_samples_leaf = [1, 2, 4]\n",
    "# Method of selecting samples for training each tree\n",
    "bootstrap = [True, False]\n",
    "# Create the random grid\n",
    "random_grid = {'n_estimators': n_estimators,\n",
    "               'max_features': max_features,\n",
    "               'max_depth': max_depth,\n",
    "               'min_samples_split': min_samples_split,\n",
    "               'min_samples_leaf': min_samples_leaf,\n",
    "               'bootstrap': bootstrap}"
   ]
  },
  {
   "cell_type": "code",
   "execution_count": 107,
   "metadata": {},
   "outputs": [
    {
     "name": "stdout",
     "output_type": "stream",
     "text": [
      "Fitting 3 folds for each of 100 candidates, totalling 300 fits\n"
     ]
    },
    {
     "ename": "KeyboardInterrupt",
     "evalue": "",
     "output_type": "error",
     "traceback": [
      "\u001b[1;31m---------------------------------------------------------------------------\u001b[0m",
      "\u001b[1;31mKeyboardInterrupt\u001b[0m                         Traceback (most recent call last)",
      "\u001b[1;32m<ipython-input-107-7ddb8a3c1af0>\u001b[0m in \u001b[0;36m<module>\u001b[1;34m\u001b[0m\n\u001b[0;32m      7\u001b[0m \u001b[0mrf_random\u001b[0m \u001b[1;33m=\u001b[0m \u001b[0mRandomizedSearchCV\u001b[0m\u001b[1;33m(\u001b[0m\u001b[0mestimator\u001b[0m \u001b[1;33m=\u001b[0m \u001b[0mrf\u001b[0m\u001b[1;33m,\u001b[0m \u001b[0mparam_distributions\u001b[0m \u001b[1;33m=\u001b[0m \u001b[0mrandom_grid\u001b[0m\u001b[1;33m,\u001b[0m \u001b[0mn_iter\u001b[0m \u001b[1;33m=\u001b[0m \u001b[1;36m100\u001b[0m\u001b[1;33m,\u001b[0m \u001b[0mcv\u001b[0m \u001b[1;33m=\u001b[0m \u001b[1;36m3\u001b[0m\u001b[1;33m,\u001b[0m \u001b[0mverbose\u001b[0m\u001b[1;33m=\u001b[0m\u001b[1;36m2\u001b[0m\u001b[1;33m,\u001b[0m \u001b[0mrandom_state\u001b[0m\u001b[1;33m=\u001b[0m\u001b[1;36m42\u001b[0m\u001b[1;33m,\u001b[0m \u001b[0mn_jobs\u001b[0m \u001b[1;33m=\u001b[0m \u001b[1;33m-\u001b[0m\u001b[1;36m1\u001b[0m\u001b[1;33m)\u001b[0m\u001b[1;33m\u001b[0m\u001b[1;33m\u001b[0m\u001b[0m\n\u001b[0;32m      8\u001b[0m \u001b[1;31m# Fit the random search model\u001b[0m\u001b[1;33m\u001b[0m\u001b[1;33m\u001b[0m\u001b[1;33m\u001b[0m\u001b[0m\n\u001b[1;32m----> 9\u001b[1;33m \u001b[0mrf_random\u001b[0m\u001b[1;33m.\u001b[0m\u001b[0mfit\u001b[0m\u001b[1;33m(\u001b[0m\u001b[0mX_train\u001b[0m\u001b[1;33m,\u001b[0m \u001b[0my_train\u001b[0m\u001b[1;33m)\u001b[0m\u001b[1;33m\u001b[0m\u001b[1;33m\u001b[0m\u001b[0m\n\u001b[0m",
      "\u001b[1;32m~\\anaconda3\\lib\\site-packages\\sklearn\\utils\\validation.py\u001b[0m in \u001b[0;36minner_f\u001b[1;34m(*args, **kwargs)\u001b[0m\n\u001b[0;32m     61\u001b[0m             \u001b[0mextra_args\u001b[0m \u001b[1;33m=\u001b[0m \u001b[0mlen\u001b[0m\u001b[1;33m(\u001b[0m\u001b[0margs\u001b[0m\u001b[1;33m)\u001b[0m \u001b[1;33m-\u001b[0m \u001b[0mlen\u001b[0m\u001b[1;33m(\u001b[0m\u001b[0mall_args\u001b[0m\u001b[1;33m)\u001b[0m\u001b[1;33m\u001b[0m\u001b[1;33m\u001b[0m\u001b[0m\n\u001b[0;32m     62\u001b[0m             \u001b[1;32mif\u001b[0m \u001b[0mextra_args\u001b[0m \u001b[1;33m<=\u001b[0m \u001b[1;36m0\u001b[0m\u001b[1;33m:\u001b[0m\u001b[1;33m\u001b[0m\u001b[1;33m\u001b[0m\u001b[0m\n\u001b[1;32m---> 63\u001b[1;33m                 \u001b[1;32mreturn\u001b[0m \u001b[0mf\u001b[0m\u001b[1;33m(\u001b[0m\u001b[1;33m*\u001b[0m\u001b[0margs\u001b[0m\u001b[1;33m,\u001b[0m \u001b[1;33m**\u001b[0m\u001b[0mkwargs\u001b[0m\u001b[1;33m)\u001b[0m\u001b[1;33m\u001b[0m\u001b[1;33m\u001b[0m\u001b[0m\n\u001b[0m\u001b[0;32m     64\u001b[0m \u001b[1;33m\u001b[0m\u001b[0m\n\u001b[0;32m     65\u001b[0m             \u001b[1;31m# extra_args > 0\u001b[0m\u001b[1;33m\u001b[0m\u001b[1;33m\u001b[0m\u001b[1;33m\u001b[0m\u001b[0m\n",
      "\u001b[1;32m~\\anaconda3\\lib\\site-packages\\sklearn\\model_selection\\_search.py\u001b[0m in \u001b[0;36mfit\u001b[1;34m(self, X, y, groups, **fit_params)\u001b[0m\n\u001b[0;32m    839\u001b[0m                 \u001b[1;32mreturn\u001b[0m \u001b[0mresults\u001b[0m\u001b[1;33m\u001b[0m\u001b[1;33m\u001b[0m\u001b[0m\n\u001b[0;32m    840\u001b[0m \u001b[1;33m\u001b[0m\u001b[0m\n\u001b[1;32m--> 841\u001b[1;33m             \u001b[0mself\u001b[0m\u001b[1;33m.\u001b[0m\u001b[0m_run_search\u001b[0m\u001b[1;33m(\u001b[0m\u001b[0mevaluate_candidates\u001b[0m\u001b[1;33m)\u001b[0m\u001b[1;33m\u001b[0m\u001b[1;33m\u001b[0m\u001b[0m\n\u001b[0m\u001b[0;32m    842\u001b[0m \u001b[1;33m\u001b[0m\u001b[0m\n\u001b[0;32m    843\u001b[0m             \u001b[1;31m# multimetric is determined here because in the case of a callable\u001b[0m\u001b[1;33m\u001b[0m\u001b[1;33m\u001b[0m\u001b[1;33m\u001b[0m\u001b[0m\n",
      "\u001b[1;32m~\\anaconda3\\lib\\site-packages\\sklearn\\model_selection\\_search.py\u001b[0m in \u001b[0;36m_run_search\u001b[1;34m(self, evaluate_candidates)\u001b[0m\n\u001b[0;32m   1619\u001b[0m         evaluate_candidates(ParameterSampler(\n\u001b[0;32m   1620\u001b[0m             \u001b[0mself\u001b[0m\u001b[1;33m.\u001b[0m\u001b[0mparam_distributions\u001b[0m\u001b[1;33m,\u001b[0m \u001b[0mself\u001b[0m\u001b[1;33m.\u001b[0m\u001b[0mn_iter\u001b[0m\u001b[1;33m,\u001b[0m\u001b[1;33m\u001b[0m\u001b[1;33m\u001b[0m\u001b[0m\n\u001b[1;32m-> 1621\u001b[1;33m             random_state=self.random_state))\n\u001b[0m",
      "\u001b[1;32m~\\anaconda3\\lib\\site-packages\\sklearn\\model_selection\\_search.py\u001b[0m in \u001b[0;36mevaluate_candidates\u001b[1;34m(candidate_params, cv, more_results)\u001b[0m\n\u001b[0;32m    807\u001b[0m                                    (split_idx, (train, test)) in product(\n\u001b[0;32m    808\u001b[0m                                    \u001b[0menumerate\u001b[0m\u001b[1;33m(\u001b[0m\u001b[0mcandidate_params\u001b[0m\u001b[1;33m)\u001b[0m\u001b[1;33m,\u001b[0m\u001b[1;33m\u001b[0m\u001b[1;33m\u001b[0m\u001b[0m\n\u001b[1;32m--> 809\u001b[1;33m                                    enumerate(cv.split(X, y, groups))))\n\u001b[0m\u001b[0;32m    810\u001b[0m \u001b[1;33m\u001b[0m\u001b[0m\n\u001b[0;32m    811\u001b[0m                 \u001b[1;32mif\u001b[0m \u001b[0mlen\u001b[0m\u001b[1;33m(\u001b[0m\u001b[0mout\u001b[0m\u001b[1;33m)\u001b[0m \u001b[1;33m<\u001b[0m \u001b[1;36m1\u001b[0m\u001b[1;33m:\u001b[0m\u001b[1;33m\u001b[0m\u001b[1;33m\u001b[0m\u001b[0m\n",
      "\u001b[1;32m~\\anaconda3\\lib\\site-packages\\joblib\\parallel.py\u001b[0m in \u001b[0;36m__call__\u001b[1;34m(self, iterable)\u001b[0m\n\u001b[0;32m   1015\u001b[0m \u001b[1;33m\u001b[0m\u001b[0m\n\u001b[0;32m   1016\u001b[0m             \u001b[1;32mwith\u001b[0m \u001b[0mself\u001b[0m\u001b[1;33m.\u001b[0m\u001b[0m_backend\u001b[0m\u001b[1;33m.\u001b[0m\u001b[0mretrieval_context\u001b[0m\u001b[1;33m(\u001b[0m\u001b[1;33m)\u001b[0m\u001b[1;33m:\u001b[0m\u001b[1;33m\u001b[0m\u001b[1;33m\u001b[0m\u001b[0m\n\u001b[1;32m-> 1017\u001b[1;33m                 \u001b[0mself\u001b[0m\u001b[1;33m.\u001b[0m\u001b[0mretrieve\u001b[0m\u001b[1;33m(\u001b[0m\u001b[1;33m)\u001b[0m\u001b[1;33m\u001b[0m\u001b[1;33m\u001b[0m\u001b[0m\n\u001b[0m\u001b[0;32m   1018\u001b[0m             \u001b[1;31m# Make sure that we get a last message telling us we are done\u001b[0m\u001b[1;33m\u001b[0m\u001b[1;33m\u001b[0m\u001b[1;33m\u001b[0m\u001b[0m\n\u001b[0;32m   1019\u001b[0m             \u001b[0melapsed_time\u001b[0m \u001b[1;33m=\u001b[0m \u001b[0mtime\u001b[0m\u001b[1;33m.\u001b[0m\u001b[0mtime\u001b[0m\u001b[1;33m(\u001b[0m\u001b[1;33m)\u001b[0m \u001b[1;33m-\u001b[0m \u001b[0mself\u001b[0m\u001b[1;33m.\u001b[0m\u001b[0m_start_time\u001b[0m\u001b[1;33m\u001b[0m\u001b[1;33m\u001b[0m\u001b[0m\n",
      "\u001b[1;32m~\\anaconda3\\lib\\site-packages\\joblib\\parallel.py\u001b[0m in \u001b[0;36mretrieve\u001b[1;34m(self)\u001b[0m\n\u001b[0;32m    907\u001b[0m             \u001b[1;32mtry\u001b[0m\u001b[1;33m:\u001b[0m\u001b[1;33m\u001b[0m\u001b[1;33m\u001b[0m\u001b[0m\n\u001b[0;32m    908\u001b[0m                 \u001b[1;32mif\u001b[0m \u001b[0mgetattr\u001b[0m\u001b[1;33m(\u001b[0m\u001b[0mself\u001b[0m\u001b[1;33m.\u001b[0m\u001b[0m_backend\u001b[0m\u001b[1;33m,\u001b[0m \u001b[1;34m'supports_timeout'\u001b[0m\u001b[1;33m,\u001b[0m \u001b[1;32mFalse\u001b[0m\u001b[1;33m)\u001b[0m\u001b[1;33m:\u001b[0m\u001b[1;33m\u001b[0m\u001b[1;33m\u001b[0m\u001b[0m\n\u001b[1;32m--> 909\u001b[1;33m                     \u001b[0mself\u001b[0m\u001b[1;33m.\u001b[0m\u001b[0m_output\u001b[0m\u001b[1;33m.\u001b[0m\u001b[0mextend\u001b[0m\u001b[1;33m(\u001b[0m\u001b[0mjob\u001b[0m\u001b[1;33m.\u001b[0m\u001b[0mget\u001b[0m\u001b[1;33m(\u001b[0m\u001b[0mtimeout\u001b[0m\u001b[1;33m=\u001b[0m\u001b[0mself\u001b[0m\u001b[1;33m.\u001b[0m\u001b[0mtimeout\u001b[0m\u001b[1;33m)\u001b[0m\u001b[1;33m)\u001b[0m\u001b[1;33m\u001b[0m\u001b[1;33m\u001b[0m\u001b[0m\n\u001b[0m\u001b[0;32m    910\u001b[0m                 \u001b[1;32melse\u001b[0m\u001b[1;33m:\u001b[0m\u001b[1;33m\u001b[0m\u001b[1;33m\u001b[0m\u001b[0m\n\u001b[0;32m    911\u001b[0m                     \u001b[0mself\u001b[0m\u001b[1;33m.\u001b[0m\u001b[0m_output\u001b[0m\u001b[1;33m.\u001b[0m\u001b[0mextend\u001b[0m\u001b[1;33m(\u001b[0m\u001b[0mjob\u001b[0m\u001b[1;33m.\u001b[0m\u001b[0mget\u001b[0m\u001b[1;33m(\u001b[0m\u001b[1;33m)\u001b[0m\u001b[1;33m)\u001b[0m\u001b[1;33m\u001b[0m\u001b[1;33m\u001b[0m\u001b[0m\n",
      "\u001b[1;32m~\\anaconda3\\lib\\site-packages\\joblib\\_parallel_backends.py\u001b[0m in \u001b[0;36mwrap_future_result\u001b[1;34m(future, timeout)\u001b[0m\n\u001b[0;32m    560\u001b[0m         AsyncResults.get from multiprocessing.\"\"\"\n\u001b[0;32m    561\u001b[0m         \u001b[1;32mtry\u001b[0m\u001b[1;33m:\u001b[0m\u001b[1;33m\u001b[0m\u001b[1;33m\u001b[0m\u001b[0m\n\u001b[1;32m--> 562\u001b[1;33m             \u001b[1;32mreturn\u001b[0m \u001b[0mfuture\u001b[0m\u001b[1;33m.\u001b[0m\u001b[0mresult\u001b[0m\u001b[1;33m(\u001b[0m\u001b[0mtimeout\u001b[0m\u001b[1;33m=\u001b[0m\u001b[0mtimeout\u001b[0m\u001b[1;33m)\u001b[0m\u001b[1;33m\u001b[0m\u001b[1;33m\u001b[0m\u001b[0m\n\u001b[0m\u001b[0;32m    563\u001b[0m         \u001b[1;32mexcept\u001b[0m \u001b[0mLokyTimeoutError\u001b[0m\u001b[1;33m:\u001b[0m\u001b[1;33m\u001b[0m\u001b[1;33m\u001b[0m\u001b[0m\n\u001b[0;32m    564\u001b[0m             \u001b[1;32mraise\u001b[0m \u001b[0mTimeoutError\u001b[0m\u001b[1;33m(\u001b[0m\u001b[1;33m)\u001b[0m\u001b[1;33m\u001b[0m\u001b[1;33m\u001b[0m\u001b[0m\n",
      "\u001b[1;32m~\\anaconda3\\lib\\concurrent\\futures\\_base.py\u001b[0m in \u001b[0;36mresult\u001b[1;34m(self, timeout)\u001b[0m\n\u001b[0;32m    428\u001b[0m                 \u001b[1;32mreturn\u001b[0m \u001b[0mself\u001b[0m\u001b[1;33m.\u001b[0m\u001b[0m__get_result\u001b[0m\u001b[1;33m(\u001b[0m\u001b[1;33m)\u001b[0m\u001b[1;33m\u001b[0m\u001b[1;33m\u001b[0m\u001b[0m\n\u001b[0;32m    429\u001b[0m \u001b[1;33m\u001b[0m\u001b[0m\n\u001b[1;32m--> 430\u001b[1;33m             \u001b[0mself\u001b[0m\u001b[1;33m.\u001b[0m\u001b[0m_condition\u001b[0m\u001b[1;33m.\u001b[0m\u001b[0mwait\u001b[0m\u001b[1;33m(\u001b[0m\u001b[0mtimeout\u001b[0m\u001b[1;33m)\u001b[0m\u001b[1;33m\u001b[0m\u001b[1;33m\u001b[0m\u001b[0m\n\u001b[0m\u001b[0;32m    431\u001b[0m \u001b[1;33m\u001b[0m\u001b[0m\n\u001b[0;32m    432\u001b[0m             \u001b[1;32mif\u001b[0m \u001b[0mself\u001b[0m\u001b[1;33m.\u001b[0m\u001b[0m_state\u001b[0m \u001b[1;32min\u001b[0m \u001b[1;33m[\u001b[0m\u001b[0mCANCELLED\u001b[0m\u001b[1;33m,\u001b[0m \u001b[0mCANCELLED_AND_NOTIFIED\u001b[0m\u001b[1;33m]\u001b[0m\u001b[1;33m:\u001b[0m\u001b[1;33m\u001b[0m\u001b[1;33m\u001b[0m\u001b[0m\n",
      "\u001b[1;32m~\\anaconda3\\lib\\threading.py\u001b[0m in \u001b[0;36mwait\u001b[1;34m(self, timeout)\u001b[0m\n\u001b[0;32m    294\u001b[0m         \u001b[1;32mtry\u001b[0m\u001b[1;33m:\u001b[0m    \u001b[1;31m# restore state no matter what (e.g., KeyboardInterrupt)\u001b[0m\u001b[1;33m\u001b[0m\u001b[1;33m\u001b[0m\u001b[0m\n\u001b[0;32m    295\u001b[0m             \u001b[1;32mif\u001b[0m \u001b[0mtimeout\u001b[0m \u001b[1;32mis\u001b[0m \u001b[1;32mNone\u001b[0m\u001b[1;33m:\u001b[0m\u001b[1;33m\u001b[0m\u001b[1;33m\u001b[0m\u001b[0m\n\u001b[1;32m--> 296\u001b[1;33m                 \u001b[0mwaiter\u001b[0m\u001b[1;33m.\u001b[0m\u001b[0macquire\u001b[0m\u001b[1;33m(\u001b[0m\u001b[1;33m)\u001b[0m\u001b[1;33m\u001b[0m\u001b[1;33m\u001b[0m\u001b[0m\n\u001b[0m\u001b[0;32m    297\u001b[0m                 \u001b[0mgotit\u001b[0m \u001b[1;33m=\u001b[0m \u001b[1;32mTrue\u001b[0m\u001b[1;33m\u001b[0m\u001b[1;33m\u001b[0m\u001b[0m\n\u001b[0;32m    298\u001b[0m             \u001b[1;32melse\u001b[0m\u001b[1;33m:\u001b[0m\u001b[1;33m\u001b[0m\u001b[1;33m\u001b[0m\u001b[0m\n",
      "\u001b[1;31mKeyboardInterrupt\u001b[0m: "
     ]
    }
   ],
   "source": [
    "from sklearn.ensemble import RandomForestRegressor\n",
    "# Use the random grid to search for best hyperparameters\n",
    "# First create the base model to tune\n",
    "rf = RandomForestRegressor()\n",
    "# Random search of parameters, using 3 fold cross validation, \n",
    "# search across 100 different combinations, and use all available cores\n",
    "rf_random = RandomizedSearchCV(estimator = rf, param_distributions = random_grid, n_iter = 100, cv = 3, verbose=2, random_state=42, n_jobs = -1)\n",
    "# Fit the random search model\n",
    "rf_random.fit(X_train, y_train)"
   ]
  },
  {
   "cell_type": "code",
   "execution_count": null,
   "metadata": {},
   "outputs": [],
   "source": []
  }
 ],
 "metadata": {
  "kernelspec": {
   "display_name": "Python 3",
   "language": "python",
   "name": "python3"
  },
  "language_info": {
   "codemirror_mode": {
    "name": "ipython",
    "version": 3
   },
   "file_extension": ".py",
   "mimetype": "text/x-python",
   "name": "python",
   "nbconvert_exporter": "python",
   "pygments_lexer": "ipython3",
   "version": "3.7.6"
  }
 },
 "nbformat": 4,
 "nbformat_minor": 4
}
